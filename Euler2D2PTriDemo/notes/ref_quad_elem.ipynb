{
 "cells": [
  {
   "cell_type": "code",
   "execution_count": 1,
   "metadata": {},
   "outputs": [],
   "source": [
    "using LinearAlgebra;\n",
    "import PyPlot as plt;\n",
    "import SymPy as sp;\n",
    "plt.rc(\"text\", usetex=true);\n",
    "images_path = \".//images\";"
   ]
  },
  {
   "cell_type": "markdown",
   "metadata": {},
   "source": [
    "# Reference Quadrature Element"
   ]
  },
  {
   "cell_type": "code",
   "execution_count": 2,
   "metadata": {},
   "outputs": [],
   "source": [
    "local_coords = [\n",
    "    -1. -1.;\n",
    "    1. -1.;\n",
    "    1. 1.;\n",
    "    -1. 1.\n",
    "];"
   ]
  },
  {
   "cell_type": "code",
   "execution_count": 3,
   "metadata": {},
   "outputs": [
    {
     "data": {
      "image/png": "[encoded data removed]",
      "text/plain": [
       "PyPlot.Figure(PyObject <Figure size 800x500 with 1 Axes>)"
      ]
     },
     "metadata": {},
     "output_type": "display_data"
    },
    {
     "name": "stderr",
     "output_type": "stream",
     "text": [
      "sys:1: UserWarning: Matplotlib is currently using agg, which is a non-GUI backend, so cannot show the figure.\n"
     ]
    }
   ],
   "source": [
    "reference_quad_elem_figure = plt.figure(figsize=(8,5), facecolor=\"white\");\n",
    "reference_quad_elem_axes = reference_quad_elem_figure.add_subplot(1, 1, 1);\n",
    "\n",
    "reference_quad_elem_axes.set_aspect(\"equal\");\n",
    "# larger bounding box\n",
    "reference_quad_elem_axes.set_xlim(-1.2, 1.3);\n",
    "reference_quad_elem_axes.set_ylim(-1.2, 1.3);\n",
    "\n",
    "for i_node in 1:4\n",
    "    reference_quad_elem_axes.scatter(local_coords[i_node, 1], local_coords[i_node, 2], color=\"red\", zorder=10);\n",
    "    reference_quad_elem_axes.text(local_coords[i_node, 1]+0.02, local_coords[i_node, 2]+0.02, \"node $i_node\", fontsize=10);\n",
    "end;\n",
    "\n",
    "for i_node in 1:4\n",
    "    next_node_index = mod(i_node, 4) + 1;\n",
    "    reference_quad_elem_axes.plot(\n",
    "        [local_coords[i_node, 1], local_coords[next_node_index, 1]],\n",
    "        [local_coords[i_node, 2], local_coords[next_node_index, 2]],\n",
    "        color=\"blue\"\n",
    "    );\n",
    "end\n",
    "\n",
    "reference_quad_elem_axes.fill(\n",
    "    local_coords[:, 1],\n",
    "    local_coords[:, 2],\n",
    "    color=\"lightblue\",\n",
    "    alpha=0.5\n",
    ");\n",
    "\n",
    "reference_quad_elem_axes.arrow(0, 0, 0.2, 0, head_width=0.02, head_length=0.02, fc=\"k\", ec=\"k\");\n",
    "reference_quad_elem_axes.text(0.2, 0.02, raw\"$\\xi$\", fontsize=10);\n",
    "reference_quad_elem_axes.arrow(0, 0, 0, 0.2, head_width=0.02, head_length=0.02, fc=\"k\", ec=\"k\");\n",
    "reference_quad_elem_axes.text(0.02, 0.2, raw\"$\\eta$\", fontsize=10);\n",
    "\n",
    "display(reference_quad_elem_figure)\n",
    "\n",
    "reference_quad_elem_figure.show()"
   ]
  },
  {
   "cell_type": "markdown",
   "metadata": {},
   "source": [
    "# Transformation\n",
    "\n",
    "$$\n",
    "\\begin{bmatrix}\n",
    "x\\\\ y\n",
    "\\end{bmatrix}=\n",
    "\\begin{bmatrix}\n",
    "A_0 + A_1\\xi + A_2\\eta + A_3\\xi\\eta\\\\\n",
    "B_0 + B_1\\xi + B_2\\eta + B_3\\xi\\eta\n",
    "\\end{bmatrix}\n",
    "$$\n",
    "\n",
    "Thus:\n",
    "\n",
    "$$\n",
    "\\begin{bmatrix}\n",
    "x_1 \\\\ x_2 \\\\ x_3 \\\\ x_4\n",
    "\\end{bmatrix}=\n",
    "\\begin{bmatrix}\n",
    "1 & \\xi_1 & \\eta_1 & \\xi_1\\eta_1\\\\\n",
    "1 & \\xi_2 & \\eta_2 & \\xi_2\\eta_2\\\\\n",
    "1 & \\xi_3 & \\eta_3 & \\xi_3\\eta_3\\\\\n",
    "1 & \\xi_4 & \\eta_4 & \\xi_4\\eta_4\n",
    "\\end{bmatrix}\n",
    "\\begin{bmatrix}\n",
    "A_0 \\\\ A_1 \\\\ A_2 \\\\ A_3\n",
    "\\end{bmatrix}\n",
    "$$"
   ]
  },
  {
   "cell_type": "code",
   "execution_count": 5,
   "metadata": {},
   "outputs": [],
   "source": [
    "x_1, y_1 = sp.symbols(\"x_1, y_1\");\n",
    "x_2, y_2 = sp.symbols(\"x_2, y_2\");\n",
    "x_3, y_3 = sp.symbols(\"x_3, y_3\");\n",
    "x_4, y_4 = sp.symbols(\"x_4, y_4\");\n",
    "xi, eta = sp.symbols(\"xi, eta\");"
   ]
  },
  {
   "cell_type": "code",
   "execution_count": 6,
   "metadata": {},
   "outputs": [
    {
     "data": {
      "text/plain": [
       "4×4 Matrix{Float64}:\n",
       " 1.0  -1.0  -1.0   1.0\n",
       " 1.0   1.0  -1.0  -1.0\n",
       " 1.0   1.0   1.0   1.0\n",
       " 1.0  -1.0   1.0  -1.0"
      ]
     },
     "metadata": {},
     "output_type": "display_data"
    }
   ],
   "source": [
    "n_nodes = size(local_coords, 1);\n",
    "coeff_to_node = zeros(n_nodes, n_nodes);\n",
    "for i = 1:n_nodes\n",
    "    coeff_to_node[i, :] = [1., local_coords[i, 1], local_coords[i, 2], local_coords[i, 1]*local_coords[i, 2]];\n",
    "end;\n",
    "coeff_to_node"
   ]
  },
  {
   "cell_type": "code",
   "execution_count": 7,
   "metadata": {},
   "outputs": [
    {
     "data": {
      "text/plain": [
       "4×4 Matrix{Float64}:\n",
       "  0.25   0.25  0.25   0.25\n",
       " -0.25   0.25  0.25  -0.25\n",
       " -0.25  -0.25  0.25   0.25\n",
       "  0.25  -0.25  0.25  -0.25"
      ]
     },
     "metadata": {},
     "output_type": "display_data"
    }
   ],
   "source": [
    "node_to_coeff = inv(coeff_to_node);\n",
    "node_to_coeff"
   ]
  },
  {
   "cell_type": "code",
   "execution_count": 12,
   "metadata": {},
   "outputs": [
    {
     "data": {
      "text/latex": [
       "$\\frac{\\eta \\xi \\left(x_{1} - x_{2} + x_{3} - x_{4}\\right)}{4} - \\frac{\\eta \\left(x_{1} + x_{2} - x_{3} - x_{4}\\right)}{4} + \\frac{x_{1}}{4} + \\frac{x_{2}}{4} + \\frac{x_{3}}{4} + \\frac{x_{4}}{4} - \\frac{\\xi \\left(x_{1} - x_{2} - x_{3} + x_{4}\\right)}{4}$"
      ],
      "text/plain": [
       "η⋅ξ⋅(x₁ - x₂ + x₃ - x₄)   η⋅(x₁ + x₂ - x₃ - x₄)   x₁   x₂   x₃   x₄   ξ⋅(x₁ - \n",
       "─────────────────────── - ───────────────────── + ── + ── + ── + ── - ────────\n",
       "           4                        4             4    4    4    4            \n",
       "\n",
       "x₂ - x₃ + x₄)\n",
       "─────────────\n",
       "  4          "
      ]
     },
     "metadata": {},
     "output_type": "display_data"
    }
   ],
   "source": [
    "A_0, A_1, A_2, A_3 = Rational.(node_to_coeff) * [x_1, x_2, x_3, x_4];\n",
    "x = A_0 + A_1*xi + A_2*eta + A_3*xi*eta;\n",
    "x = x.simplify();\n",
    "x"
   ]
  },
  {
   "cell_type": "code",
   "execution_count": 13,
   "metadata": {},
   "outputs": [
    {
     "data": {
      "text/latex": [
       "$\\frac{\\eta \\xi \\left(y_{1} - y_{2} + y_{3} - y_{4}\\right)}{4} - \\frac{\\eta \\left(y_{1} + y_{2} - y_{3} - y_{4}\\right)}{4} - \\frac{\\xi \\left(y_{1} - y_{2} - y_{3} + y_{4}\\right)}{4} + \\frac{y_{1}}{4} + \\frac{y_{2}}{4} + \\frac{y_{3}}{4} + \\frac{y_{4}}{4}$"
      ],
      "text/plain": [
       "η⋅ξ⋅(y₁ - y₂ + y₃ - y₄)   η⋅(y₁ + y₂ - y₃ - y₄)   ξ⋅(y₁ - y₂ - y₃ + y₄)   y₁  \n",
       "─────────────────────── - ───────────────────── - ───────────────────── + ── +\n",
       "           4                        4                       4             4   \n",
       "\n",
       " y₂   y₃   y₄\n",
       " ── + ── + ──\n",
       " 4    4    4 "
      ]
     },
     "metadata": {},
     "output_type": "display_data"
    }
   ],
   "source": [
    "B_0, B_1, B_2, B_3 = Rational.(node_to_coeff) * [y_1, y_2, y_3, y_4];\n",
    "y = B_0 + B_1*xi + B_2*eta + B_3*xi*eta;\n",
    "y = y.simplify();\n",
    "y"
   ]
  },
  {
   "cell_type": "code",
   "execution_count": 14,
   "metadata": {},
   "outputs": [
    {
     "data": {
      "text/latex": [
       "$\\left[ \\begin{array}{rr}\\frac{\\eta \\left(x_{1} - x_{2} + x_{3} - x_{4}\\right)}{4} - \\frac{x_{1}}{4} + \\frac{x_{2}}{4} + \\frac{x_{3}}{4} - \\frac{x_{4}}{4}&- \\frac{x_{1}}{4} - \\frac{x_{2}}{4} + \\frac{x_{3}}{4} + \\frac{x_{4}}{4} + \\frac{\\xi \\left(x_{1} - x_{2} + x_{3} - x_{4}\\right)}{4}\\\\\\frac{\\eta \\left(y_{1} - y_{2} + y_{3} - y_{4}\\right)}{4} - \\frac{y_{1}}{4} + \\frac{y_{2}}{4} + \\frac{y_{3}}{4} - \\frac{y_{4}}{4}&\\frac{\\xi \\left(y_{1} - y_{2} + y_{3} - y_{4}\\right)}{4} - \\frac{y_{1}}{4} - \\frac{y_{2}}{4} + \\frac{y_{3}}{4} + \\frac{y_{4}}{4}\\end{array}\\right]$\n"
      ],
      "text/plain": [
       "2×2 Matrix{SymPy.Sym}:\n",
       " eta*(x_1 - x_2 + x_3 - x_4)/4 - x_1/4 + x_2/4 + x_3/4 - x_4/4  …  -x_1/4 - x_2/4 + x_3/4 + x_4/4 + xi*(x_1 - x_2 + x_3 - x_4)/4\n",
       " eta*(y_1 - y_2 + y_3 - y_4)/4 - y_1/4 + y_2/4 + y_3/4 - y_4/4      xi*(y_1 - y_2 + y_3 - y_4)/4 - y_1/4 - y_2/4 + y_3/4 + y_4/4"
      ]
     },
     "metadata": {},
     "output_type": "display_data"
    }
   ],
   "source": [
    "jacobian_matrix = sp.Matrix([x y]).jacobian(sp.Matrix([xi eta]));\n",
    "jacobian_matrix"
   ]
  },
  {
   "cell_type": "code",
   "execution_count": 16,
   "metadata": {},
   "outputs": [
    {
     "data": {
      "text/latex": [
       "$- \\frac{\\eta x_{1} y_{2}}{8} + \\frac{\\eta x_{1} y_{3}}{8} + \\frac{\\eta x_{2} y_{1}}{8} - \\frac{\\eta x_{2} y_{4}}{8} - \\frac{\\eta x_{3} y_{1}}{8} + \\frac{\\eta x_{3} y_{4}}{8} + \\frac{\\eta x_{4} y_{2}}{8} - \\frac{\\eta x_{4} y_{3}}{8} - \\frac{x_{1} \\xi y_{3}}{8} + \\frac{x_{1} \\xi y_{4}}{8} + \\frac{x_{1} y_{2}}{8} - \\frac{x_{1} y_{4}}{8} + \\frac{x_{2} \\xi y_{3}}{8} - \\frac{x_{2} \\xi y_{4}}{8} - \\frac{x_{2} y_{1}}{8} + \\frac{x_{2} y_{3}}{8} + \\frac{x_{3} \\xi y_{1}}{8} - \\frac{x_{3} \\xi y_{2}}{8} - \\frac{x_{3} y_{2}}{8} + \\frac{x_{3} y_{4}}{8} - \\frac{x_{4} \\xi y_{1}}{8} + \\frac{x_{4} \\xi y_{2}}{8} + \\frac{x_{4} y_{1}}{8} - \\frac{x_{4} y_{3}}{8}$"
      ],
      "text/plain": [
       "  η⋅x₁⋅y₂   η⋅x₁⋅y₃   η⋅x₂⋅y₁   η⋅x₂⋅y₄   η⋅x₃⋅y₁   η⋅x₃⋅y₄   η⋅x₄⋅y₂   η⋅x₄⋅y\n",
       "- ─────── + ─────── + ─────── - ─────── - ─────── + ─────── + ─────── - ──────\n",
       "     8         8         8         8         8         8         8         8  \n",
       "\n",
       "₃   x₁⋅ξ⋅y₃   x₁⋅ξ⋅y₄   x₁⋅y₂   x₁⋅y₄   x₂⋅ξ⋅y₃   x₂⋅ξ⋅y₄   x₂⋅y₁   x₂⋅y₃   x₃\n",
       "─ - ─────── + ─────── + ───── - ───── + ─────── - ─────── - ───── + ───── + ──\n",
       "       8         8        8       8        8         8        8       8       \n",
       "\n",
       "⋅ξ⋅y₁   x₃⋅ξ⋅y₂   x₃⋅y₂   x₃⋅y₄   x₄⋅ξ⋅y₁   x₄⋅ξ⋅y₂   x₄⋅y₁   x₄⋅y₃\n",
       "───── - ─────── - ───── + ───── - ─────── + ─────── + ───── - ─────\n",
       " 8         8        8       8        8         8        8       8  "
      ]
     },
     "metadata": {},
     "output_type": "display_data"
    }
   ],
   "source": [
    "jacobian_det = jacobian_matrix.det();\n",
    "jacobian_det = jacobian_det.simplify();\n",
    "jacobian_det\n",
    "# println(sp.latex(jacobian_det))"
   ]
  },
  {
   "cell_type": "markdown",
   "metadata": {},
   "source": [
    "Jacobi matrix:\n",
    "\n",
    "$$\n",
    "J=\n",
    "\\begin{bmatrix}\n",
    "\\frac{\\partial x}{\\partial \\xi} & \\frac{\\partial x}{\\partial \\eta}\\\\\n",
    "\\frac{\\partial y}{\\partial \\xi} & \\frac{\\partial y}{\\partial \\eta}\n",
    "\\end{bmatrix}=\n",
    "\\begin{bmatrix}\n",
    "\n",
    "$$"
   ]
  },
  {
   "cell_type": "code",
   "execution_count": 22,
   "metadata": {},
   "outputs": [
    {
     "data": {
      "text/plain": [
       "2×2 Matrix{String}:\n",
       " \"\\\\frac{\\\\eta \\\\left(x_{1} - x_{2} \" ⋯ 67 bytes ⋯ \"rac{x_{3}}{4} - \\\\frac{x_{4}}{4}\"  …  \"- \\\\frac{x_{1}}{4} - \\\\frac{x_{2}\" ⋯ 68 bytes ⋯ \"_{2} + x_{3} - x_{4}\\\\right)}{4}\"\n",
       " \"\\\\frac{\\\\eta \\\\left(y_{1} - y_{2} \" ⋯ 67 bytes ⋯ \"rac{y_{3}}{4} - \\\\frac{y_{4}}{4}\"     \"\\\\frac{\\\\xi \\\\left(y_{1} - y_{2} +\" ⋯ 66 bytes ⋯ \"rac{y_{3}}{4} + \\\\frac{y_{4}}{4}\""
      ]
     },
     "metadata": {},
     "output_type": "display_data"
    }
   ],
   "source": [
    "sp.latex.(jacobian_matrix)"
   ]
  },
  {
   "cell_type": "code",
   "execution_count": null,
   "metadata": {},
   "outputs": [],
   "source": []
  }
 ],
 "metadata": {
  "kernelspec": {
   "display_name": "Julia 1.8.0",
   "language": "julia",
   "name": "julia-1.8"
  },
  "language_info": {
   "file_extension": ".jl",
   "mimetype": "application/julia",
   "name": "julia",
   "version": "1.8.0"
  },
  "orig_nbformat": 4
 },
 "nbformat": 4,
 "nbformat_minor": 2
}
