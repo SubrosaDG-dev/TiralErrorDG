{
 "cells": [
  {
   "cell_type": "code",
   "execution_count": 41,
   "metadata": {},
   "outputs": [],
   "source": [
    "using LinearAlgebra;\n",
    "import PyPlot as plt;\n",
    "import SymPy as sp;\n",
    "plt.rc(\"text\", usetex=true);\n",
    "images_path = \".//images\";"
   ]
  },
  {
   "cell_type": "markdown",
   "metadata": {},
   "source": [
    "# Reference Triangle Element"
   ]
  },
  {
   "cell_type": "code",
   "execution_count": 2,
   "metadata": {},
   "outputs": [],
   "source": [
    "local_coords = [\n",
    "    0. 0.;\n",
    "    1. 0.;\n",
    "    0. 1.;\n",
    "];"
   ]
  },
  {
   "cell_type": "code",
   "execution_count": 43,
   "metadata": {},
   "outputs": [
    {
     "data": {
      "image/png": "[encoded data removed]",
      "text/plain": [
       "PyPlot.Figure(PyObject <Figure size 800x500 with 1 Axes>)"
      ]
     },
     "metadata": {},
     "output_type": "display_data"
    },
    {
     "name": "stderr",
     "output_type": "stream",
     "text": [
      "sys:1: UserWarning: Matplotlib is currently using agg, which is a non-GUI backend, so cannot show the figure.\n"
     ]
    }
   ],
   "source": [
    "reference_tri_elem_figure = plt.figure(figsize=(8,5), facecolor=\"white\");\n",
    "reference_tri_elem_axes = reference_tri_elem_figure.add_subplot(1, 1, 1);\n",
    "\n",
    "reference_tri_elem_axes.set_aspect(\"equal\");\n",
    "# larger bounding box\n",
    "reference_tri_elem_axes.set_xlim(-0.2, 1.2);\n",
    "reference_tri_elem_axes.set_ylim(-0.2, 1.2);\n",
    "\n",
    "for i_node in 1:3\n",
    "    reference_tri_elem_axes.scatter(local_coords[i_node, 1], local_coords[i_node, 2], color=\"red\", zorder=10);\n",
    "    reference_tri_elem_axes.text(local_coords[i_node, 1]+0.02, local_coords[i_node, 2]+0.02, \"node $i_node\", fontsize=10);\n",
    "end\n",
    "\n",
    "for i_node in 1:3\n",
    "    next_node_index = mod(i_node, 3)+1;\n",
    "    reference_tri_elem_axes.plot([local_coords[i_node, 1], local_coords[next_node_index, 1]], [local_coords[i_node, 2], local_coords[next_node_index, 2]], color=\"blue\");\n",
    "end\n",
    "\n",
    "reference_tri_elem_axes.fill(local_coords[:, 1], local_coords[:, 2], color=\"lightblue\", alpha=0.5);\n",
    "\n",
    "reference_tri_elem_axes.arrow(0.7, 0.7, 0.2, 0, head_width=0.02, head_length=0.02, fc=\"k\", ec=\"k\");\n",
    "reference_tri_elem_axes.text(0.9, 0.65, raw\"$\\xi$\", fontsize=10);\n",
    "reference_tri_elem_axes.arrow(0.7, 0.7, 0, 0.2, head_width=0.02, head_length=0.02, fc=\"k\", ec=\"k\");\n",
    "reference_tri_elem_axes.text(0.65, 0.9, raw\"$\\eta$\", fontsize=10);\n",
    "\n",
    "display(reference_tri_elem_figure);\n",
    "\n",
    "reference_tri_elem_figure.savefig(joinpath(images_path, \"reference_tri_elem.png\"), dpi=300, bbox_inches=\"tight\");\n",
    "reference_tri_elem_figure.show();"
   ]
  },
  {
   "cell_type": "markdown",
   "metadata": {},
   "source": [
    "# Transformation\n",
    "\n",
    "$$\n",
    "\\begin{bmatrix}\n",
    "x\\\\ y\n",
    "\\end{bmatrix}=\n",
    "\\begin{bmatrix}\n",
    "A_1 + A_2\\xi + A_3\\eta\\\\\n",
    "B_1 + B_2\\xi + B_3\\eta\n",
    "\\end{bmatrix}\n",
    "$$\n",
    "\n",
    "Also can be written as:\n",
    "\n",
    "$$\n",
    "\\begin{bmatrix}\n",
    "x\\\\ y\n",
    "\\end{bmatrix}=\n",
    "\\begin{bmatrix}\n",
    "A_2 & A_3\\\\\n",
    "B_2 & B_3\n",
    "\\end{bmatrix}\n",
    "\\begin{bmatrix}\n",
    "\\xi\\\\ \\eta\n",
    "\\end{bmatrix}+\n",
    "\\begin{bmatrix}\n",
    "A_1\\\\ B_1\n",
    "\\end{bmatrix}\n",
    "$$\n",
    "\n",
    "Thus:\n",
    "\n",
    "$$\n",
    "\\begin{bmatrix}\n",
    "x_1 \\\\ x_2 \\\\ x_3\n",
    "\\end{bmatrix}=\n",
    "\\begin{bmatrix}\n",
    "1 & \\xi_1 & \\eta_1\\\\\n",
    "1 & \\xi_2 & \\eta_2\\\\\n",
    "1 & \\xi_3 & \\eta_3\n",
    "\\end{bmatrix}\n",
    "\\begin{bmatrix}\n",
    "A_1\\\\ A_2\\\\ A_3\n",
    "\\end{bmatrix}\n",
    "$$"
   ]
  },
  {
   "cell_type": "code",
   "execution_count": 4,
   "metadata": {},
   "outputs": [],
   "source": [
    "x_1, y_1 = sp.symbols(\"x_1, y_1\");\n",
    "x_2, y_2 = sp.symbols(\"x_2, y_2\");\n",
    "x_3, y_3 = sp.symbols(\"x_3, y_3\");\n",
    "xi, eta = sp.symbols(\"xi, eta\");"
   ]
  },
  {
   "cell_type": "code",
   "execution_count": 5,
   "metadata": {},
   "outputs": [
    {
     "data": {
      "text/plain": [
       "3×3 Matrix{Float64}:\n",
       " 1.0  0.0  0.0\n",
       " 1.0  1.0  0.0\n",
       " 1.0  0.0  1.0"
      ]
     },
     "metadata": {},
     "output_type": "display_data"
    }
   ],
   "source": [
    "coeff_to_node = hcat([1, 1, 1], local_coords);\n",
    "coeff_to_node"
   ]
  },
  {
   "cell_type": "code",
   "execution_count": 6,
   "metadata": {},
   "outputs": [
    {
     "data": {
      "text/plain": [
       "3×3 Matrix{Float64}:\n",
       "  1.0  0.0  0.0\n",
       " -1.0  1.0  0.0\n",
       " -1.0  0.0  1.0"
      ]
     },
     "metadata": {},
     "output_type": "display_data"
    }
   ],
   "source": [
    "node_to_coeff = inv(coeff_to_node);\n",
    "node_to_coeff"
   ]
  },
  {
   "cell_type": "code",
   "execution_count": 7,
   "metadata": {},
   "outputs": [
    {
     "data": {
      "text/latex": [
       "$- \\eta \\left(x_{1} - x_{3}\\right) + x_{1} - \\xi \\left(x_{1} - x_{2}\\right)$"
      ],
      "text/plain": [
       "-η⋅(x₁ - x₃) + x₁ - ξ⋅(x₁ - x₂)"
      ]
     },
     "metadata": {},
     "output_type": "display_data"
    }
   ],
   "source": [
    "A_1, A_2, A_3 = Int64.(node_to_coeff) * [x_1, x_2, x_3];\n",
    "x = A_1 + A_2*xi + A_3*eta;\n",
    "x = x.simplify();\n",
    "x"
   ]
  },
  {
   "cell_type": "code",
   "execution_count": 11,
   "metadata": {},
   "outputs": [
    {
     "data": {
      "text/latex": [
       "$- \\eta \\left(y_{1} - y_{3}\\right) - \\xi \\left(y_{1} - y_{2}\\right) + y_{1}$"
      ],
      "text/plain": [
       "-η⋅(y₁ - y₃) - ξ⋅(y₁ - y₂) + y₁"
      ]
     },
     "metadata": {},
     "output_type": "display_data"
    }
   ],
   "source": [
    "B_1, B_2, B_3 = Int64.(node_to_coeff) * [y_1, y_2, y_3];\n",
    "y = B_1 + B_2*xi + B_3*eta;\n",
    "y = y.simplify();\n",
    "y"
   ]
  },
  {
   "cell_type": "code",
   "execution_count": 12,
   "metadata": {},
   "outputs": [
    {
     "data": {
      "text/latex": [
       "$\\left[ \\begin{array}{rr}- x_{1} + x_{2}&- x_{1} + x_{3}\\\\- y_{1} + y_{2}&- y_{1} + y_{3}\\end{array}\\right]$\n"
      ],
      "text/plain": [
       "2×2 Matrix{SymPy.Sym}:\n",
       " -x₁ + x₂  -x₁ + x₃\n",
       " -y₁ + y₂  -y₁ + y₃"
      ]
     },
     "metadata": {},
     "output_type": "display_data"
    }
   ],
   "source": [
    "jacobian_matrix = sp.Matrix([x y]).jacobian(sp.Matrix([xi eta]));\n",
    "jacobian_matrix"
   ]
  },
  {
   "cell_type": "code",
   "execution_count": 38,
   "metadata": {},
   "outputs": [
    {
     "data": {
      "text/latex": [
       "$x_{1} y_{2} - x_{1} y_{3} - x_{2} y_{1} + x_{2} y_{3} + x_{3} y_{1} - x_{3} y_{2}$"
      ],
      "text/plain": [
       "x₁⋅y₂ - x₁⋅y₃ - x₂⋅y₁ + x₂⋅y₃ + x₃⋅y₁ - x₃⋅y₂"
      ]
     },
     "metadata": {},
     "output_type": "display_data"
    }
   ],
   "source": [
    "jacobian_det = jacobian_matrix.det();\n",
    "jacobian_det\n",
    "# println(sp.latex(jacobian_det))"
   ]
  },
  {
   "cell_type": "markdown",
   "metadata": {},
   "source": [
    "Jacobi matrix:\n",
    "\n",
    "$$\n",
    "J=\n",
    "\\begin{bmatrix}\n",
    "\\frac{\\partial x}{\\partial \\xi} & \\frac{\\partial x}{\\partial \\eta}\\\\\n",
    "\\frac{\\partial y}{\\partial \\xi} & \\frac{\\partial y}{\\partial \\eta}\n",
    "\\end{bmatrix}=\n",
    "\\begin{bmatrix}\n",
    "-x_1 + x_2 & -x_1 + x_3\\\\\n",
    "-y_1 + y_2 & -y_1 + y_3\n",
    "\\end{bmatrix}\n",
    "$$\n",
    "\n",
    "it's obvious that the jacobi matrix is constant. Also the determinant of the jacobi matrix is constant:\n",
    "\n",
    "$$\n",
    "det(J)=x_{1} y_{2} - x_{1} y_{3} - x_{2} y_{1} + x_{2} y_{3} + x_{3} y_{1} - x_{3} y_{2}\n",
    "$$"
   ]
  },
  {
   "cell_type": "code",
   "execution_count": null,
   "metadata": {},
   "outputs": [],
   "source": []
  }
 ],
 "metadata": {
  "kernelspec": {
   "display_name": "Julia 1.8.0",
   "language": "julia",
   "name": "julia-1.8"
  },
  "language_info": {
   "file_extension": ".jl",
   "mimetype": "application/julia",
   "name": "julia",
   "version": "1.8.0"
  },
  "orig_nbformat": 4
 },
 "nbformat": 4,
 "nbformat_minor": 2
}
