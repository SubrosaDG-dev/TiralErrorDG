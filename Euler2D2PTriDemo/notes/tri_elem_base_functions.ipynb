{
 "cells": [
  {
   "cell_type": "code",
   "execution_count": 1,
   "metadata": {},
   "outputs": [],
   "source": [
    "using LinearAlgebra;\n",
    "import PyPlot as plt;\n",
    "import SymPy as sp;"
   ]
  },
  {
   "cell_type": "code",
   "execution_count": 2,
   "metadata": {},
   "outputs": [],
   "source": [
    "xi, eta = sp.symbols(\"xi eta\");"
   ]
  },
  {
   "cell_type": "markdown",
   "metadata": {},
   "source": [
    "# standard triangle element (P2)"
   ]
  },
  {
   "cell_type": "code",
   "execution_count": 3,
   "metadata": {},
   "outputs": [
    {
     "data": {
      "image/png": "[encoded data removed]",
      "text/plain": [
       "PyPlot.Figure(PyObject <Figure size 500x500 with 1 Axes>)"
      ]
     },
     "metadata": {},
     "output_type": "display_data"
    },
    {
     "name": "stderr",
     "output_type": "stream",
     "text": [
      "sys:1: UserWarning: Matplotlib is currently using agg, which is a non-GUI backend, so cannot show the figure.\n"
     ]
    }
   ],
   "source": [
    "local_coords_order_2 = [\n",
    "    0 0;\n",
    "    1 0;\n",
    "    0 1;\n",
    "    0.5 0;\n",
    "    0.5 0.5;\n",
    "    0 0.5;\n",
    "];\n",
    "plt.figure(figsize=(5, 5));\n",
    "for i in 1:size(local_coords_order_2, 1)\n",
    "    plt.plot(local_coords_order_2[i, 1], local_coords_order_2[i, 2], \"o\", color=\"red\");\n",
    "    plt.text(local_coords_order_2[i, 1], local_coords_order_2[i, 2], string(i), zorder=10, size=15);\n",
    "end\n",
    "plt.plot(local_coords_order_2[[1,2,3,1], 1], local_coords_order_2[[1,2,3,1], 2], color=\"blue\");\n",
    "plt.fill(local_coords_order_2[[1,2,3,1], 1], local_coords_order_2[[1,2,3,1], 2], color=\"blue\", alpha=0.2);\n",
    "display(plt.gcf());\n",
    "plt.show()"
   ]
  },
  {
   "cell_type": "markdown",
   "metadata": {},
   "source": [
    "# shape functions"
   ]
  },
  {
   "cell_type": "code",
   "execution_count": 4,
   "metadata": {},
   "outputs": [
    {
     "data": {
      "text/latex": [
       "$\\left[ \\begin{array}{r}1\\\\\\xi\\\\\\eta\\\\\\xi^{2}\\\\\\eta \\xi\\\\\\eta^{2}\\end{array} \\right]$\n"
      ],
      "text/plain": [
       "6-element Vector{SymPy.Sym}:\n",
       "      1\n",
       "     ξ\n",
       "    η\n",
       "   xi^2\n",
       " η⋅ξ\n",
       "  eta^2"
      ]
     },
     "metadata": {},
     "output_type": "display_data"
    }
   ],
   "source": [
    "base_functions_vector = [1, xi, eta, xi^2, xi*eta, eta^2];\n",
    "n_base_functions = length(base_functions_vector);\n",
    "base_functions_vector"
   ]
  },
  {
   "cell_type": "code",
   "execution_count": 5,
   "metadata": {},
   "outputs": [
    {
     "data": {
      "text/plain": [
       "6×6 Matrix{Float64}:\n",
       " 1.0  0.0  0.0  0.0   0.0   0.0\n",
       " 1.0  1.0  0.0  1.0   0.0   0.0\n",
       " 1.0  0.0  1.0  0.0   0.0   1.0\n",
       " 1.0  0.5  0.0  0.25  0.0   0.0\n",
       " 1.0  0.5  0.5  0.25  0.25  0.25\n",
       " 1.0  0.0  0.5  0.0   0.0   0.25"
      ]
     },
     "metadata": {},
     "output_type": "display_data"
    }
   ],
   "source": [
    "base_functions_matrix_order_2 = sp.zeros(n_base_functions, n_base_functions);\n",
    "for i_node = 1: n_base_functions\n",
    "    subs_dict = Dict(xi => local_coords_order_2[i_node, 1], eta => local_coords_order_2[i_node, 2]);\n",
    "    base_functions_matrix_order_2[i_node, :] = base_functions_vector.subs(subs_dict).T;\n",
    "end\n",
    "base_functions_matrix_order_2"
   ]
  },
  {
   "cell_type": "code",
   "execution_count": 6,
   "metadata": {},
   "outputs": [
    {
     "data": {
      "text/latex": [
       "$\\left[ \\begin{array}{r}2.0 \\eta^{2} + 4.0 \\eta \\xi - 3.0 \\eta + 2.0 \\xi^{2} - 3.0 \\xi + 1.0\\\\2.0 \\xi^{2} - 1.0 \\xi\\\\2.0 \\eta^{2} - 1.0 \\eta\\\\- 4.0 \\eta \\xi - 4.0 \\xi^{2} + 4.0 \\xi\\\\4.0 \\eta \\xi\\\\- 4.0 \\eta^{2} - 4.0 \\eta \\xi + 4.0 \\eta\\end{array} \\right]$\n"
      ],
      "text/plain": [
       "6-element Vector{SymPy.Sym}:\n",
       " 2.0*eta^2 + 4.0*eta*xi - 3.0*eta + 2.0*xi^2 - 3.0*xi + 1.0\n",
       "                                          2.0*xi^2 - 1.0*xi\n",
       "                                        2.0*eta^2 - 1.0*eta\n",
       "                            -4.0*eta*xi - 4.0*xi^2 + 4.0*xi\n",
       "                                                 4.0⋅η⋅ξ\n",
       "                          -4.0*eta^2 - 4.0*eta*xi + 4.0*eta"
      ]
     },
     "metadata": {},
     "output_type": "display_data"
    }
   ],
   "source": [
    "shape_functions_vector = base_functions_vector' * inv(base_functions_matrix_order_2);\n",
    "shape_functions_vector = shape_functions_vector'"
   ]
  },
  {
   "cell_type": "code",
   "execution_count": 7,
   "metadata": {},
   "outputs": [
    {
     "name": "stdout",
     "output_type": "stream",
     "text": [
      "Node 1: SymPy.Sym"
     ]
    },
    {
     "name": "stdout",
     "output_type": "stream",
     "text": [
      "[1.00000000000000; 0; 0; 0; 0; 0;;]\n",
      "Node 2: SymPy.Sym[0; 1.00000000000000; 0; 0; 0; 0;;]\n",
      "Node 3: SymPy.Sym[0; 0; 1.00000000000000; 0; 0; 0;;]\n",
      "Node 4: SymPy.Sym[0; 0; 0; 1.00000000000000; 0; 0;;]\n",
      "Node 5: SymPy.Sym[0; 0; 0; 0; 1.00000000000000; 0;;]\n",
      "Node 6: SymPy.Sym[0; 0; 0; 0; 0; 1.00000000000000;;]\n"
     ]
    }
   ],
   "source": [
    "for i_node = 1: n_base_functions\n",
    "    subs_dict = Dict(xi => local_coords_order_2[i_node, 1], eta => local_coords_order_2[i_node, 2]);\n",
    "    println(\"Node \", i_node, \": \", shape_functions_vector.subs(subs_dict));\n",
    "end"
   ]
  },
  {
   "cell_type": "code",
   "execution_count": 8,
   "metadata": {},
   "outputs": [
    {
     "data": {
      "text/latex": [
       "$\\left[ \\begin{array}{rrrrrr}16.0 \\left(0.5 \\eta^{2} + \\eta \\xi - 0.75 \\eta + 0.5 \\xi^{2} - 0.75 \\xi + 0.25\\right)^{2}&\\left(2.0 \\xi^{2} - 1.0 \\xi\\right) \\left(2.0 \\eta^{2} + 4.0 \\eta \\xi - 3.0 \\eta + 2.0 \\xi^{2} - 3.0 \\xi + 1.0\\right)&\\left(2.0 \\eta^{2} - 1.0 \\eta\\right) \\left(2.0 \\eta^{2} + 4.0 \\eta \\xi - 3.0 \\eta + 2.0 \\xi^{2} - 3.0 \\xi + 1.0\\right)&\\left(- 4.0 \\eta \\xi - 4.0 \\xi^{2} + 4.0 \\xi\\right) \\left(2.0 \\eta^{2} + 4.0 \\eta \\xi - 3.0 \\eta + 2.0 \\xi^{2} - 3.0 \\xi + 1.0\\right)&4.0 \\eta \\xi \\left(2.0 \\eta^{2} + 4.0 \\eta \\xi - 3.0 \\eta + 2.0 \\xi^{2} - 3.0 \\xi + 1.0\\right)&\\left(- 4.0 \\eta^{2} - 4.0 \\eta \\xi + 4.0 \\eta\\right) \\left(2.0 \\eta^{2} + 4.0 \\eta \\xi - 3.0 \\eta + 2.0 \\xi^{2} - 3.0 \\xi + 1.0\\right)\\\\\\left(2.0 \\xi^{2} - 1.0 \\xi\\right) \\left(2.0 \\eta^{2} + 4.0 \\eta \\xi - 3.0 \\eta + 2.0 \\xi^{2} - 3.0 \\xi + 1.0\\right)&4.0 \\left(\\xi^{2} - 0.5 \\xi\\right)^{2}&\\left(2.0 \\eta^{2} - 1.0 \\eta\\right) \\left(2.0 \\xi^{2} - 1.0 \\xi\\right)&\\left(2.0 \\xi^{2} - 1.0 \\xi\\right) \\left(- 4.0 \\eta \\xi - 4.0 \\xi^{2} + 4.0 \\xi\\right)&4.0 \\eta \\xi \\left(2.0 \\xi^{2} - 1.0 \\xi\\right)&\\left(2.0 \\xi^{2} - 1.0 \\xi\\right) \\left(- 4.0 \\eta^{2} - 4.0 \\eta \\xi + 4.0 \\eta\\right)\\\\\\left(2.0 \\eta^{2} - 1.0 \\eta\\right) \\left(2.0 \\eta^{2} + 4.0 \\eta \\xi - 3.0 \\eta + 2.0 \\xi^{2} - 3.0 \\xi + 1.0\\right)&\\left(2.0 \\eta^{2} - 1.0 \\eta\\right) \\left(2.0 \\xi^{2} - 1.0 \\xi\\right)&4.0 \\left(\\eta^{2} - 0.5 \\eta\\right)^{2}&\\left(2.0 \\eta^{2} - 1.0 \\eta\\right) \\left(- 4.0 \\eta \\xi - 4.0 \\xi^{2} + 4.0 \\xi\\right)&4.0 \\eta \\xi \\left(2.0 \\eta^{2} - 1.0 \\eta\\right)&\\left(2.0 \\eta^{2} - 1.0 \\eta\\right) \\left(- 4.0 \\eta^{2} - 4.0 \\eta \\xi + 4.0 \\eta\\right)\\\\\\left(- 4.0 \\eta \\xi - 4.0 \\xi^{2} + 4.0 \\xi\\right) \\left(2.0 \\eta^{2} + 4.0 \\eta \\xi - 3.0 \\eta + 2.0 \\xi^{2} - 3.0 \\xi + 1.0\\right)&\\left(2.0 \\xi^{2} - 1.0 \\xi\\right) \\left(- 4.0 \\eta \\xi - 4.0 \\xi^{2} + 4.0 \\xi\\right)&\\left(2.0 \\eta^{2} - 1.0 \\eta\\right) \\left(- 4.0 \\eta \\xi - 4.0 \\xi^{2} + 4.0 \\xi\\right)&16.0 \\left(- \\eta \\xi - \\xi^{2} + \\xi\\right)^{2}&4.0 \\eta \\xi \\left(- 4.0 \\eta \\xi - 4.0 \\xi^{2} + 4.0 \\xi\\right)&\\left(- 4.0 \\eta^{2} - 4.0 \\eta \\xi + 4.0 \\eta\\right) \\left(- 4.0 \\eta \\xi - 4.0 \\xi^{2} + 4.0 \\xi\\right)\\\\4.0 \\eta \\xi \\left(2.0 \\eta^{2} + 4.0 \\eta \\xi - 3.0 \\eta + 2.0 \\xi^{2} - 3.0 \\xi + 1.0\\right)&4.0 \\eta \\xi \\left(2.0 \\xi^{2} - 1.0 \\xi\\right)&4.0 \\eta \\xi \\left(2.0 \\eta^{2} - 1.0 \\eta\\right)&4.0 \\eta \\xi \\left(- 4.0 \\eta \\xi - 4.0 \\xi^{2} + 4.0 \\xi\\right)&16.0 \\eta^{2} \\xi^{2}&4.0 \\eta \\xi \\left(- 4.0 \\eta^{2} - 4.0 \\eta \\xi + 4.0 \\eta\\right)\\\\\\left(- 4.0 \\eta^{2} - 4.0 \\eta \\xi + 4.0 \\eta\\right) \\left(2.0 \\eta^{2} + 4.0 \\eta \\xi - 3.0 \\eta + 2.0 \\xi^{2} - 3.0 \\xi + 1.0\\right)&\\left(2.0 \\xi^{2} - 1.0 \\xi\\right) \\left(- 4.0 \\eta^{2} - 4.0 \\eta \\xi + 4.0 \\eta\\right)&\\left(2.0 \\eta^{2} - 1.0 \\eta\\right) \\left(- 4.0 \\eta^{2} - 4.0 \\eta \\xi + 4.0 \\eta\\right)&\\left(- 4.0 \\eta^{2} - 4.0 \\eta \\xi + 4.0 \\eta\\right) \\left(- 4.0 \\eta \\xi - 4.0 \\xi^{2} + 4.0 \\xi\\right)&4.0 \\eta \\xi \\left(- 4.0 \\eta^{2} - 4.0 \\eta \\xi + 4.0 \\eta\\right)&16.0 \\left(- \\eta^{2} - \\eta \\xi + \\eta\\right)^{2}\\end{array}\\right]$\n"
      ],
      "text/plain": [
       "6×6 Matrix{SymPy.Sym}:\n",
       "                               16.0*(0.5*eta^2 + eta*xi - 0.75*eta + 0.5*xi^2 - 0.75*xi + 0.25)^2  …  (-4.0*eta^2 - 4.0*eta*xi + 4.0*eta)*(2.0*eta^2 + 4.0*eta*xi - 3.0*eta + 2.0*xi^2 - 3.0*xi + 1.0)\n",
       "                 (2.0*xi^2 - 1.0*xi)*(2.0*eta^2 + 4.0*eta*xi - 3.0*eta + 2.0*xi^2 - 3.0*xi + 1.0)                                              (2.0*xi^2 - 1.0*xi)*(-4.0*eta^2 - 4.0*eta*xi + 4.0*eta)\n",
       "               (2.0*eta^2 - 1.0*eta)*(2.0*eta^2 + 4.0*eta*xi - 3.0*eta + 2.0*xi^2 - 3.0*xi + 1.0)                                            (2.0*eta^2 - 1.0*eta)*(-4.0*eta^2 - 4.0*eta*xi + 4.0*eta)\n",
       "   (-4.0*eta*xi - 4.0*xi^2 + 4.0*xi)*(2.0*eta^2 + 4.0*eta*xi - 3.0*eta + 2.0*xi^2 - 3.0*xi + 1.0)                                (-4.0*eta^2 - 4.0*eta*xi + 4.0*eta)*(-4.0*eta*xi - 4.0*xi^2 + 4.0*xi)\n",
       "                          4.0*eta*xi*(2.0*eta^2 + 4.0*eta*xi - 3.0*eta + 2.0*xi^2 - 3.0*xi + 1.0)                                                       4.0*eta*xi*(-4.0*eta^2 - 4.0*eta*xi + 4.0*eta)\n",
       " (-4.0*eta^2 - 4.0*eta*xi + 4.0*eta)*(2.0*eta^2 + 4.0*eta*xi - 3.0*eta + 2.0*xi^2 - 3.0*xi + 1.0)  …                                                                    16.0*(-eta^2 - eta*xi + eta)^2"
      ]
     },
     "metadata": {},
     "output_type": "display_data"
    }
   ],
   "source": [
    "shape_functions_cartesian_product_matrix = shape_functions_vector * shape_functions_vector.T;\n",
    "shape_functions_cartesian_product_matrix.simplify()\n",
    "shape_functions_cartesian_product_matrix"
   ]
  },
  {
   "cell_type": "code",
   "execution_count": 9,
   "metadata": {},
   "outputs": [
    {
     "data": {
      "text/plain": [
       "6×6 Matrix{Float64}:\n",
       "  0.0166667    -0.00277778   -0.00277778   …  -0.0111111     4.44089e-16\n",
       " -0.00277778    0.0166667    -0.00277778       2.22045e-16  -0.0111111\n",
       " -0.00277778   -0.00277778    0.0166667       -1.11022e-16  -1.11022e-16\n",
       "  3.26128e-15  -2.22045e-16  -0.0111111        0.0444444     0.0444444\n",
       " -0.0111111     2.22045e-16  -1.11022e-16      0.0888889     0.0444444\n",
       "  4.44089e-16  -0.0111111    -1.11022e-16  …   0.0444444     0.0888889"
      ]
     },
     "metadata": {},
     "output_type": "display_data"
    }
   ],
   "source": [
    "mass_matrix = zeros(n_base_functions, n_base_functions);\n",
    "for i_node = 1: n_base_functions\n",
    "    for j_node = 1: n_base_functions\n",
    "        mass_matrix[i_node, j_node] = Float64(\n",
    "            sp.integrate(shape_functions_cartesian_product_matrix[i_node, j_node], \n",
    "            (xi, 0, 1 - eta), (eta, 0, 1)));\n",
    "    end\n",
    "end\n",
    "mass_matrix"
   ]
  },
  {
   "cell_type": "code",
   "execution_count": 10,
   "metadata": {},
   "outputs": [],
   "source": []
  }
 ],
 "metadata": {
  "kernelspec": {
   "display_name": "Julia 1.8.0",
   "language": "julia",
   "name": "julia-1.8"
  },
  "language_info": {
   "file_extension": ".jl",
   "mimetype": "application/julia",
   "name": "julia",
   "version": "1.8.0"
  },
  "orig_nbformat": 4
 },
 "nbformat": 4,
 "nbformat_minor": 2
}
