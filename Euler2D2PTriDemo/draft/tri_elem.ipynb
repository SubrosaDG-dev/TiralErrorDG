{
 "cells": [
  {
   "cell_type": "code",
   "execution_count": 1,
   "metadata": {},
   "outputs": [],
   "source": [
    "import sympy as sp"
   ]
  },
  {
   "cell_type": "code",
   "execution_count": 2,
   "metadata": {},
   "outputs": [],
   "source": [
    "# declare a triangle element with 3 nodes\n",
    "x_1, y_1 = sp.symbols('x_1 y_1')\n",
    "x_2, y_2 = sp.symbols('x_2 y_2')\n",
    "x_3, y_3 = sp.symbols('x_3 y_3')\n",
    "x, y = sp.symbols('x y')\n",
    "xi, eta = sp.symbols('xi eta')"
   ]
  },
  {
   "cell_type": "markdown",
   "metadata": {},
   "source": [
    "$$\n",
    "\\begin{bmatrix}\n",
    "x\\\\ y\n",
    "\\end{bmatrix}=\n",
    "\\begin{bmatrix}\n",
    "a_{11} & a_{12}\\\\\n",
    "a_{21} & a_{22}\n",
    "\\end{bmatrix}\n",
    "\\begin{bmatrix}\n",
    "\\xi\\\\ \\eta\n",
    "\\end{bmatrix}+\n",
    "\\begin{bmatrix}\n",
    "b_1\\\\ b_2\n",
    "\\end{bmatrix}\n",
    "$$\n",
    "\n",
    "for $\\xi,\\eta\\in[0,1]$, and tri's element's nodes: $(x_1,y_1),(x_2,y_2),(x_3,y_3)$, we have:\n",
    "\n",
    "$$\n",
    "\\begin{bmatrix}\n",
    "x_1 \\\\ y_1 \\\\\n",
    "x_2 \\\\ y_2 \\\\\n",
    "x_3 \\\\ y_3\n",
    "\\end{bmatrix}=\n",
    "\\begin{bmatrix}\n",
    "0 & 0 & 1 & 0 & 0 & 0\\\\\n",
    "0 & 0 & 0 & 0 & 0 & 1\\\\\n",
    "1 & 0 & 1 & 0 & 0 & 0\\\\\n",
    "0 & 0 & 0 & 1 & 0 & 1\\\\\n",
    "0 & 1 & 1 & 0 & 0 & 0\\\\\n",
    "0 & 0 & 0 & 0 & 1 & 1\n",
    "\\end{bmatrix}\n",
    "\\begin{bmatrix}\n",
    "a_{11} \\\\ a_{12} \\\\ b_1 \\\\ a_{21} \\\\ a_{22} \\\\ b_2\n",
    "\\end{bmatrix}\n",
    "$$"
   ]
  },
  {
   "cell_type": "code",
   "execution_count": 3,
   "metadata": {},
   "outputs": [
    {
     "data": {
      "text/latex": [
       "$\\displaystyle \\left[\\begin{matrix}-1 & 0 & 1 & 0 & 0 & 0\\\\-1 & 0 & 0 & 0 & 1 & 0\\\\1 & 0 & 0 & 0 & 0 & 0\\\\0 & -1 & 0 & 1 & 0 & 0\\\\0 & -1 & 0 & 0 & 0 & 1\\\\0 & 1 & 0 & 0 & 0 & 0\\end{matrix}\\right]$"
      ],
      "text/plain": [
       "Matrix([\n",
       "[-1,  0, 1, 0, 0, 0],\n",
       "[-1,  0, 0, 0, 1, 0],\n",
       "[ 1,  0, 0, 0, 0, 0],\n",
       "[ 0, -1, 0, 1, 0, 0],\n",
       "[ 0, -1, 0, 0, 0, 1],\n",
       "[ 0,  1, 0, 0, 0, 0]])"
      ]
     },
     "execution_count": 3,
     "metadata": {},
     "output_type": "execute_result"
    }
   ],
   "source": [
    "transfer_mat = sp.Matrix([\n",
    "    [0, 0, 1, 0, 0, 0],\n",
    "    [0, 0, 0, 0, 0, 1],\n",
    "    [1, 0, 1, 0, 0, 0],\n",
    "    [0, 0, 0, 1, 0, 1],\n",
    "    [0, 1, 1, 0, 0, 0],\n",
    "    [0, 0, 0, 0, 1, 1]\n",
    "])\n",
    "transfer_mat_inv = transfer_mat.inv()\n",
    "transfer_mat_inv"
   ]
  },
  {
   "cell_type": "code",
   "execution_count": 4,
   "metadata": {},
   "outputs": [
    {
     "data": {
      "text/latex": [
       "$\\displaystyle \\left[\\begin{matrix}- x_{1} + x_{2} & - x_{1} + x_{3}\\\\- y_{1} + y_{2} & - y_{1} + y_{3}\\end{matrix}\\right]$"
      ],
      "text/plain": [
       "Matrix([\n",
       "[-x_1 + x_2, -x_1 + x_3],\n",
       "[-y_1 + y_2, -y_1 + y_3]])"
      ]
     },
     "execution_count": 4,
     "metadata": {},
     "output_type": "execute_result"
    }
   ],
   "source": [
    "[a_11, a_12, b_1, a_21, a_22, b_2] = transfer_mat_inv @ sp.Matrix([x_1, y_1, x_2, y_2, x_3, y_3])\n",
    "jacobi = sp.Matrix([\n",
    "    [a_11, a_12],\n",
    "    [a_21, a_22]\n",
    "])\n",
    "jacobi"
   ]
  },
  {
   "cell_type": "code",
   "execution_count": 5,
   "metadata": {},
   "outputs": [
    {
     "data": {
      "text/latex": [
       "$\\displaystyle x_{1} y_{2} - x_{1} y_{3} - x_{2} y_{1} + x_{2} y_{3} + x_{3} y_{1} - x_{3} y_{2}$"
      ],
      "text/plain": [
       "x_1*y_2 - x_1*y_3 - x_2*y_1 + x_2*y_3 + x_3*y_1 - x_3*y_2"
      ]
     },
     "execution_count": 5,
     "metadata": {},
     "output_type": "execute_result"
    }
   ],
   "source": [
    "jacobi_det = jacobi.det()\n",
    "jacobi_det"
   ]
  },
  {
   "cell_type": "code",
   "execution_count": 6,
   "metadata": {},
   "outputs": [],
   "source": [
    "xx = a_11 * xi + a_12 * eta + b_1\n",
    "yy = a_21 * xi + a_22 * eta + b_2"
   ]
  },
  {
   "cell_type": "markdown",
   "metadata": {},
   "source": [
    "for 2 order polynomial, we have:\n",
    "\n",
    "$$\n",
    "u(x,y) =\n",
    "A_0 + B_1 \\xi + B_2 \\eta + C_1 \\xi^2 + C_2 \\xi \\eta + C_3 \\eta^2\n",
    "$$\n",
    "\n",
    "with $(\\xi, \\eta)$ at points $(0,0), (1,0), (0,1), (\\frac{1}{2},0), (\\frac{1}{2},\\frac{1}{2}), (0,\\frac{1}{2})$, we have:\n",
    "\n",
    "$$\n",
    "\\begin{bmatrix}\n",
    "u_1 \\\\ u_2 \\\\ u_3 \\\\ u_4 \\\\ u_5 \\\\ u_6\n",
    "\\end{bmatrix}=\n",
    "\\begin{bmatrix}\n",
    "1 & 0 & 0 & 0 & 0 & 0\\\\\n",
    "1 & 1 & 0 & 1 & 0 & 0\\\\\n",
    "1 & 0 & 1 & 0 & 0 & 1\\\\\n",
    "1 & \\frac{1}{2} & 0 & \\frac{1}{4} & 0 & 0\\\\\n",
    "1 & \\frac{1}{2} & \\frac{1}{2} & \\frac{1}{4} & \\frac{1}{4} & \\frac{1}{4}\\\\\n",
    "1 & 0 & \\frac{1}{2} & 0 & 0 & \\frac{1}{4}\n",
    "\\end{bmatrix}\n",
    "\\begin{bmatrix}\n",
    "A_0 \\\\ B_1 \\\\ B_2 \\\\ C_1 \\\\ C_2 \\\\ C_3\n",
    "\\end{bmatrix}\n",
    "$$\n",
    "\n",
    "thus $u(x,y)$ can be interpolated by:\n",
    "\n",
    "$$\n",
    "u(x,y) =\n",
    "\\begin{bmatrix}\n",
    "1 & \\xi & \\eta & \\xi^2 & \\xi\\eta & \\eta^2\n",
    "\\end{bmatrix}\n",
    "\\begin{bmatrix}\n",
    "1 & 0 & 0 & 0 & 0 & 0\\\\\n",
    "1 & 1 & 0 & 1 & 0 & 0\\\\\n",
    "1 & 0 & 1 & 0 & 0 & 1\\\\\n",
    "1 & \\frac{1}{2} & 0 & \\frac{1}{4} & 0 & 0\\\\\n",
    "1 & \\frac{1}{2} & \\frac{1}{2} & \\frac{1}{4} & \\frac{1}{4} & \\frac{1}{4}\\\\\n",
    "1 & 0 & \\frac{1}{2} & 0 & 0 & \\frac{1}{4}\n",
    "\\end{bmatrix}^{-1}\n",
    "\\begin{bmatrix}\n",
    "u_1 \\\\ u_2 \\\\ u_3 \\\\ u_4 \\\\ u_5 \\\\ u_6\n",
    "\\end{bmatrix}\n",
    "$$"
   ]
  },
  {
   "cell_type": "code",
   "execution_count": 7,
   "metadata": {},
   "outputs": [],
   "source": [
    "xi_eta_2_order = sp.Matrix([\n",
    "    [0, 0],\n",
    "    [1, 0],\n",
    "    [0, 1],\n",
    "    [1/2, 0],\n",
    "    [1/2, 1/2],\n",
    "    [0, 1/2]\n",
    "])\n",
    "mat_xi_eta = sp.zeros(xi_eta_2_order.shape[0], xi_eta_2_order.shape[0])\n",
    "for i_node in range(xi_eta_2_order.shape[0]):\n",
    "    xi_i, eta_i = xi_eta_2_order[i_node, :]\n",
    "    mat_xi_eta[i_node, :] = sp.Matrix(\n",
    "        [1, xi_i, eta_i, xi_i ** 2, xi_i * eta_i, eta_i ** 2]\n",
    "    ).T\n",
    "shape_func = sp.Matrix([1, xi, eta, xi ** 2, xi * eta, eta ** 2]).T @ mat_xi_eta.inv()"
   ]
  },
  {
   "cell_type": "code",
   "execution_count": 8,
   "metadata": {},
   "outputs": [
    {
     "data": {
      "text/latex": [
       "$\\displaystyle \\left[\\begin{matrix}2.0 \\eta^{2} + 4.0 \\eta \\xi - 3.0 \\eta + 2.0 \\xi^{2} - 3.0 \\xi + 1\\\\2.0 \\xi^{2} - 1.0 \\xi\\\\2.0 \\eta^{2} - 1.0 \\eta\\\\- 4.0 \\eta \\xi - 4.0 \\xi^{2} + 4.0 \\xi\\\\4.0 \\eta \\xi\\\\- 4.0 \\eta^{2} - 4.0 \\eta \\xi + 4.0 \\eta\\end{matrix}\\right]$"
      ],
      "text/plain": [
       "Matrix([\n",
       "[2.0*eta**2 + 4.0*eta*xi - 3.0*eta + 2.0*xi**2 - 3.0*xi + 1],\n",
       "[                                        2.0*xi**2 - 1.0*xi],\n",
       "[                                      2.0*eta**2 - 1.0*eta],\n",
       "[                          -4.0*eta*xi - 4.0*xi**2 + 4.0*xi],\n",
       "[                                                4.0*eta*xi],\n",
       "[                        -4.0*eta**2 - 4.0*eta*xi + 4.0*eta]])"
      ]
     },
     "execution_count": 8,
     "metadata": {},
     "output_type": "execute_result"
    }
   ],
   "source": [
    "shape_func.T"
   ]
  },
  {
   "cell_type": "code",
   "execution_count": 9,
   "metadata": {},
   "outputs": [
    {
     "name": "stdout",
     "output_type": "stream",
     "text": [
      "\\left[\\begin{matrix}2.0 \\eta^{2} + 4.0 \\eta \\xi - 3.0 \\eta + 2.0 \\xi^{2} - 3.0 \\xi + 1\\\\2.0 \\xi^{2} - 1.0 \\xi\\\\2.0 \\eta^{2} - 1.0 \\eta\\\\- 4.0 \\eta \\xi - 4.0 \\xi^{2} + 4.0 \\xi\\\\4.0 \\eta \\xi\\\\- 4.0 \\eta^{2} - 4.0 \\eta \\xi + 4.0 \\eta\\end{matrix}\\right]\n"
     ]
    }
   ],
   "source": [
    "print(sp.latex(shape_func.T))"
   ]
  },
  {
   "cell_type": "markdown",
   "metadata": {},
   "source": [
    "thus we have:\n",
    "\n",
    "$$\n",
    "u(\\xi,\\eta) =\n",
    "\\begin{bmatrix}2.0 \\eta^{2} + 4.0 \\eta \\xi - 3.0 \\eta + 2.0 \\xi^{2} - 3.0 \\xi + 1\\\\2.0 \\xi^{2} - 1.0 \\xi\\\\2.0 \\eta^{2} - 1.0 \\eta\\\\- 4.0 \\eta \\xi - 4.0 \\xi^{2} + 4.0 \\xi\\\\4.0 \\eta \\xi\\\\- 4.0 \\eta^{2} - 4.0 \\eta \\xi + 4.0 \\eta\\end{bmatrix}^{T}\n",
    "\\begin{bmatrix}\n",
    "u_1 \\\\ u_2 \\\\ u_3 \\\\ u_4 \\\\ u_5 \\\\ u_6\n",
    "\\end{bmatrix}\n",
    "$$"
   ]
  },
  {
   "cell_type": "code",
   "execution_count": 10,
   "metadata": {},
   "outputs": [
    {
     "name": "stdout",
     "output_type": "stream",
     "text": [
      "Matrix([[1, 0, 0, 0, 0, 0]])\n",
      "Matrix([[0, 1.00000000000000, 0, 0, 0, 0]])\n",
      "Matrix([[0, 0, 1.00000000000000, 0, 0, 0]])\n",
      "Matrix([[0, 0, 0, 1.00000000000000, 0, 0]])\n",
      "Matrix([[0, 0, 0, 0, 1.00000000000000, 0]])\n",
      "Matrix([[0, 0, 0, 0, 0, 1.00000000000000]])\n"
     ]
    }
   ],
   "source": [
    "for i_node in range(xi_eta_2_order.shape[0]):\n",
    "    print(shape_func.subs({xi: xi_eta_2_order[i_node, 0], eta: xi_eta_2_order[i_node, 1]}))\n",
    "    pass"
   ]
  },
  {
   "cell_type": "markdown",
   "metadata": {},
   "source": [
    "cell above implies that the weight $\\phi_i$ at point $j$ is :\n",
    "\n",
    "$$\n",
    "\\phi_i(\\xi_j, \\eta_j)=\\delta_{ij}\n",
    "$$\n",
    "\n",
    "in Euler equation, we have a vector PDE looks like:\n",
    "\n",
    "$$\n",
    "\\frac{\\partial u}{\\partial t} + \\frac{\\partial f_x(u)}{\\partial x} + \\frac{\\partial f_y(u)}{\\partial y} = 0\n",
    "$$\n",
    "\n",
    "or simplified as:\n",
    "\n",
    "$$\n",
    "u_t + \\nabla \\cdot \\vec{f}(u) = 0\n",
    "$$\n",
    "\n",
    "use interpolation, in tri-element, we can approximate $u$ by $\\tilde{u}$:\n",
    "\n",
    "$$\n",
    "\\tilde{u}(x,y) = \\phi_j(x,y) u_j\n",
    "$$\n",
    "\n",
    "here $\\phi_j(x,y) u_j$ means $\\sum_{i=1}^6 \\phi_i(x,y) u_i$, and $u_j$ is the value of $u$ at node $j$.\n",
    "\n",
    "use galerkin method, we have:\n",
    "\n",
    "$$\n",
    "\\int_{\\Omega} \\tilde{u}(x,y) \\phi_i(x,y) dx dy +\n",
    "\\int_{\\Omega} \\nabla \\cdot \\vec{f}(\\tilde{u}(x,y)) \\phi_i(x,y) dx dy = 0\n",
    "$$\n",
    "\n",
    "which is exactly (here the area of tri-elemnt is noted as $\\Omega$):\n",
    "\n",
    "$$\n",
    "\\int_{\\Omega} \\phi_i\\phi_j (u_{j})_t dxdy +\n",
    "\\int_{\\Omega} \\nabla \\cdot \\vec{f}(\\phi_j u_j) \\phi_i dxdy = 0\n",
    "$$\n",
    "\n",
    "for any tri-element, a mapping from $(x,y)$ to $(\\xi,\\eta)$ can be defined as:\n",
    "\n",
    "$$\n",
    "\\begin{bmatrix}\n",
    "x\\\\ y\n",
    "\\end{bmatrix}=\n",
    "\\begin{bmatrix}\n",
    "a_{11} & a_{12}\\\\\n",
    "a_{21} & a_{22}\n",
    "\\end{bmatrix}\n",
    "\\begin{bmatrix}\n",
    "\\xi\\\\ \\eta\n",
    "\\end{bmatrix}+\n",
    "\\begin{bmatrix}\n",
    "b_1\\\\ b_2\n",
    "\\end{bmatrix}\n",
    "$$\n",
    "\n",
    "any function $g(x,y)$ can be written as $g(\\xi,\\eta)$, and we have:\n",
    "\n",
    "$$\n",
    "\\int_{\\Omega} g(x,y) dx dy = \\int_{\\Omega_{s.t.}} g(\\xi,\\eta) |J| d\\xi d\\eta\n",
    "$$\n",
    "\n",
    "where $J$ is the Jacobian of the mapping. In tru-element, $|J|$ is constant. Thus the $\\int_{\\Omega} \\phi_i\\phi_j (u_{j})_t dxdy$ can be written as:\n",
    "\n",
    "$$\n",
    "\\int_{\\Omega} \\phi_i\\phi_j (u_{j})_t dxdy = \\int_{\\Omega_{s.t.}} \\phi_i\\phi_j (u_{j})_t |J| d\\xi d\\eta\n",
    "$$\n",
    "\n",
    "in 2-order, above equation can be written as:\n",
    "\n",
    "$$\n",
    "\\left(\n",
    "|J|\n",
    "\\int_{\\Omega_{s.t.}}\n",
    "\\begin{bmatrix}\n",
    "\\phi_1\\phi_1 & \\phi_1\\phi_2 & \\phi_1\\phi_3 & \\phi_1\\phi_4 & \\phi_1\\phi_5 & \\phi_1\\phi_6\\\\\n",
    "\\phi_2\\phi_1 & \\phi_2\\phi_2 & \\phi_2\\phi_3 & \\phi_2\\phi_4 & \\phi_2\\phi_5 & \\phi_2\\phi_6\\\\\n",
    "\\phi_3\\phi_1 & \\phi_3\\phi_2 & \\phi_3\\phi_3 & \\phi_3\\phi_4 & \\phi_3\\phi_5 & \\phi_3\\phi_6\\\\\n",
    "\\phi_4\\phi_1 & \\phi_4\\phi_2 & \\phi_4\\phi_3 & \\phi_4\\phi_4 & \\phi_4\\phi_5 & \\phi_4\\phi_6\\\\\n",
    "\\phi_5\\phi_1 & \\phi_5\\phi_2 & \\phi_5\\phi_3 & \\phi_5\\phi_4 & \\phi_5\\phi_5 & \\phi_5\\phi_6\\\\\n",
    "\\phi_6\\phi_1 & \\phi_6\\phi_2 & \\phi_6\\phi_3 & \\phi_6\\phi_4 & \\phi_6\\phi_5 & \\phi_6\\phi_6\n",
    "\\end{bmatrix}\n",
    "d\\xi d\\eta\n",
    "\\right)\n",
    "\\frac{\\partial}{\\partial t}\n",
    "\\begin{bmatrix}\n",
    "u_1 \\\\ u_2 \\\\ u_3 \\\\ u_4 \\\\ u_5 \\\\ u_6\n",
    "\\end{bmatrix}\n",
    "$$\n",
    "\n",
    "obviously, $\\int \\phi_i\\phi_j d\\xi d\\eta$ is a must, which is called mass matrix."
   ]
  },
  {
   "cell_type": "code",
   "execution_count": 11,
   "metadata": {},
   "outputs": [
    {
     "data": {
      "text/latex": [
       "$\\displaystyle \\left[\\begin{matrix}16.0 \\left(0.5 \\eta^{2} + \\eta \\xi - 0.75 \\eta + 0.5 \\xi^{2} - 0.75 \\xi + 0.25\\right)^{2} & \\left(2.0 \\xi^{2} - 1.0 \\xi\\right) \\left(2.0 \\eta^{2} + 4.0 \\eta \\xi - 3.0 \\eta + 2.0 \\xi^{2} - 3.0 \\xi + 1\\right) & \\left(2.0 \\eta^{2} - 1.0 \\eta\\right) \\left(2.0 \\eta^{2} + 4.0 \\eta \\xi - 3.0 \\eta + 2.0 \\xi^{2} - 3.0 \\xi + 1\\right) & \\left(- 4.0 \\eta \\xi - 4.0 \\xi^{2} + 4.0 \\xi\\right) \\left(2.0 \\eta^{2} + 4.0 \\eta \\xi - 3.0 \\eta + 2.0 \\xi^{2} - 3.0 \\xi + 1\\right) & 4.0 \\eta \\xi \\left(2.0 \\eta^{2} + 4.0 \\eta \\xi - 3.0 \\eta + 2.0 \\xi^{2} - 3.0 \\xi + 1\\right) & \\left(- 4.0 \\eta^{2} - 4.0 \\eta \\xi + 4.0 \\eta\\right) \\left(2.0 \\eta^{2} + 4.0 \\eta \\xi - 3.0 \\eta + 2.0 \\xi^{2} - 3.0 \\xi + 1\\right)\\\\\\left(2.0 \\xi^{2} - 1.0 \\xi\\right) \\left(2.0 \\eta^{2} + 4.0 \\eta \\xi - 3.0 \\eta + 2.0 \\xi^{2} - 3.0 \\xi + 1\\right) & 4.0 \\left(\\xi^{2} - 0.5 \\xi\\right)^{2} & \\left(2.0 \\eta^{2} - 1.0 \\eta\\right) \\left(2.0 \\xi^{2} - 1.0 \\xi\\right) & \\left(2.0 \\xi^{2} - 1.0 \\xi\\right) \\left(- 4.0 \\eta \\xi - 4.0 \\xi^{2} + 4.0 \\xi\\right) & 4.0 \\eta \\xi \\left(2.0 \\xi^{2} - 1.0 \\xi\\right) & \\left(2.0 \\xi^{2} - 1.0 \\xi\\right) \\left(- 4.0 \\eta^{2} - 4.0 \\eta \\xi + 4.0 \\eta\\right)\\\\\\left(2.0 \\eta^{2} - 1.0 \\eta\\right) \\left(2.0 \\eta^{2} + 4.0 \\eta \\xi - 3.0 \\eta + 2.0 \\xi^{2} - 3.0 \\xi + 1\\right) & \\left(2.0 \\eta^{2} - 1.0 \\eta\\right) \\left(2.0 \\xi^{2} - 1.0 \\xi\\right) & 4.0 \\left(\\eta^{2} - 0.5 \\eta\\right)^{2} & \\left(2.0 \\eta^{2} - 1.0 \\eta\\right) \\left(- 4.0 \\eta \\xi - 4.0 \\xi^{2} + 4.0 \\xi\\right) & 4.0 \\eta \\xi \\left(2.0 \\eta^{2} - 1.0 \\eta\\right) & \\left(2.0 \\eta^{2} - 1.0 \\eta\\right) \\left(- 4.0 \\eta^{2} - 4.0 \\eta \\xi + 4.0 \\eta\\right)\\\\\\left(- 4.0 \\eta \\xi - 4.0 \\xi^{2} + 4.0 \\xi\\right) \\left(2.0 \\eta^{2} + 4.0 \\eta \\xi - 3.0 \\eta + 2.0 \\xi^{2} - 3.0 \\xi + 1\\right) & \\left(2.0 \\xi^{2} - 1.0 \\xi\\right) \\left(- 4.0 \\eta \\xi - 4.0 \\xi^{2} + 4.0 \\xi\\right) & \\left(2.0 \\eta^{2} - 1.0 \\eta\\right) \\left(- 4.0 \\eta \\xi - 4.0 \\xi^{2} + 4.0 \\xi\\right) & 16.0 \\left(- \\eta \\xi - \\xi^{2} + \\xi\\right)^{2} & 4.0 \\eta \\xi \\left(- 4.0 \\eta \\xi - 4.0 \\xi^{2} + 4.0 \\xi\\right) & \\left(- 4.0 \\eta^{2} - 4.0 \\eta \\xi + 4.0 \\eta\\right) \\left(- 4.0 \\eta \\xi - 4.0 \\xi^{2} + 4.0 \\xi\\right)\\\\4.0 \\eta \\xi \\left(2.0 \\eta^{2} + 4.0 \\eta \\xi - 3.0 \\eta + 2.0 \\xi^{2} - 3.0 \\xi + 1\\right) & 4.0 \\eta \\xi \\left(2.0 \\xi^{2} - 1.0 \\xi\\right) & 4.0 \\eta \\xi \\left(2.0 \\eta^{2} - 1.0 \\eta\\right) & 4.0 \\eta \\xi \\left(- 4.0 \\eta \\xi - 4.0 \\xi^{2} + 4.0 \\xi\\right) & 16.0 \\eta^{2} \\xi^{2} & 4.0 \\eta \\xi \\left(- 4.0 \\eta^{2} - 4.0 \\eta \\xi + 4.0 \\eta\\right)\\\\\\left(- 4.0 \\eta^{2} - 4.0 \\eta \\xi + 4.0 \\eta\\right) \\left(2.0 \\eta^{2} + 4.0 \\eta \\xi - 3.0 \\eta + 2.0 \\xi^{2} - 3.0 \\xi + 1\\right) & \\left(2.0 \\xi^{2} - 1.0 \\xi\\right) \\left(- 4.0 \\eta^{2} - 4.0 \\eta \\xi + 4.0 \\eta\\right) & \\left(2.0 \\eta^{2} - 1.0 \\eta\\right) \\left(- 4.0 \\eta^{2} - 4.0 \\eta \\xi + 4.0 \\eta\\right) & \\left(- 4.0 \\eta^{2} - 4.0 \\eta \\xi + 4.0 \\eta\\right) \\left(- 4.0 \\eta \\xi - 4.0 \\xi^{2} + 4.0 \\xi\\right) & 4.0 \\eta \\xi \\left(- 4.0 \\eta^{2} - 4.0 \\eta \\xi + 4.0 \\eta\\right) & 16.0 \\left(- \\eta^{2} - \\eta \\xi + \\eta\\right)^{2}\\end{matrix}\\right]$"
      ],
      "text/plain": [
       "Matrix([\n",
       "[                            16.0*(0.5*eta**2 + eta*xi - 0.75*eta + 0.5*xi**2 - 0.75*xi + 0.25)**2, (2.0*xi**2 - 1.0*xi)*(2.0*eta**2 + 4.0*eta*xi - 3.0*eta + 2.0*xi**2 - 3.0*xi + 1), (2.0*eta**2 - 1.0*eta)*(2.0*eta**2 + 4.0*eta*xi - 3.0*eta + 2.0*xi**2 - 3.0*xi + 1), (-4.0*eta*xi - 4.0*xi**2 + 4.0*xi)*(2.0*eta**2 + 4.0*eta*xi - 3.0*eta + 2.0*xi**2 - 3.0*xi + 1), 4.0*eta*xi*(2.0*eta**2 + 4.0*eta*xi - 3.0*eta + 2.0*xi**2 - 3.0*xi + 1), (-4.0*eta**2 - 4.0*eta*xi + 4.0*eta)*(2.0*eta**2 + 4.0*eta*xi - 3.0*eta + 2.0*xi**2 - 3.0*xi + 1)],\n",
       "[                (2.0*xi**2 - 1.0*xi)*(2.0*eta**2 + 4.0*eta*xi - 3.0*eta + 2.0*xi**2 - 3.0*xi + 1),                                                           4.0*(xi**2 - 0.5*xi)**2,                                         (2.0*eta**2 - 1.0*eta)*(2.0*xi**2 - 1.0*xi),                                         (2.0*xi**2 - 1.0*xi)*(-4.0*eta*xi - 4.0*xi**2 + 4.0*xi),                                         4.0*eta*xi*(2.0*xi**2 - 1.0*xi),                                         (2.0*xi**2 - 1.0*xi)*(-4.0*eta**2 - 4.0*eta*xi + 4.0*eta)],\n",
       "[              (2.0*eta**2 - 1.0*eta)*(2.0*eta**2 + 4.0*eta*xi - 3.0*eta + 2.0*xi**2 - 3.0*xi + 1),                                       (2.0*eta**2 - 1.0*eta)*(2.0*xi**2 - 1.0*xi),                                                           4.0*(eta**2 - 0.5*eta)**2,                                       (2.0*eta**2 - 1.0*eta)*(-4.0*eta*xi - 4.0*xi**2 + 4.0*xi),                                       4.0*eta*xi*(2.0*eta**2 - 1.0*eta),                                       (2.0*eta**2 - 1.0*eta)*(-4.0*eta**2 - 4.0*eta*xi + 4.0*eta)],\n",
       "[  (-4.0*eta*xi - 4.0*xi**2 + 4.0*xi)*(2.0*eta**2 + 4.0*eta*xi - 3.0*eta + 2.0*xi**2 - 3.0*xi + 1),                           (2.0*xi**2 - 1.0*xi)*(-4.0*eta*xi - 4.0*xi**2 + 4.0*xi),                           (2.0*eta**2 - 1.0*eta)*(-4.0*eta*xi - 4.0*xi**2 + 4.0*xi),                                                                  16.0*(-eta*xi - xi**2 + xi)**2,                           4.0*eta*xi*(-4.0*eta*xi - 4.0*xi**2 + 4.0*xi),                           (-4.0*eta**2 - 4.0*eta*xi + 4.0*eta)*(-4.0*eta*xi - 4.0*xi**2 + 4.0*xi)],\n",
       "[                          4.0*eta*xi*(2.0*eta**2 + 4.0*eta*xi - 3.0*eta + 2.0*xi**2 - 3.0*xi + 1),                                                   4.0*eta*xi*(2.0*xi**2 - 1.0*xi),                                                   4.0*eta*xi*(2.0*eta**2 - 1.0*eta),                                                   4.0*eta*xi*(-4.0*eta*xi - 4.0*xi**2 + 4.0*xi),                                                       16.0*eta**2*xi**2,                                                   4.0*eta*xi*(-4.0*eta**2 - 4.0*eta*xi + 4.0*eta)],\n",
       "[(-4.0*eta**2 - 4.0*eta*xi + 4.0*eta)*(2.0*eta**2 + 4.0*eta*xi - 3.0*eta + 2.0*xi**2 - 3.0*xi + 1),                         (2.0*xi**2 - 1.0*xi)*(-4.0*eta**2 - 4.0*eta*xi + 4.0*eta),                         (2.0*eta**2 - 1.0*eta)*(-4.0*eta**2 - 4.0*eta*xi + 4.0*eta),                         (-4.0*eta**2 - 4.0*eta*xi + 4.0*eta)*(-4.0*eta*xi - 4.0*xi**2 + 4.0*xi),                         4.0*eta*xi*(-4.0*eta**2 - 4.0*eta*xi + 4.0*eta),                                                                  16.0*(-eta**2 - eta*xi + eta)**2]])"
      ]
     },
     "execution_count": 11,
     "metadata": {},
     "output_type": "execute_result"
    }
   ],
   "source": [
    "mass_mat_nint = shape_func.T @ shape_func\n",
    "mass_mat_nint"
   ]
  },
  {
   "cell_type": "code",
   "execution_count": 12,
   "metadata": {},
   "outputs": [],
   "source": [
    "mass_mat = sp.integrate(\n",
    "    sp.integrate(mass_mat_nint, (xi, 0, 1 - eta)),\n",
    "    (eta, 0, 1)\n",
    ")"
   ]
  },
  {
   "cell_type": "code",
   "execution_count": 13,
   "metadata": {},
   "outputs": [
    {
     "data": {
      "text/latex": [
       "$\\displaystyle \\left[\\begin{matrix}0.0166666666666675 & -0.00277777777777759 & -0.00277777777777785 & 3.2612801348364 \\cdot 10^{-15} & -0.0111111111111115 & 4.44089209850063 \\cdot 10^{-16}\\\\-0.00277777777777759 & 0.0166666666666666 & -0.00277777777777771 & -2.22044604925031 \\cdot 10^{-16} & 2.22044604925031 \\cdot 10^{-16} & -0.011111111111111\\\\-0.00277777777777785 & -0.00277777777777771 & 0.0166666666666667 & -0.0111111111111109 & -1.11022302462516 \\cdot 10^{-16} & -1.11022302462516 \\cdot 10^{-16}\\\\3.2612801348364 \\cdot 10^{-15} & -2.22044604925031 \\cdot 10^{-16} & -0.0111111111111109 & 0.0888888888888892 & 0.044444444444445 & 0.0444444444444436\\\\-0.0111111111111115 & 2.22044604925031 \\cdot 10^{-16} & -1.11022302462516 \\cdot 10^{-16} & 0.044444444444445 & 0.088888888888889 & 0.0444444444444445\\\\4.44089209850063 \\cdot 10^{-16} & -0.011111111111111 & -1.11022302462516 \\cdot 10^{-16} & 0.0444444444444436 & 0.0444444444444445 & 0.088888888888889\\end{matrix}\\right]$"
      ],
      "text/plain": [
       "Matrix([\n",
       "[  0.0166666666666675,  -0.00277777777777759,  -0.00277777777777785,   3.2612801348364e-15,   -0.0111111111111115,  4.44089209850063e-16],\n",
       "[-0.00277777777777759,    0.0166666666666666,  -0.00277777777777771, -2.22044604925031e-16,  2.22044604925031e-16,    -0.011111111111111],\n",
       "[-0.00277777777777785,  -0.00277777777777771,    0.0166666666666667,   -0.0111111111111109, -1.11022302462516e-16, -1.11022302462516e-16],\n",
       "[ 3.2612801348364e-15, -2.22044604925031e-16,   -0.0111111111111109,    0.0888888888888892,     0.044444444444445,    0.0444444444444436],\n",
       "[ -0.0111111111111115,  2.22044604925031e-16, -1.11022302462516e-16,     0.044444444444445,     0.088888888888889,    0.0444444444444445],\n",
       "[4.44089209850063e-16,    -0.011111111111111, -1.11022302462516e-16,    0.0444444444444436,    0.0444444444444445,     0.088888888888889]])"
      ]
     },
     "execution_count": 13,
     "metadata": {},
     "output_type": "execute_result"
    }
   ],
   "source": [
    "mass_mat"
   ]
  },
  {
   "cell_type": "code",
   "execution_count": 14,
   "metadata": {},
   "outputs": [
    {
     "name": "stdout",
     "output_type": "stream",
     "text": [
      "[[ 1.66666667e-02 -2.77777778e-03 -2.77777778e-03  3.26128013e-15\n",
      "  -1.11111111e-02  4.44089210e-16]\n",
      " [-2.77777778e-03  1.66666667e-02 -2.77777778e-03 -2.22044605e-16\n",
      "   2.22044605e-16 -1.11111111e-02]\n",
      " [-2.77777778e-03 -2.77777778e-03  1.66666667e-02 -1.11111111e-02\n",
      "  -1.11022302e-16 -1.11022302e-16]\n",
      " [ 3.26128013e-15 -2.22044605e-16 -1.11111111e-02  8.88888889e-02\n",
      "   4.44444444e-02  4.44444444e-02]\n",
      " [-1.11111111e-02  2.22044605e-16 -1.11022302e-16  4.44444444e-02\n",
      "   8.88888889e-02  4.44444444e-02]\n",
      " [ 4.44089210e-16 -1.11111111e-02 -1.11022302e-16  4.44444444e-02\n",
      "   4.44444444e-02  8.88888889e-02]]\n"
     ]
    }
   ],
   "source": [
    "# transfer mass_mat to numpy array\n",
    "import numpy as np\n",
    "mass_mat_numerical = np.array(mass_mat).astype(np.float64)\n",
    "print(mass_mat_numerical)"
   ]
  },
  {
   "cell_type": "code",
   "execution_count": null,
   "metadata": {},
   "outputs": [],
   "source": []
  }
 ],
 "metadata": {
  "kernelspec": {
   "display_name": "Python 3",
   "language": "python",
   "name": "python3"
  },
  "language_info": {
   "codemirror_mode": {
    "name": "ipython",
    "version": 3
   },
   "file_extension": ".py",
   "mimetype": "text/x-python",
   "name": "python",
   "nbconvert_exporter": "python",
   "pygments_lexer": "ipython3",
   "version": "3.11.4"
  },
  "orig_nbformat": 4
 },
 "nbformat": 4,
 "nbformat_minor": 2
}
