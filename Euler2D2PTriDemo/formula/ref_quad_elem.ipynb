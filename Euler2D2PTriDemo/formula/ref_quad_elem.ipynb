{
 "cells": [
  {
   "cell_type": "code",
   "execution_count": 1,
   "metadata": {},
   "outputs": [],
   "source": [
    "import os\n",
    "import numpy as np\n",
    "import matplotlib.pyplot as plt\n",
    "import sympy as sp\n",
    "\n",
    "import matplotlib\n",
    "matplotlib.rcParams['text.usetex'] = True\n",
    "\n",
    "image_path = \".//images//\""
   ]
  },
  {
   "cell_type": "markdown",
   "metadata": {},
   "source": [
    "# Reference Quadrature Element"
   ]
  },
  {
   "cell_type": "code",
   "execution_count": 2,
   "metadata": {},
   "outputs": [],
   "source": [
    "local_coords = sp.Matrix([\n",
    "    [-1, -1],\n",
    "    [1, -1],\n",
    "    [1, 1],\n",
    "    [-1, 1]\n",
    "])\n",
    "n_nodes = local_coords.shape[0]"
   ]
  },
  {
   "cell_type": "code",
   "execution_count": 3,
   "metadata": {},
   "outputs": [
    {
     "data": {
      "image/png": "[encoded data removed]",
      "text/plain": [
       "<Figure size 800x500 with 1 Axes>"
      ]
     },
     "metadata": {},
     "output_type": "display_data"
    }
   ],
   "source": [
    "ref_quad_fig = plt.figure(figsize=(8, 5), facecolor=\"white\")\n",
    "ref_quad_axes = ref_quad_fig.add_subplot(1, 1, 1)\n",
    "\n",
    "ref_quad_axes.set_aspect(\"equal\")\n",
    "ref_quad_axes.set_xlim(-1.3, 1.3)\n",
    "ref_quad_axes.set_ylim(-1.3, 1.3)\n",
    "\n",
    "for i_node in range(n_nodes):\n",
    "    ref_quad_axes.scatter(\n",
    "        local_coords[i_node, 0],\n",
    "        local_coords[i_node, 1],\n",
    "        color=\"red\",\n",
    "        s=50,\n",
    "        zorder=10\n",
    "    )\n",
    "    ref_quad_axes.text(\n",
    "        local_coords[i_node, 0] - 0.15,\n",
    "        local_coords[i_node, 1] - 0.15,\n",
    "        \"$N_{}$\".format(i_node + 1),\n",
    "        fontsize=12\n",
    "    )\n",
    "    i_node_next = (i_node + 1) % n_nodes\n",
    "    ref_quad_axes.plot(\n",
    "        [local_coords[i_node, 0], local_coords[i_node_next, 0]],\n",
    "        [local_coords[i_node, 1], local_coords[i_node_next, 1]],\n",
    "        color=\"blue\"\n",
    "    )\n",
    "    pass\n",
    "\n",
    "ref_quad_axes.fill(\n",
    "    local_coords[:, 0],\n",
    "    local_coords[:, 1],\n",
    "    color=\"lightblue\",\n",
    "    zorder=0\n",
    ")\n",
    "\n",
    "ref_quad_axes.arrow(\n",
    "    0, 0, 0.3, 0,\n",
    "    head_width=0.05,\n",
    "    head_length=0.05,\n",
    "    fc='k',\n",
    "    ec='k'\n",
    ")\n",
    "ref_quad_axes.text(\n",
    "    0.3, -0.15, r\"$\\xi$\",\n",
    "    fontsize=15\n",
    ")\n",
    "ref_quad_axes.arrow(\n",
    "    0, 0, 0, 0.3,\n",
    "    head_width=0.05,\n",
    "    head_length=0.05,\n",
    "    fc='k',\n",
    "    ec='k'\n",
    ")\n",
    "ref_quad_axes.text(\n",
    "    -0.15, 0.3, r\"$\\eta$\",\n",
    "    fontsize=15\n",
    ")\n",
    "\n",
    "ref_quad_fig.savefig(os.path.join(image_path, \"ref_quad_elem.png\"), bbox_inches=\"tight\")\n",
    "\n",
    "ref_quad_fig.show()"
   ]
  },
  {
   "cell_type": "markdown",
   "metadata": {},
   "source": [
    "# Transformation"
   ]
  },
  {
   "cell_type": "markdown",
   "metadata": {},
   "source": [
    "$$\n",
    "\\begin{bmatrix}\n",
    "x\\\\ y\n",
    "\\end{bmatrix}=\n",
    "\\begin{bmatrix}\n",
    "A_0 + A_1\\xi + A_2\\eta + A_3\\xi\\eta\\\\\n",
    "B_0 + B_1\\xi + B_2\\eta + B_3\\xi\\eta\n",
    "\\end{bmatrix}\n",
    "$$\n",
    "\n",
    "Thus:\n",
    "\n",
    "$$\n",
    "\\begin{bmatrix}\n",
    "x_1 \\\\ x_2 \\\\ x_3 \\\\ x_4\n",
    "\\end{bmatrix}=\n",
    "\\begin{bmatrix}\n",
    "1 & \\xi_1 & \\eta_1 & \\xi_1\\eta_1\\\\\n",
    "1 & \\xi_2 & \\eta_2 & \\xi_2\\eta_2\\\\\n",
    "1 & \\xi_3 & \\eta_3 & \\xi_3\\eta_3\\\\\n",
    "1 & \\xi_4 & \\eta_4 & \\xi_4\\eta_4\n",
    "\\end{bmatrix}\n",
    "\\begin{bmatrix}\n",
    "A_0 \\\\ A_1 \\\\ A_2 \\\\ A_3\n",
    "\\end{bmatrix}\n",
    "$$"
   ]
  },
  {
   "cell_type": "code",
   "execution_count": 4,
   "metadata": {},
   "outputs": [],
   "source": [
    "x_1, y_1 = sp.symbols(\"x_1, y_1\")\n",
    "x_2, y_2 = sp.symbols(\"x_2, y_2\")\n",
    "x_3, y_3 = sp.symbols(\"x_3, y_3\")\n",
    "x_4, y_4 = sp.symbols(\"x_4, y_4\")\n",
    "xi, eta = sp.symbols(\"xi, eta\")"
   ]
  },
  {
   "cell_type": "code",
   "execution_count": 5,
   "metadata": {},
   "outputs": [
    {
     "data": {
      "text/latex": [
       "$\\displaystyle \\left[\\begin{matrix}1 & -1 & -1 & 1\\\\1 & 1 & -1 & -1\\\\1 & 1 & 1 & 1\\\\1 & -1 & 1 & -1\\end{matrix}\\right]$"
      ],
      "text/plain": [
       "Matrix([\n",
       "[1, -1, -1,  1],\n",
       "[1,  1, -1, -1],\n",
       "[1,  1,  1,  1],\n",
       "[1, -1,  1, -1]])"
      ]
     },
     "execution_count": 5,
     "metadata": {},
     "output_type": "execute_result"
    }
   ],
   "source": [
    "coeff_to_node = sp.zeros(n_nodes, n_nodes)\n",
    "for i_node in range(n_nodes):\n",
    "    coeff_to_node[i_node, :] = sp.Matrix([\n",
    "        [1, \\\n",
    "        local_coords[i_node, 0], \\\n",
    "        local_coords[i_node, 1], \\\n",
    "        local_coords[i_node, 0] * local_coords[i_node, 1]]\n",
    "    ])\n",
    "    pass\n",
    "coeff_to_node"
   ]
  },
  {
   "cell_type": "code",
   "execution_count": 6,
   "metadata": {},
   "outputs": [
    {
     "data": {
      "text/latex": [
       "$\\displaystyle \\left[\\begin{matrix}\\frac{1}{4} & \\frac{1}{4} & \\frac{1}{4} & \\frac{1}{4}\\\\- \\frac{1}{4} & \\frac{1}{4} & \\frac{1}{4} & - \\frac{1}{4}\\\\- \\frac{1}{4} & - \\frac{1}{4} & \\frac{1}{4} & \\frac{1}{4}\\\\\\frac{1}{4} & - \\frac{1}{4} & \\frac{1}{4} & - \\frac{1}{4}\\end{matrix}\\right]$"
      ],
      "text/plain": [
       "Matrix([\n",
       "[ 1/4,  1/4, 1/4,  1/4],\n",
       "[-1/4,  1/4, 1/4, -1/4],\n",
       "[-1/4, -1/4, 1/4,  1/4],\n",
       "[ 1/4, -1/4, 1/4, -1/4]])"
      ]
     },
     "execution_count": 6,
     "metadata": {},
     "output_type": "execute_result"
    }
   ],
   "source": [
    "node_to_coeff = coeff_to_node.inv()\n",
    "node_to_coeff"
   ]
  },
  {
   "cell_type": "code",
   "execution_count": 7,
   "metadata": {},
   "outputs": [
    {
     "data": {
      "text/latex": [
       "$\\displaystyle \\frac{\\eta \\xi \\left(x_{1} - x_{2} + x_{3} - x_{4}\\right)}{4} - \\frac{\\eta \\left(x_{1} + x_{2} - x_{3} - x_{4}\\right)}{4} + \\frac{x_{1}}{4} + \\frac{x_{2}}{4} + \\frac{x_{3}}{4} + \\frac{x_{4}}{4} - \\frac{\\xi \\left(x_{1} - x_{2} - x_{3} + x_{4}\\right)}{4}$"
      ],
      "text/plain": [
       "eta*xi*(x_1 - x_2 + x_3 - x_4)/4 - eta*(x_1 + x_2 - x_3 - x_4)/4 + x_1/4 + x_2/4 + x_3/4 + x_4/4 - xi*(x_1 - x_2 - x_3 + x_4)/4"
      ]
     },
     "execution_count": 7,
     "metadata": {},
     "output_type": "execute_result"
    }
   ],
   "source": [
    "A_0, A_1, A_2, A_3 = node_to_coeff @ sp.Matrix([x_1, x_2, x_3, x_4])\n",
    "x = A_0 + A_1 * xi + A_2 * eta + A_3 * xi * eta\n",
    "x = sp.simplify(x)\n",
    "x"
   ]
  },
  {
   "cell_type": "code",
   "execution_count": 8,
   "metadata": {},
   "outputs": [
    {
     "data": {
      "text/latex": [
       "$\\displaystyle \\frac{\\eta \\xi \\left(y_{1} - y_{2} + y_{3} - y_{4}\\right)}{4} - \\frac{\\eta \\left(y_{1} + y_{2} - y_{3} - y_{4}\\right)}{4} - \\frac{\\xi \\left(y_{1} - y_{2} - y_{3} + y_{4}\\right)}{4} + \\frac{y_{1}}{4} + \\frac{y_{2}}{4} + \\frac{y_{3}}{4} + \\frac{y_{4}}{4}$"
      ],
      "text/plain": [
       "eta*xi*(y_1 - y_2 + y_3 - y_4)/4 - eta*(y_1 + y_2 - y_3 - y_4)/4 - xi*(y_1 - y_2 - y_3 + y_4)/4 + y_1/4 + y_2/4 + y_3/4 + y_4/4"
      ]
     },
     "execution_count": 8,
     "metadata": {},
     "output_type": "execute_result"
    }
   ],
   "source": [
    "B_0, B_1, B_2, B_3 = node_to_coeff @ sp.Matrix([y_1, y_2, y_3, y_4])\n",
    "y = B_0 + B_1 * xi + B_2 * eta + B_3 * xi * eta\n",
    "y = sp.simplify(y)\n",
    "y"
   ]
  },
  {
   "cell_type": "code",
   "execution_count": 9,
   "metadata": {},
   "outputs": [
    {
     "data": {
      "text/latex": [
       "$\\displaystyle \\left[\\begin{matrix}\\frac{\\eta \\left(x_{1} - x_{2} + x_{3} - x_{4}\\right)}{4} - \\frac{x_{1}}{4} + \\frac{x_{2}}{4} + \\frac{x_{3}}{4} - \\frac{x_{4}}{4} & - \\frac{x_{1}}{4} - \\frac{x_{2}}{4} + \\frac{x_{3}}{4} + \\frac{x_{4}}{4} + \\frac{\\xi \\left(x_{1} - x_{2} + x_{3} - x_{4}\\right)}{4}\\\\\\frac{\\eta \\left(y_{1} - y_{2} + y_{3} - y_{4}\\right)}{4} - \\frac{y_{1}}{4} + \\frac{y_{2}}{4} + \\frac{y_{3}}{4} - \\frac{y_{4}}{4} & \\frac{\\xi \\left(y_{1} - y_{2} + y_{3} - y_{4}\\right)}{4} - \\frac{y_{1}}{4} - \\frac{y_{2}}{4} + \\frac{y_{3}}{4} + \\frac{y_{4}}{4}\\end{matrix}\\right]$"
      ],
      "text/plain": [
       "Matrix([\n",
       "[eta*(x_1 - x_2 + x_3 - x_4)/4 - x_1/4 + x_2/4 + x_3/4 - x_4/4, -x_1/4 - x_2/4 + x_3/4 + x_4/4 + xi*(x_1 - x_2 + x_3 - x_4)/4],\n",
       "[eta*(y_1 - y_2 + y_3 - y_4)/4 - y_1/4 + y_2/4 + y_3/4 - y_4/4,  xi*(y_1 - y_2 + y_3 - y_4)/4 - y_1/4 - y_2/4 + y_3/4 + y_4/4]])"
      ]
     },
     "execution_count": 9,
     "metadata": {},
     "output_type": "execute_result"
    }
   ],
   "source": [
    "jacobian_matrix = sp.Matrix([x, y]).jacobian(sp.Matrix([xi, eta]))\n",
    "jacobian_matrix = sp.simplify(jacobian_matrix)\n",
    "jacobian_matrix"
   ]
  },
  {
   "cell_type": "code",
   "execution_count": 10,
   "metadata": {},
   "outputs": [
    {
     "data": {
      "text/latex": [
       "$\\displaystyle - \\frac{\\eta x_{1} y_{2}}{8} + \\frac{\\eta x_{1} y_{3}}{8} + \\frac{\\eta x_{2} y_{1}}{8} - \\frac{\\eta x_{2} y_{4}}{8} - \\frac{\\eta x_{3} y_{1}}{8} + \\frac{\\eta x_{3} y_{4}}{8} + \\frac{\\eta x_{4} y_{2}}{8} - \\frac{\\eta x_{4} y_{3}}{8} - \\frac{x_{1} \\xi y_{3}}{8} + \\frac{x_{1} \\xi y_{4}}{8} + \\frac{x_{1} y_{2}}{8} - \\frac{x_{1} y_{4}}{8} + \\frac{x_{2} \\xi y_{3}}{8} - \\frac{x_{2} \\xi y_{4}}{8} - \\frac{x_{2} y_{1}}{8} + \\frac{x_{2} y_{3}}{8} + \\frac{x_{3} \\xi y_{1}}{8} - \\frac{x_{3} \\xi y_{2}}{8} - \\frac{x_{3} y_{2}}{8} + \\frac{x_{3} y_{4}}{8} - \\frac{x_{4} \\xi y_{1}}{8} + \\frac{x_{4} \\xi y_{2}}{8} + \\frac{x_{4} y_{1}}{8} - \\frac{x_{4} y_{3}}{8}$"
      ],
      "text/plain": [
       "-eta*x_1*y_2/8 + eta*x_1*y_3/8 + eta*x_2*y_1/8 - eta*x_2*y_4/8 - eta*x_3*y_1/8 + eta*x_3*y_4/8 + eta*x_4*y_2/8 - eta*x_4*y_3/8 - x_1*xi*y_3/8 + x_1*xi*y_4/8 + x_1*y_2/8 - x_1*y_4/8 + x_2*xi*y_3/8 - x_2*xi*y_4/8 - x_2*y_1/8 + x_2*y_3/8 + x_3*xi*y_1/8 - x_3*xi*y_2/8 - x_3*y_2/8 + x_3*y_4/8 - x_4*xi*y_1/8 + x_4*xi*y_2/8 + x_4*y_1/8 - x_4*y_3/8"
      ]
     },
     "execution_count": 10,
     "metadata": {},
     "output_type": "execute_result"
    }
   ],
   "source": [
    "jacobian_det = jacobian_matrix.det()\n",
    "jacobian_det = sp.simplify(jacobian_det)\n",
    "jacobian_det"
   ]
  },
  {
   "cell_type": "code",
   "execution_count": 11,
   "metadata": {},
   "outputs": [
    {
     "data": {
      "text/latex": [
       "$\\displaystyle - \\frac{x_{1} y_{3}}{8} + \\frac{x_{1} y_{4}}{8} + \\frac{x_{2} y_{3}}{8} - \\frac{x_{2} y_{4}}{8} + \\frac{x_{3} y_{1}}{8} - \\frac{x_{3} y_{2}}{8} - \\frac{x_{4} y_{1}}{8} + \\frac{x_{4} y_{2}}{8}$"
      ],
      "text/plain": [
       "-x_1*y_3/8 + x_1*y_4/8 + x_2*y_3/8 - x_2*y_4/8 + x_3*y_1/8 - x_3*y_2/8 - x_4*y_1/8 + x_4*y_2/8"
      ]
     },
     "execution_count": 11,
     "metadata": {},
     "output_type": "execute_result"
    }
   ],
   "source": [
    "C_1 = jacobian_det.diff(xi)\n",
    "C_1"
   ]
  },
  {
   "cell_type": "code",
   "execution_count": 12,
   "metadata": {},
   "outputs": [
    {
     "data": {
      "text/latex": [
       "$\\displaystyle - \\frac{x_{1} y_{2}}{8} + \\frac{x_{1} y_{3}}{8} + \\frac{x_{2} y_{1}}{8} - \\frac{x_{2} y_{4}}{8} - \\frac{x_{3} y_{1}}{8} + \\frac{x_{3} y_{4}}{8} + \\frac{x_{4} y_{2}}{8} - \\frac{x_{4} y_{3}}{8}$"
      ],
      "text/plain": [
       "-x_1*y_2/8 + x_1*y_3/8 + x_2*y_1/8 - x_2*y_4/8 - x_3*y_1/8 + x_3*y_4/8 + x_4*y_2/8 - x_4*y_3/8"
      ]
     },
     "execution_count": 12,
     "metadata": {},
     "output_type": "execute_result"
    }
   ],
   "source": [
    "C_2 = jacobian_det.diff(eta)\n",
    "C_2"
   ]
  },
  {
   "cell_type": "code",
   "execution_count": 13,
   "metadata": {},
   "outputs": [
    {
     "data": {
      "text/latex": [
       "$\\displaystyle \\frac{x_{1} y_{2}}{8} - \\frac{x_{1} y_{4}}{8} - \\frac{x_{2} y_{1}}{8} + \\frac{x_{2} y_{3}}{8} - \\frac{x_{3} y_{2}}{8} + \\frac{x_{3} y_{4}}{8} + \\frac{x_{4} y_{1}}{8} - \\frac{x_{4} y_{3}}{8}$"
      ],
      "text/plain": [
       "x_1*y_2/8 - x_1*y_4/8 - x_2*y_1/8 + x_2*y_3/8 - x_3*y_2/8 + x_3*y_4/8 + x_4*y_1/8 - x_4*y_3/8"
      ]
     },
     "execution_count": 13,
     "metadata": {},
     "output_type": "execute_result"
    }
   ],
   "source": [
    "C_0 = jacobian_det - C_1 * xi - C_2 * eta\n",
    "C_0 = sp.simplify(C_0)\n",
    "C_0"
   ]
  },
  {
   "cell_type": "markdown",
   "metadata": {},
   "source": [
    "Jacobi matrix:\n",
    "\n",
    "$$\n",
    "J=\n",
    "\\begin{bmatrix}\n",
    "\\frac{\\partial x}{\\partial \\xi} & \\frac{\\partial x}{\\partial \\eta}\\\\\n",
    "\\frac{\\partial y}{\\partial \\xi} & \\frac{\\partial y}{\\partial \\eta}\n",
    "\\end{bmatrix}=\n",
    "\\begin{bmatrix}\n",
    "\\frac{\\eta \\left(x_{1} - x_{2} + x_{3} - x_{4}\\right)}{4} - \\frac{x_{1}}{4} + \\frac{x_{2}}{4} + \\frac{x_{3}}{4} - \\frac{x_{4}}{4} & - \\frac{x_{1}}{4} - \\frac{x_{2}}{4} + \\frac{x_{3}}{4} + \\frac{x_{4}}{4} + \\frac{\\xi \\left(x_{1} - x_{2} + x_{3} - x_{4}\\right)}{4}\\\\\\frac{\\eta \\left(y_{1} - y_{2} + y_{3} - y_{4}\\right)}{4} - \\frac{y_{1}}{4} + \\frac{y_{2}}{4} + \\frac{y_{3}}{4} - \\frac{y_{4}}{4} & \\frac{\\xi \\left(y_{1} - y_{2} + y_{3} - y_{4}\\right)}{4} - \\frac{y_{1}}{4} - \\frac{y_{2}}{4} + \\frac{y_{3}}{4} + \\frac{y_{4}}{4}\n",
    "\\end{bmatrix}\n",
    "$$\n",
    "\n",
    "Determinant of Jacobi matrix has the form of:\n",
    "\n",
    "$$\n",
    "det(J) = C_0 + C_1 \\xi + C_2 \\eta\n",
    "$$\n",
    "\n",
    "where:\n",
    "\n",
    "$$\n",
    "\\begin{aligned}\n",
    "C_0 &= \\frac{x_{1} y_{2}}{8} - \\frac{x_{1} y_{4}}{8} - \\frac{x_{2} y_{1}}{8} + \\frac{x_{2} y_{3}}{8} - \\frac{x_{3} y_{2}}{8} + \\frac{x_{3} y_{4}}{8} + \\frac{x_{4} y_{1}}{8} - \\frac{x_{4} y_{3}}{8} \\\\\n",
    "C_1 &= - \\frac{x_{1} y_{3}}{8} + \\frac{x_{1} y_{4}}{8} + \\frac{x_{2} y_{3}}{8} - \\frac{x_{2} y_{4}}{8} + \\frac{x_{3} y_{1}}{8} - \\frac{x_{3} y_{2}}{8} - \\frac{x_{4} y_{1}}{8} + \\frac{x_{4} y_{2}}{8} \\\\\n",
    "C_2 &= - \\frac{x_{1} y_{2}}{8} + \\frac{x_{1} y_{3}}{8} + \\frac{x_{2} y_{1}}{8} - \\frac{x_{2} y_{4}}{8} - \\frac{x_{3} y_{1}}{8} + \\frac{x_{3} y_{4}}{8} + \\frac{x_{4} y_{2}}{8} - \\frac{x_{4} y_{3}}{8}\n",
    "\\end{aligned}\n",
    "$$"
   ]
  },
  {
   "cell_type": "code",
   "execution_count": 14,
   "metadata": {},
   "outputs": [],
   "source": [
    "# print(sp.latex(jacobian_matrix))\n",
    "# print(sp.latex(jacobian_det))\n",
    "# print(sp.latex(C_0))\n",
    "# print(sp.latex(C_1))\n",
    "# print(sp.latex(C_2))"
   ]
  },
  {
   "cell_type": "code",
   "execution_count": null,
   "metadata": {},
   "outputs": [],
   "source": []
  }
 ],
 "metadata": {
  "kernelspec": {
   "display_name": "Python 3",
   "language": "python",
   "name": "python3"
  },
  "language_info": {
   "codemirror_mode": {
    "name": "ipython",
    "version": 3
   },
   "file_extension": ".py",
   "mimetype": "text/x-python",
   "name": "python",
   "nbconvert_exporter": "python",
   "pygments_lexer": "ipython3",
   "version": "3.11.5"
  }
 },
 "nbformat": 4,
 "nbformat_minor": 2
}
