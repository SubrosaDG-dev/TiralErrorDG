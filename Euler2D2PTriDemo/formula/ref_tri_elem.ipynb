{
 "cells": [
  {
   "cell_type": "code",
   "execution_count": 1,
   "metadata": {},
   "outputs": [],
   "source": [
    "import os\n",
    "import numpy as np\n",
    "import matplotlib.pyplot as plt\n",
    "import sympy as sp\n",
    "\n",
    "import matplotlib\n",
    "matplotlib.rcParams['text.usetex'] = True\n",
    "\n",
    "image_path = \".//images//\""
   ]
  },
  {
   "cell_type": "markdown",
   "metadata": {},
   "source": [
    "# Reference Triangle Element"
   ]
  },
  {
   "cell_type": "code",
   "execution_count": 2,
   "metadata": {},
   "outputs": [],
   "source": [
    "local_coords = sp.Matrix([\n",
    "    [0, 0],\n",
    "    [1, 0],\n",
    "    [0, 1]\n",
    "])\n",
    "n_nodes = local_coords.shape[0]"
   ]
  },
  {
   "cell_type": "code",
   "execution_count": 3,
   "metadata": {},
   "outputs": [
    {
     "data": {
      "image/png": "[encoded data removed]",
      "text/plain": [
       "<Figure size 800x500 with 1 Axes>"
      ]
     },
     "metadata": {},
     "output_type": "display_data"
    }
   ],
   "source": [
    "ref_tri_fig = plt.figure(figsize=(8, 5), facecolor=\"white\")\n",
    "ref_tri_axes = ref_tri_fig.add_subplot(1, 1, 1)\n",
    "\n",
    "ref_tri_axes.set_aspect(\"equal\")\n",
    "ref_tri_axes.set_xlim(-0.2, 1.2)\n",
    "ref_tri_axes.set_ylim(-0.2, 1.2)\n",
    "\n",
    "for i_node in range(n_nodes):\n",
    "    ref_tri_axes.scatter(\n",
    "        local_coords[i_node, 0],\n",
    "        local_coords[i_node, 1],\n",
    "        color=\"red\",\n",
    "        s=50,\n",
    "        zorder=10\n",
    "    )\n",
    "    ref_tri_axes.text(\n",
    "        local_coords[i_node, 0] - 0.1,\n",
    "        local_coords[i_node, 1] - 0.1,\n",
    "        \"$N_{}$\".format(i_node + 1),\n",
    "        fontsize=12\n",
    "    )\n",
    "    i_node_next = (i_node + 1) % n_nodes\n",
    "    ref_tri_axes.plot(\n",
    "        [local_coords[i_node, 0], local_coords[i_node_next, 0]],\n",
    "        [local_coords[i_node, 1], local_coords[i_node_next, 1]],\n",
    "        color=\"blue\"\n",
    "    )\n",
    "    pass\n",
    "\n",
    "ref_tri_axes.fill(\n",
    "    local_coords[:, 0],\n",
    "    local_coords[:, 1],\n",
    "    color=\"lightblue\",\n",
    "    zorder=0\n",
    ")\n",
    "\n",
    "ref_tri_axes.arrow(\n",
    "    0, 0, 0.3, 0,\n",
    "    width=0.005,\n",
    "    color=\"black\",\n",
    "    zorder=20\n",
    ")\n",
    "ref_tri_axes.text(\n",
    "    0.3, -0.1,\n",
    "    r\"$\\xi$\",\n",
    "    fontsize=15\n",
    ")\n",
    "ref_tri_axes.arrow(\n",
    "    0, 0, 0, 0.3,\n",
    "    width=0.005,\n",
    "    color=\"black\",\n",
    "    zorder=20\n",
    ")\n",
    "ref_tri_axes.text(\n",
    "    -0.1, 0.3,\n",
    "    r\"$\\eta$\",\n",
    "    fontsize=15\n",
    ")\n",
    "\n",
    "ref_tri_fig.savefig(os.path.join(image_path, \"ref_tri_elem.png\"), bbox_inches=\"tight\" )\n",
    "\n",
    "ref_tri_fig.show()"
   ]
  },
  {
   "cell_type": "markdown",
   "metadata": {},
   "source": [
    "# Transformation"
   ]
  },
  {
   "cell_type": "markdown",
   "metadata": {},
   "source": [
    "$$\n",
    "\\begin{bmatrix}\n",
    "x\\\\ y\n",
    "\\end{bmatrix}=\n",
    "\\begin{bmatrix}\n",
    "A_1 + A_2\\xi + A_3\\eta\\\\\n",
    "B_1 + B_2\\xi + B_3\\eta\n",
    "\\end{bmatrix}\n",
    "$$\n",
    "\n",
    "Also can be written as:\n",
    "\n",
    "$$\n",
    "\\begin{bmatrix}\n",
    "x\\\\ y\n",
    "\\end{bmatrix}=\n",
    "\\begin{bmatrix}\n",
    "A_2 & A_3\\\\\n",
    "B_2 & B_3\n",
    "\\end{bmatrix}\n",
    "\\begin{bmatrix}\n",
    "\\xi\\\\ \\eta\n",
    "\\end{bmatrix}+\n",
    "\\begin{bmatrix}\n",
    "A_1\\\\ B_1\n",
    "\\end{bmatrix}\n",
    "$$\n",
    "\n",
    "Thus:\n",
    "\n",
    "$$\n",
    "\\begin{bmatrix}\n",
    "x_1 \\\\ x_2 \\\\ x_3\n",
    "\\end{bmatrix}=\n",
    "\\begin{bmatrix}\n",
    "1 & \\xi_1 & \\eta_1\\\\\n",
    "1 & \\xi_2 & \\eta_2\\\\\n",
    "1 & \\xi_3 & \\eta_3\n",
    "\\end{bmatrix}\n",
    "\\begin{bmatrix}\n",
    "A_1\\\\ A_2\\\\ A_3\n",
    "\\end{bmatrix}\n",
    "$$"
   ]
  },
  {
   "cell_type": "code",
   "execution_count": 4,
   "metadata": {},
   "outputs": [],
   "source": [
    "x_1, y_1 = sp.symbols(\"x_1, y_1\")\n",
    "x_2, y_2 = sp.symbols(\"x_2, y_2\")\n",
    "x_3, y_3 = sp.symbols(\"x_3, y_3\")\n",
    "xi, eta = sp.symbols(\"xi, eta\")"
   ]
  },
  {
   "cell_type": "code",
   "execution_count": 5,
   "metadata": {},
   "outputs": [
    {
     "data": {
      "text/latex": [
       "$\\displaystyle \\left[\\begin{matrix}1 & 0 & 0\\\\1 & 1 & 0\\\\1 & 0 & 1\\end{matrix}\\right]$"
      ],
      "text/plain": [
       "Matrix([\n",
       "[1, 0, 0],\n",
       "[1, 1, 0],\n",
       "[1, 0, 1]])"
      ]
     },
     "execution_count": 5,
     "metadata": {},
     "output_type": "execute_result"
    }
   ],
   "source": [
    "coeff_to_node = sp.zeros(n_nodes, n_nodes)\n",
    "for i_node in range(n_nodes):\n",
    "    coeff_to_node[i_node, :] = sp.Matrix([\n",
    "        [1, local_coords[i_node, 0], local_coords[i_node, 1]]\n",
    "    ])\n",
    "    pass\n",
    "coeff_to_node"
   ]
  },
  {
   "cell_type": "code",
   "execution_count": 6,
   "metadata": {},
   "outputs": [
    {
     "data": {
      "text/latex": [
       "$\\displaystyle \\left[\\begin{matrix}1 & 0 & 0\\\\-1 & 1 & 0\\\\-1 & 0 & 1\\end{matrix}\\right]$"
      ],
      "text/plain": [
       "Matrix([\n",
       "[ 1, 0, 0],\n",
       "[-1, 1, 0],\n",
       "[-1, 0, 1]])"
      ]
     },
     "execution_count": 6,
     "metadata": {},
     "output_type": "execute_result"
    }
   ],
   "source": [
    "node_to_coeff = coeff_to_node.inv()\n",
    "node_to_coeff"
   ]
  },
  {
   "cell_type": "code",
   "execution_count": 7,
   "metadata": {},
   "outputs": [
    {
     "data": {
      "text/latex": [
       "$\\displaystyle - \\eta \\left(x_{1} - x_{3}\\right) + x_{1} - \\xi \\left(x_{1} - x_{2}\\right)$"
      ],
      "text/plain": [
       "-eta*(x_1 - x_3) + x_1 - xi*(x_1 - x_2)"
      ]
     },
     "execution_count": 7,
     "metadata": {},
     "output_type": "execute_result"
    }
   ],
   "source": [
    "A_0, A_1, A_2 = node_to_coeff @ sp.Matrix([x_1, x_2, x_3])\n",
    "x = A_0 + A_1 * xi + A_2 * eta\n",
    "x = sp.simplify(x)\n",
    "x"
   ]
  },
  {
   "cell_type": "code",
   "execution_count": 8,
   "metadata": {},
   "outputs": [
    {
     "data": {
      "text/latex": [
       "$\\displaystyle - \\eta \\left(y_{1} - y_{3}\\right) - \\xi \\left(y_{1} - y_{2}\\right) + y_{1}$"
      ],
      "text/plain": [
       "-eta*(y_1 - y_3) - xi*(y_1 - y_2) + y_1"
      ]
     },
     "execution_count": 8,
     "metadata": {},
     "output_type": "execute_result"
    }
   ],
   "source": [
    "B_0, B_1, B_2 = node_to_coeff @ sp.Matrix([y_1, y_2, y_3])\n",
    "y = B_0 + B_1 * xi + B_2 * eta\n",
    "y = sp.simplify(y)\n",
    "y"
   ]
  },
  {
   "cell_type": "code",
   "execution_count": 9,
   "metadata": {},
   "outputs": [
    {
     "data": {
      "text/latex": [
       "$\\displaystyle \\left[\\begin{matrix}- x_{1} + x_{2} & - x_{1} + x_{3}\\\\- y_{1} + y_{2} & - y_{1} + y_{3}\\end{matrix}\\right]$"
      ],
      "text/plain": [
       "Matrix([\n",
       "[-x_1 + x_2, -x_1 + x_3],\n",
       "[-y_1 + y_2, -y_1 + y_3]])"
      ]
     },
     "execution_count": 9,
     "metadata": {},
     "output_type": "execute_result"
    }
   ],
   "source": [
    "jacobian_matrix = sp.Matrix([x, y]).jacobian(sp.Matrix([xi, eta]))\n",
    "jacobian_matrix = sp.simplify(jacobian_matrix)\n",
    "jacobian_matrix"
   ]
  },
  {
   "cell_type": "code",
   "execution_count": 10,
   "metadata": {},
   "outputs": [
    {
     "data": {
      "text/latex": [
       "$\\displaystyle x_{1} y_{2} - x_{1} y_{3} - x_{2} y_{1} + x_{2} y_{3} + x_{3} y_{1} - x_{3} y_{2}$"
      ],
      "text/plain": [
       "x_1*y_2 - x_1*y_3 - x_2*y_1 + x_2*y_3 + x_3*y_1 - x_3*y_2"
      ]
     },
     "execution_count": 10,
     "metadata": {},
     "output_type": "execute_result"
    }
   ],
   "source": [
    "jacobian_det = jacobian_matrix.det()\n",
    "jacobian_det = sp.simplify(jacobian_det)\n",
    "jacobian_det"
   ]
  },
  {
   "cell_type": "code",
   "execution_count": 11,
   "metadata": {},
   "outputs": [],
   "source": [
    "# print(sp.latex(jacobian_matrix))\n",
    "# print(sp.latex(jacobian_det))"
   ]
  },
  {
   "cell_type": "markdown",
   "metadata": {},
   "source": [
    "Jacobi matrix:\n",
    "\n",
    "$$\n",
    "J=\n",
    "\\begin{bmatrix}\n",
    "\\frac{\\partial x}{\\partial \\xi} & \\frac{\\partial x}{\\partial \\eta}\\\\\n",
    "\\frac{\\partial y}{\\partial \\xi} & \\frac{\\partial y}{\\partial \\eta}\n",
    "\\end{bmatrix}=\n",
    "\\begin{bmatrix}\n",
    "-x_1 + x_2 & -x_1 + x_3\\\\\n",
    "-y_1 + y_2 & -y_1 + y_3\n",
    "\\end{bmatrix}\n",
    "$$\n",
    "\n",
    "it's obvious that the jacobi matrix is constant. Also the determinant of the jacobi matrix is constant:\n",
    "\n",
    "$$\n",
    "det(J)=x_{1} y_{2} - x_{1} y_{3} - x_{2} y_{1} + x_{2} y_{3} + x_{3} y_{1} - x_{3} y_{2}\n",
    "$$"
   ]
  },
  {
   "cell_type": "markdown",
   "metadata": {},
   "source": [
    "# Mass Matrix (order 2 as example)"
   ]
  },
  {
   "cell_type": "code",
   "execution_count": 12,
   "metadata": {},
   "outputs": [
    {
     "data": {
      "text/latex": [
       "$\\displaystyle \\left[\\begin{matrix}0 & 0\\\\1 & 0\\\\0 & 1\\\\\\frac{1}{2} & 0\\\\\\frac{1}{2} & \\frac{1}{2}\\\\0 & \\frac{1}{2}\\end{matrix}\\right]$"
      ],
      "text/plain": [
       "Matrix([\n",
       "[  0,   0],\n",
       "[  1,   0],\n",
       "[  0,   1],\n",
       "[1/2,   0],\n",
       "[1/2, 1/2],\n",
       "[  0, 1/2]])"
      ]
     },
     "execution_count": 12,
     "metadata": {},
     "output_type": "execute_result"
    }
   ],
   "source": [
    "order_2_nodes = sp.Matrix([\n",
    "    [0, 0],\n",
    "    [1, 0],\n",
    "    [0, 1],\n",
    "    [sp.Rational(1, 2), 0],\n",
    "    [sp.Rational(1, 2), sp.Rational(1, 2)],\n",
    "    [0, sp.Rational(1, 2)]\n",
    "])\n",
    "order_2_n_nodes = order_2_nodes.shape[0]\n",
    "order_2_nodes"
   ]
  },
  {
   "cell_type": "code",
   "execution_count": 13,
   "metadata": {},
   "outputs": [
    {
     "data": {
      "image/png": "[encoded data removed]",
      "text/plain": [
       "<Figure size 800x500 with 1 Axes>"
      ]
     },
     "metadata": {},
     "output_type": "display_data"
    }
   ],
   "source": [
    "order_2_tri_fig = plt.figure(figsize=(8, 5), facecolor=\"white\")\n",
    "order_2_tri_axes = order_2_tri_fig.add_subplot(1, 1, 1)\n",
    "\n",
    "order_2_tri_axes.set_aspect(\"equal\")\n",
    "order_2_tri_axes.set_xlim(-0.2, 1.2)\n",
    "order_2_tri_axes.set_ylim(-0.2, 1.2)\n",
    "\n",
    "for i_node in range(order_2_nodes.shape[0]):\n",
    "    order_2_tri_axes.scatter(\n",
    "        order_2_nodes[i_node, 0],\n",
    "        order_2_nodes[i_node, 1],\n",
    "        color=\"red\",\n",
    "        s=50,\n",
    "        zorder=10\n",
    "    )\n",
    "    order_2_tri_axes.text(\n",
    "        order_2_nodes[i_node, 0] - 0.1,\n",
    "        order_2_nodes[i_node, 1] - 0.1,\n",
    "        \"$N_{}$\".format(i_node + 1),\n",
    "        fontsize=12\n",
    "    )\n",
    "    pass\n",
    "\n",
    "for i_node in range(n_nodes):\n",
    "    i_node_next = (i_node + 1) % n_nodes\n",
    "    order_2_tri_axes.plot(\n",
    "        [local_coords[i_node, 0], local_coords[i_node_next, 0]],\n",
    "        [local_coords[i_node, 1], local_coords[i_node_next, 1]],\n",
    "        color=\"blue\"\n",
    "    )\n",
    "    pass\n",
    "\n",
    "order_2_tri_axes.fill(\n",
    "    local_coords[:, 0],\n",
    "    local_coords[:, 1],\n",
    "    color=\"lightblue\",\n",
    "    zorder=0\n",
    ")\n",
    "\n",
    "order_2_tri_fig.savefig(os.path.join(image_path, \"order_2_tri_elem.png\"), bbox_inches=\"tight\" )\n",
    "\n",
    "order_2_tri_fig.show()"
   ]
  },
  {
   "cell_type": "markdown",
   "metadata": {},
   "source": [
    "## Base Functions"
   ]
  },
  {
   "cell_type": "markdown",
   "metadata": {},
   "source": [
    "The base functions are:\n",
    "\n",
    "$$\n",
    "\\tilde{u}(\\xi, \\eta) =\n",
    "a_0 + a_1 \\xi + a_2 \\eta + a_3 \\xi^2 + a_4 \\xi \\eta + a_5 \\eta^2\n",
    "$$\n",
    "\n",
    "The coefficients are ensured by the following conditions:\n",
    "\n",
    "$$\n",
    "u_j = \\tilde{u}(\\xi_j, \\eta_j)\\quad j = 1, 2, 3\n",
    "$$"
   ]
  },
  {
   "cell_type": "code",
   "execution_count": 14,
   "metadata": {},
   "outputs": [
    {
     "data": {
      "text/latex": [
       "$\\displaystyle \\left[\\begin{matrix}1 & \\xi & \\eta & \\xi^{2} & \\eta \\xi & \\eta^{2}\\end{matrix}\\right]$"
      ],
      "text/plain": [
       "Matrix([[1, xi, eta, xi**2, eta*xi, eta**2]])"
      ]
     },
     "execution_count": 14,
     "metadata": {},
     "output_type": "execute_result"
    }
   ],
   "source": [
    "order_2_base_functions = sp.Matrix([\n",
    "    [1, xi, eta, xi**2, xi * eta, eta**2]\n",
    "])\n",
    "order_2_base_functions"
   ]
  },
  {
   "cell_type": "code",
   "execution_count": 15,
   "metadata": {},
   "outputs": [
    {
     "data": {
      "text/latex": [
       "$\\displaystyle \\left[\\begin{matrix}1 & 0 & 0 & 0 & 0 & 0\\\\1 & 1 & 0 & 1 & 0 & 0\\\\1 & 0 & 1 & 0 & 0 & 1\\\\1 & \\frac{1}{2} & 0 & \\frac{1}{4} & 0 & 0\\\\1 & \\frac{1}{2} & \\frac{1}{2} & \\frac{1}{4} & \\frac{1}{4} & \\frac{1}{4}\\\\1 & 0 & \\frac{1}{2} & 0 & 0 & \\frac{1}{4}\\end{matrix}\\right]$"
      ],
      "text/plain": [
       "Matrix([\n",
       "[1,   0,   0,   0,   0,   0],\n",
       "[1,   1,   0,   1,   0,   0],\n",
       "[1,   0,   1,   0,   0,   1],\n",
       "[1, 1/2,   0, 1/4,   0,   0],\n",
       "[1, 1/2, 1/2, 1/4, 1/4, 1/4],\n",
       "[1,   0, 1/2,   0,   0, 1/4]])"
      ]
     },
     "execution_count": 15,
     "metadata": {},
     "output_type": "execute_result"
    }
   ],
   "source": [
    "order_2_coeff_to_scalar = sp.zeros(order_2_n_nodes, order_2_n_nodes)\n",
    "for i_node in range(order_2_n_nodes):\n",
    "    order_2_coeff_to_scalar[i_node, :] = order_2_base_functions.subs( \\\n",
    "        {xi: order_2_nodes[i_node, 0], eta: order_2_nodes[i_node, 1]} )\n",
    "    pass\n",
    "order_2_coeff_to_scalar"
   ]
  },
  {
   "cell_type": "code",
   "execution_count": 16,
   "metadata": {},
   "outputs": [],
   "source": [
    "# print(sp.latex(order_2_coeff_to_scalar))"
   ]
  },
  {
   "cell_type": "markdown",
   "metadata": {},
   "source": [
    "which satisfies:\n",
    "\n",
    "$$\n",
    "\\begin{bmatrix}\n",
    "u_1\\\\ u_2\\\\ u_3\\\\ u_4\\\\ u_5\\\\ u_6\n",
    "\\end{bmatrix}=\n",
    "\\begin{bmatrix}1 & 0 & 0 & 0 & 0 & 0\\\\1 & 1 & 0 & 1 & 0 & 0\\\\1 & 0 & 1 & 0 & 0 & 1\\\\1 & \\frac{1}{2} & 0 & \\frac{1}{4} & 0 & 0\\\\1 & \\frac{1}{2} & \\frac{1}{2} & \\frac{1}{4} & \\frac{1}{4} & \\frac{1}{4}\\\\1 & 0 & \\frac{1}{2} & 0 & 0 & \\frac{1}{4}\\end{bmatrix}\n",
    "\\begin{bmatrix}\n",
    "a_0\\\\ a_1\\\\ a_2\\\\ a_3\\\\ a_4\\\\ a_5\n",
    "\\end{bmatrix}\n",
    "$$\n",
    "\n",
    "Thus $\\tilde{u}(\\xi, \\eta)$ can be written as:\n",
    "\n",
    "$$\n",
    "\\begin{aligned}\n",
    "\\tilde{u}(\\xi, \\eta)\n",
    "&= \\begin{bmatrix}1 & \\xi & \\eta & \\xi^2 & \\xi \\eta & \\eta^2\\end{bmatrix}\n",
    "\\begin{bmatrix}\n",
    "a_0\\\\ a_1\\\\ a_2\\\\ a_3\\\\ a_4\\\\ a_5\n",
    "\\end{bmatrix}\\\\\n",
    "&=\\begin{bmatrix}1 & \\xi & \\eta & \\xi^2 & \\xi \\eta & \\eta^2\\end{bmatrix}\n",
    "\\begin{bmatrix}1 & 0 & 0 & 0 & 0 & 0\\\\1 & 1 & 0 & 1 & 0 & 0\\\\1 & 0 & 1 & 0 & 0 & 1\\\\1 & \\frac{1}{2} & 0 & \\frac{1}{4} & 0 & 0\\\\1 & \\frac{1}{2} & \\frac{1}{2} & \\frac{1}{4} & \\frac{1}{4} & \\frac{1}{4}\\\\1 & 0 & \\frac{1}{2} & 0 & 0 & \\frac{1}{4}\\end{bmatrix}^{-1}\n",
    "\\begin{bmatrix}\n",
    "u_1\\\\ u_2\\\\ u_3\\\\ u_4\\\\ u_5\\\\ u_6\n",
    "\\end{bmatrix}\\\\\n",
    "&=\n",
    "\\begin{bmatrix} \\phi_1 & \\phi_2 & \\phi_3 & \\phi_4 & \\phi_5 & \\phi_6\\end{bmatrix}\n",
    "\\begin{bmatrix}\n",
    "u_1\\\\ u_2\\\\ u_3\\\\ u_4\\\\ u_5\\\\ u_6\n",
    "\\end{bmatrix}\n",
    "\\end{aligned}\n",
    "$$"
   ]
  },
  {
   "cell_type": "markdown",
   "metadata": {},
   "source": [
    "## Shape Functions"
   ]
  },
  {
   "cell_type": "code",
   "execution_count": 17,
   "metadata": {},
   "outputs": [
    {
     "data": {
      "text/latex": [
       "$\\displaystyle \\left[\\begin{matrix}2 \\eta^{2} + 4 \\eta \\xi - 3 \\eta + 2 \\xi^{2} - 3 \\xi + 1\\\\\\xi \\left(2 \\xi - 1\\right)\\\\\\eta \\left(2 \\eta - 1\\right)\\\\4 \\xi \\left(- \\eta - \\xi + 1\\right)\\\\4 \\eta \\xi\\\\4 \\eta \\left(- \\eta - \\xi + 1\\right)\\end{matrix}\\right]$"
      ],
      "text/plain": [
       "Matrix([\n",
       "[2*eta**2 + 4*eta*xi - 3*eta + 2*xi**2 - 3*xi + 1],\n",
       "[                                   xi*(2*xi - 1)],\n",
       "[                                 eta*(2*eta - 1)],\n",
       "[                            4*xi*(-eta - xi + 1)],\n",
       "[                                        4*eta*xi],\n",
       "[                           4*eta*(-eta - xi + 1)]])"
      ]
     },
     "execution_count": 17,
     "metadata": {},
     "output_type": "execute_result"
    }
   ],
   "source": [
    "order_2_shape_functions = order_2_base_functions @ order_2_coeff_to_scalar.inv()\n",
    "order_2_shape_functions = sp.simplify(order_2_shape_functions).T\n",
    "order_2_shape_functions"
   ]
  },
  {
   "cell_type": "code",
   "execution_count": 18,
   "metadata": {},
   "outputs": [],
   "source": [
    "# print(sp.latex(order_2_shape_functions))"
   ]
  },
  {
   "cell_type": "markdown",
   "metadata": {},
   "source": [
    "we get the shape functions $\\phi_j(\\xi,\\eta)$ :\n",
    "\n",
    "$$\n",
    "\\begin{bmatrix}\n",
    "\\phi_1 \\\\ \\phi_2 \\\\ \\phi_3 \\\\ \\phi_4 \\\\ \\phi_5 \\\\ \\phi_6\n",
    "\\end{bmatrix}=\n",
    "\\begin{bmatrix}2 \\eta^{2} + 4 \\eta \\xi - 3 \\eta + 2 \\xi^{2} - 3 \\xi + 1\\\\\\xi \\left(2 \\xi - 1\\right)\\\\\\eta \\left(2 \\eta - 1\\right)\\\\4 \\xi \\left(- \\eta - \\xi + 1\\right)\\\\4 \\eta \\xi\\\\4 \\eta \\left(- \\eta - \\xi + 1\\right)\\end{bmatrix}\n",
    "$$\n",
    "\n",
    "shape fucntion $\\phi_j$ should be $1$ at $(\\xi_j, \\eta_j)$ and $0$ at $(\\xi_k, \\eta_k)$ where $k \\neq j$. Let's do a check as below:"
   ]
  },
  {
   "cell_type": "code",
   "execution_count": 19,
   "metadata": {},
   "outputs": [
    {
     "name": "stdout",
     "output_type": "stream",
     "text": [
      "Matrix([[1], [0], [0], [0], [0], [0]])\n",
      "Matrix([[0], [1], [0], [0], [0], [0]])\n",
      "Matrix([[0], [0], [1], [0], [0], [0]])\n",
      "Matrix([[0], [0], [0], [1], [0], [0]])\n",
      "Matrix([[0], [0], [0], [0], [1], [0]])\n",
      "Matrix([[0], [0], [0], [0], [0], [1]])\n"
     ]
    }
   ],
   "source": [
    "for i_node in range(order_2_n_nodes):\n",
    "    print(order_2_shape_functions.subs({xi: order_2_nodes[i_node, 0], eta: order_2_nodes[i_node, 1]}))\n",
    "    pass"
   ]
  },
  {
   "cell_type": "markdown",
   "metadata": {},
   "source": [
    "## Mass Matrix\n",
    "\n",
    "In discontinuous galerkin method, $\\int_\\Omega \\phi_i(x,y)\\phi_j(x,y)d\\Omega$ is needed. While in reference triangle, the integral can be transfered to:\n",
    "\n",
    "$$\n",
    "\\int_\\Omega \\phi_i(x,y)\\phi_j(x,y)d\\Omega=\n",
    "\\int_{\\Omega} |J| \\phi_i(\\xi,\\eta)\\phi_j(\\xi,\\eta)d\\xi d\\eta\n",
    "$$\n",
    "\n",
    "For tri-element, $|J|$ is constant, thus only $\\phi_i\\phi_j$'s integral is needed as below."
   ]
  },
  {
   "cell_type": "code",
   "execution_count": 20,
   "metadata": {},
   "outputs": [
    {
     "data": {
      "text/latex": [
       "$\\displaystyle \\left[\\begin{matrix}\\left(2 \\eta^{2} + 4 \\eta \\xi - 3 \\eta + 2 \\xi^{2} - 3 \\xi + 1\\right)^{2} & \\xi \\left(2 \\xi - 1\\right) \\left(2 \\eta^{2} + 4 \\eta \\xi - 3 \\eta + 2 \\xi^{2} - 3 \\xi + 1\\right) & \\eta \\left(2 \\eta - 1\\right) \\left(2 \\eta^{2} + 4 \\eta \\xi - 3 \\eta + 2 \\xi^{2} - 3 \\xi + 1\\right) & - 4 \\xi \\left(\\eta + \\xi - 1\\right) \\left(2 \\eta^{2} + 4 \\eta \\xi - 3 \\eta + 2 \\xi^{2} - 3 \\xi + 1\\right) & 4 \\eta \\xi \\left(2 \\eta^{2} + 4 \\eta \\xi - 3 \\eta + 2 \\xi^{2} - 3 \\xi + 1\\right) & - 4 \\eta \\left(\\eta + \\xi - 1\\right) \\left(2 \\eta^{2} + 4 \\eta \\xi - 3 \\eta + 2 \\xi^{2} - 3 \\xi + 1\\right)\\\\\\xi \\left(2 \\xi - 1\\right) \\left(2 \\eta^{2} + 4 \\eta \\xi - 3 \\eta + 2 \\xi^{2} - 3 \\xi + 1\\right) & \\xi^{2} \\left(2 \\xi - 1\\right)^{2} & \\eta \\xi \\left(2 \\eta - 1\\right) \\left(2 \\xi - 1\\right) & - 4 \\xi^{2} \\cdot \\left(2 \\xi - 1\\right) \\left(\\eta + \\xi - 1\\right) & 4 \\eta \\xi^{2} \\cdot \\left(2 \\xi - 1\\right) & - 4 \\eta \\xi \\left(2 \\xi - 1\\right) \\left(\\eta + \\xi - 1\\right)\\\\\\eta \\left(2 \\eta - 1\\right) \\left(2 \\eta^{2} + 4 \\eta \\xi - 3 \\eta + 2 \\xi^{2} - 3 \\xi + 1\\right) & \\eta \\xi \\left(2 \\eta - 1\\right) \\left(2 \\xi - 1\\right) & \\eta^{2} \\left(2 \\eta - 1\\right)^{2} & - 4 \\eta \\xi \\left(2 \\eta - 1\\right) \\left(\\eta + \\xi - 1\\right) & 4 \\eta^{2} \\xi \\left(2 \\eta - 1\\right) & - 4 \\eta^{2} \\cdot \\left(2 \\eta - 1\\right) \\left(\\eta + \\xi - 1\\right)\\\\- 4 \\xi \\left(\\eta + \\xi - 1\\right) \\left(2 \\eta^{2} + 4 \\eta \\xi - 3 \\eta + 2 \\xi^{2} - 3 \\xi + 1\\right) & - 4 \\xi^{2} \\cdot \\left(2 \\xi - 1\\right) \\left(\\eta + \\xi - 1\\right) & - 4 \\eta \\xi \\left(2 \\eta - 1\\right) \\left(\\eta + \\xi - 1\\right) & 16 \\xi^{2} \\left(\\eta + \\xi - 1\\right)^{2} & 16 \\eta \\xi^{2} \\left(- \\eta - \\xi + 1\\right) & 16 \\eta \\xi \\left(\\eta + \\xi - 1\\right)^{2}\\\\4 \\eta \\xi \\left(2 \\eta^{2} + 4 \\eta \\xi - 3 \\eta + 2 \\xi^{2} - 3 \\xi + 1\\right) & 4 \\eta \\xi^{2} \\cdot \\left(2 \\xi - 1\\right) & 4 \\eta^{2} \\xi \\left(2 \\eta - 1\\right) & 16 \\eta \\xi^{2} \\left(- \\eta - \\xi + 1\\right) & 16 \\eta^{2} \\xi^{2} & 16 \\eta^{2} \\xi \\left(- \\eta - \\xi + 1\\right)\\\\- 4 \\eta \\left(\\eta + \\xi - 1\\right) \\left(2 \\eta^{2} + 4 \\eta \\xi - 3 \\eta + 2 \\xi^{2} - 3 \\xi + 1\\right) & - 4 \\eta \\xi \\left(2 \\xi - 1\\right) \\left(\\eta + \\xi - 1\\right) & - 4 \\eta^{2} \\cdot \\left(2 \\eta - 1\\right) \\left(\\eta + \\xi - 1\\right) & 16 \\eta \\xi \\left(\\eta + \\xi - 1\\right)^{2} & 16 \\eta^{2} \\xi \\left(- \\eta - \\xi + 1\\right) & 16 \\eta^{2} \\left(\\eta + \\xi - 1\\right)^{2}\\end{matrix}\\right]$"
      ],
      "text/plain": [
       "Matrix([\n",
       "[                   (2*eta**2 + 4*eta*xi - 3*eta + 2*xi**2 - 3*xi + 1)**2, xi*(2*xi - 1)*(2*eta**2 + 4*eta*xi - 3*eta + 2*xi**2 - 3*xi + 1), eta*(2*eta - 1)*(2*eta**2 + 4*eta*xi - 3*eta + 2*xi**2 - 3*xi + 1), -4*xi*(eta + xi - 1)*(2*eta**2 + 4*eta*xi - 3*eta + 2*xi**2 - 3*xi + 1), 4*eta*xi*(2*eta**2 + 4*eta*xi - 3*eta + 2*xi**2 - 3*xi + 1), -4*eta*(eta + xi - 1)*(2*eta**2 + 4*eta*xi - 3*eta + 2*xi**2 - 3*xi + 1)],\n",
       "[        xi*(2*xi - 1)*(2*eta**2 + 4*eta*xi - 3*eta + 2*xi**2 - 3*xi + 1),                                              xi**2*(2*xi - 1)**2,                                      eta*xi*(2*eta - 1)*(2*xi - 1),                                      -4*xi**2*(2*xi - 1)*(eta + xi - 1),                                      4*eta*xi**2*(2*xi - 1),                                      -4*eta*xi*(2*xi - 1)*(eta + xi - 1)],\n",
       "[      eta*(2*eta - 1)*(2*eta**2 + 4*eta*xi - 3*eta + 2*xi**2 - 3*xi + 1),                                    eta*xi*(2*eta - 1)*(2*xi - 1),                                              eta**2*(2*eta - 1)**2,                                    -4*eta*xi*(2*eta - 1)*(eta + xi - 1),                                     4*eta**2*xi*(2*eta - 1),                                     -4*eta**2*(2*eta - 1)*(eta + xi - 1)],\n",
       "[ -4*xi*(eta + xi - 1)*(2*eta**2 + 4*eta*xi - 3*eta + 2*xi**2 - 3*xi + 1),                               -4*xi**2*(2*xi - 1)*(eta + xi - 1),                               -4*eta*xi*(2*eta - 1)*(eta + xi - 1),                                              16*xi**2*(eta + xi - 1)**2,                                16*eta*xi**2*(-eta - xi + 1),                                              16*eta*xi*(eta + xi - 1)**2],\n",
       "[             4*eta*xi*(2*eta**2 + 4*eta*xi - 3*eta + 2*xi**2 - 3*xi + 1),                                           4*eta*xi**2*(2*xi - 1),                                            4*eta**2*xi*(2*eta - 1),                                            16*eta*xi**2*(-eta - xi + 1),                                             16*eta**2*xi**2,                                             16*eta**2*xi*(-eta - xi + 1)],\n",
       "[-4*eta*(eta + xi - 1)*(2*eta**2 + 4*eta*xi - 3*eta + 2*xi**2 - 3*xi + 1),                              -4*eta*xi*(2*xi - 1)*(eta + xi - 1),                               -4*eta**2*(2*eta - 1)*(eta + xi - 1),                                             16*eta*xi*(eta + xi - 1)**2,                                16*eta**2*xi*(-eta - xi + 1),                                              16*eta**2*(eta + xi - 1)**2]])"
      ]
     },
     "execution_count": 20,
     "metadata": {},
     "output_type": "execute_result"
    }
   ],
   "source": [
    "order_2_mass_matrix_not_int = order_2_shape_functions @ order_2_shape_functions.T\n",
    "order_2_mass_matrix_not_int = sp.simplify(order_2_mass_matrix_not_int)\n",
    "order_2_mass_matrix_not_int"
   ]
  },
  {
   "cell_type": "code",
   "execution_count": 21,
   "metadata": {},
   "outputs": [
    {
     "data": {
      "text/latex": [
       "$\\displaystyle \\left[\\begin{matrix}\\frac{1}{60} & - \\frac{1}{360} & - \\frac{1}{360} & 0 & - \\frac{1}{90} & 0\\\\- \\frac{1}{360} & \\frac{1}{60} & - \\frac{1}{360} & 0 & 0 & - \\frac{1}{90}\\\\- \\frac{1}{360} & - \\frac{1}{360} & \\frac{1}{60} & - \\frac{1}{90} & 0 & 0\\\\0 & 0 & - \\frac{1}{90} & \\frac{4}{45} & \\frac{2}{45} & \\frac{2}{45}\\\\- \\frac{1}{90} & 0 & 0 & \\frac{2}{45} & \\frac{4}{45} & \\frac{2}{45}\\\\0 & - \\frac{1}{90} & 0 & \\frac{2}{45} & \\frac{2}{45} & \\frac{4}{45}\\end{matrix}\\right]$"
      ],
      "text/plain": [
       "Matrix([\n",
       "[  1/60, -1/360, -1/360,     0, -1/90,     0],\n",
       "[-1/360,   1/60, -1/360,     0,     0, -1/90],\n",
       "[-1/360, -1/360,   1/60, -1/90,     0,     0],\n",
       "[     0,      0,  -1/90,  4/45,  2/45,  2/45],\n",
       "[ -1/90,      0,      0,  2/45,  4/45,  2/45],\n",
       "[     0,  -1/90,      0,  2/45,  2/45,  4/45]])"
      ]
     },
     "execution_count": 21,
     "metadata": {},
     "output_type": "execute_result"
    }
   ],
   "source": [
    "order_2_mass_matrix_int = sp.integrate(order_2_mass_matrix_not_int, (xi, 0, 1 - eta), (eta, 0, 1))\n",
    "order_2_mass_matrix_int"
   ]
  },
  {
   "cell_type": "code",
   "execution_count": 22,
   "metadata": {},
   "outputs": [
    {
     "name": "stdout",
     "output_type": "stream",
     "text": [
      "[[ 0.01666667 -0.00277778 -0.00277778  0.         -0.01111111  0.        ]\n",
      " [-0.00277778  0.01666667 -0.00277778  0.          0.         -0.01111111]\n",
      " [-0.00277778 -0.00277778  0.01666667 -0.01111111  0.          0.        ]\n",
      " [ 0.          0.         -0.01111111  0.08888889  0.04444444  0.04444444]\n",
      " [-0.01111111  0.          0.          0.04444444  0.08888889  0.04444444]\n",
      " [ 0.         -0.01111111  0.          0.04444444  0.04444444  0.08888889]]\n"
     ]
    }
   ],
   "source": [
    "# transfer it to numpy array\n",
    "order_2_mass_matrix_int_np = np.array(order_2_mass_matrix_int).astype(np.float64)\n",
    "print(order_2_mass_matrix_int_np)"
   ]
  },
  {
   "cell_type": "code",
   "execution_count": 23,
   "metadata": {},
   "outputs": [
    {
     "name": "stdout",
     "output_type": "stream",
     "text": [
      "\\left[\\begin{matrix}\\frac{1}{60} & - \\frac{1}{360} & - \\frac{1}{360} & 0 & - \\frac{1}{90} & 0\\\\- \\frac{1}{360} & \\frac{1}{60} & - \\frac{1}{360} & 0 & 0 & - \\frac{1}{90}\\\\- \\frac{1}{360} & - \\frac{1}{360} & \\frac{1}{60} & - \\frac{1}{90} & 0 & 0\\\\0 & 0 & - \\frac{1}{90} & \\frac{4}{45} & \\frac{2}{45} & \\frac{2}{45}\\\\- \\frac{1}{90} & 0 & 0 & \\frac{2}{45} & \\frac{4}{45} & \\frac{2}{45}\\\\0 & - \\frac{1}{90} & 0 & \\frac{2}{45} & \\frac{2}{45} & \\frac{4}{45}\\end{matrix}\\right]\n"
     ]
    }
   ],
   "source": [
    "print(sp.latex(order_2_mass_matrix_int))"
   ]
  },
  {
   "cell_type": "markdown",
   "metadata": {},
   "source": [
    "# Volume Integral"
   ]
  },
  {
   "cell_type": "markdown",
   "metadata": {},
   "source": [
    "Another part in discontinuous galerkin method is the volume integral $\\int_\\Omega\\vec{f}(\\phi_j u_j)\\cdot\\nabla\\phi_i d\\Omega$. In this part, we need $\\nabla\\phi_i$'s value at the Gauss points $(x_k,y_k)$ as well as $\\phi_j(x,y)$'s value at the Gauss points."
   ]
  },
  {
   "cell_type": "markdown",
   "metadata": {},
   "source": [
    "## $\\nabla \\phi_i$'s value\n",
    "\n",
    "$$\n",
    "\\nabla \\phi_i = \\frac{\\partial \\phi_i}{\\partial x} \\vec{e}_x + \\frac{\\partial \\phi_i}{\\partial y} \\vec{e}_y\n",
    "$$\n",
    "\n",
    "For $\\phi_{i,x}$ we use chain rule:\n",
    "\n",
    "$$\n",
    "\\frac{\\partial \\phi_i}{\\partial x} = \\frac{\\partial \\phi_i}{\\partial \\xi} \\frac{\\partial \\xi}{\\partial x} + \\frac{\\partial \\phi_i}{\\partial \\eta} \\frac{\\partial \\eta}{\\partial x}\n",
    "$$\n",
    "\n",
    "we first get $\\frac{\\partial\\phi_i}{\\partial \\xi}$ and $\\frac{\\partial\\phi_i}{\\partial \\eta}$:"
   ]
  },
  {
   "cell_type": "code",
   "execution_count": 24,
   "metadata": {},
   "outputs": [
    {
     "data": {
      "text/latex": [
       "$\\displaystyle \\left[\\begin{matrix}4 \\eta + 4 \\xi - 3 & 4 \\eta + 4 \\xi - 3\\\\4 \\xi - 1 & 0\\\\0 & 4 \\eta - 1\\\\- 4 \\eta - 8 \\xi + 4 & - 4 \\xi\\\\4 \\eta & 4 \\xi\\\\- 4 \\eta & - 8 \\eta - 4 \\xi + 4\\end{matrix}\\right]$"
      ],
      "text/plain": [
       "Matrix([\n",
       "[ 4*eta + 4*xi - 3,  4*eta + 4*xi - 3],\n",
       "[         4*xi - 1,                 0],\n",
       "[                0,         4*eta - 1],\n",
       "[-4*eta - 8*xi + 4,             -4*xi],\n",
       "[            4*eta,              4*xi],\n",
       "[           -4*eta, -8*eta - 4*xi + 4]])"
      ]
     },
     "execution_count": 24,
     "metadata": {},
     "output_type": "execute_result"
    }
   ],
   "source": [
    "order_2_shape_functions_local_nabla = order_2_shape_functions.jacobian(sp.Matrix([xi, eta]))\n",
    "order_2_shape_functions_local_nabla = sp.simplify(order_2_shape_functions_local_nabla)\n",
    "order_2_shape_functions_local_nabla"
   ]
  },
  {
   "cell_type": "markdown",
   "metadata": {},
   "source": [
    "Then we get $\\frac{\\partial \\xi}{\\partial x}$ and $\\frac{\\partial \\eta}{\\partial x}$:"
   ]
  },
  {
   "cell_type": "code",
   "execution_count": 25,
   "metadata": {},
   "outputs": [
    {
     "data": {
      "text/latex": [
       "$\\displaystyle \\left[\\begin{matrix}\\frac{- y_{1} + y_{3}}{x_{1} y_{2} - x_{1} y_{3} - x_{2} y_{1} + x_{2} y_{3} + x_{3} y_{1} - x_{3} y_{2}} & \\frac{x_{1} - x_{3}}{x_{1} y_{2} - x_{1} y_{3} - x_{2} y_{1} + x_{2} y_{3} + x_{3} y_{1} - x_{3} y_{2}}\\\\\\frac{y_{1} - y_{2}}{x_{1} y_{2} - x_{1} y_{3} - x_{2} y_{1} + x_{2} y_{3} + x_{3} y_{1} - x_{3} y_{2}} & \\frac{- x_{1} + x_{2}}{x_{1} y_{2} - x_{1} y_{3} - x_{2} y_{1} + x_{2} y_{3} + x_{3} y_{1} - x_{3} y_{2}}\\end{matrix}\\right]$"
      ],
      "text/plain": [
       "Matrix([\n",
       "[(-y_1 + y_3)/(x_1*y_2 - x_1*y_3 - x_2*y_1 + x_2*y_3 + x_3*y_1 - x_3*y_2),  (x_1 - x_3)/(x_1*y_2 - x_1*y_3 - x_2*y_1 + x_2*y_3 + x_3*y_1 - x_3*y_2)],\n",
       "[ (y_1 - y_2)/(x_1*y_2 - x_1*y_3 - x_2*y_1 + x_2*y_3 + x_3*y_1 - x_3*y_2), (-x_1 + x_2)/(x_1*y_2 - x_1*y_3 - x_2*y_1 + x_2*y_3 + x_3*y_1 - x_3*y_2)]])"
      ]
     },
     "execution_count": 25,
     "metadata": {},
     "output_type": "execute_result"
    }
   ],
   "source": [
    "jacobian_matrix.inv()"
   ]
  },
  {
   "cell_type": "code",
   "execution_count": 26,
   "metadata": {},
   "outputs": [],
   "source": [
    "x_new = sp.symbols(\"x_new\")\n",
    "y_new = sp.symbols(\"y_new\")\n",
    "xi_new = sp.symbols(\"xi_new\")\n",
    "eta_new = sp.symbols(\"eta_new\")\n",
    "eq1 = sp.Eq(x_new, x.subs({xi: xi_new, eta: eta_new}))\n",
    "eq2 = sp.Eq(y_new, y.subs({xi: xi_new, eta: eta_new}))"
   ]
  },
  {
   "cell_type": "code",
   "execution_count": 27,
   "metadata": {},
   "outputs": [],
   "source": [
    "res_new = sp.solve([eq1, eq2], [xi_new, eta_new])\n",
    "xi_new = xi_new.subs(res_new)\n",
    "eta_new = eta_new.subs(res_new)"
   ]
  },
  {
   "cell_type": "code",
   "execution_count": 28,
   "metadata": {},
   "outputs": [
    {
     "data": {
      "text/latex": [
       "$\\displaystyle \\frac{- x_{1} y_{3} + x_{1} y_{new} + x_{3} y_{1} - x_{3} y_{new} - x_{new} y_{1} + x_{new} y_{3}}{x_{1} y_{2} - x_{1} y_{3} - x_{2} y_{1} + x_{2} y_{3} + x_{3} y_{1} - x_{3} y_{2}}$"
      ],
      "text/plain": [
       "(-x_1*y_3 + x_1*y_new + x_3*y_1 - x_3*y_new - x_new*y_1 + x_new*y_3)/(x_1*y_2 - x_1*y_3 - x_2*y_1 + x_2*y_3 + x_3*y_1 - x_3*y_2)"
      ]
     },
     "execution_count": 28,
     "metadata": {},
     "output_type": "execute_result"
    }
   ],
   "source": [
    "xi_new"
   ]
  },
  {
   "cell_type": "code",
   "execution_count": 29,
   "metadata": {},
   "outputs": [
    {
     "data": {
      "text/latex": [
       "$\\displaystyle \\frac{x_{1} y_{2} - x_{1} y_{new} - x_{2} y_{1} + x_{2} y_{new} + x_{new} y_{1} - x_{new} y_{2}}{x_{1} y_{2} - x_{1} y_{3} - x_{2} y_{1} + x_{2} y_{3} + x_{3} y_{1} - x_{3} y_{2}}$"
      ],
      "text/plain": [
       "(x_1*y_2 - x_1*y_new - x_2*y_1 + x_2*y_new + x_new*y_1 - x_new*y_2)/(x_1*y_2 - x_1*y_3 - x_2*y_1 + x_2*y_3 + x_3*y_1 - x_3*y_2)"
      ]
     },
     "execution_count": 29,
     "metadata": {},
     "output_type": "execute_result"
    }
   ],
   "source": [
    "eta_new"
   ]
  },
  {
   "cell_type": "code",
   "execution_count": 30,
   "metadata": {},
   "outputs": [
    {
     "data": {
      "text/latex": [
       "$\\displaystyle \\left[\\begin{matrix}\\frac{- y_{1} + y_{3}}{x_{1} y_{2} - x_{1} y_{3} - x_{2} y_{1} + x_{2} y_{3} + x_{3} y_{1} - x_{3} y_{2}} & \\frac{x_{1} - x_{3}}{x_{1} y_{2} - x_{1} y_{3} - x_{2} y_{1} + x_{2} y_{3} + x_{3} y_{1} - x_{3} y_{2}}\\\\\\frac{y_{1} - y_{2}}{x_{1} y_{2} - x_{1} y_{3} - x_{2} y_{1} + x_{2} y_{3} + x_{3} y_{1} - x_{3} y_{2}} & \\frac{- x_{1} + x_{2}}{x_{1} y_{2} - x_{1} y_{3} - x_{2} y_{1} + x_{2} y_{3} + x_{3} y_{1} - x_{3} y_{2}}\\end{matrix}\\right]$"
      ],
      "text/plain": [
       "Matrix([\n",
       "[(-y_1 + y_3)/(x_1*y_2 - x_1*y_3 - x_2*y_1 + x_2*y_3 + x_3*y_1 - x_3*y_2),  (x_1 - x_3)/(x_1*y_2 - x_1*y_3 - x_2*y_1 + x_2*y_3 + x_3*y_1 - x_3*y_2)],\n",
       "[ (y_1 - y_2)/(x_1*y_2 - x_1*y_3 - x_2*y_1 + x_2*y_3 + x_3*y_1 - x_3*y_2), (-x_1 + x_2)/(x_1*y_2 - x_1*y_3 - x_2*y_1 + x_2*y_3 + x_3*y_1 - x_3*y_2)]])"
      ]
     },
     "execution_count": 30,
     "metadata": {},
     "output_type": "execute_result"
    }
   ],
   "source": [
    "jacobian_matrix_new = sp.Matrix([xi_new, eta_new]).jacobian(sp.Matrix([x_new, y_new]))\n",
    "jacobian_matrix_new = sp.simplify(jacobian_matrix_new)\n",
    "jacobian_matrix_new"
   ]
  },
  {
   "cell_type": "code",
   "execution_count": 31,
   "metadata": {},
   "outputs": [
    {
     "data": {
      "text/latex": [
       "$\\displaystyle \\left[\\begin{matrix}0 & 0\\\\0 & 0\\end{matrix}\\right]$"
      ],
      "text/plain": [
       "Matrix([\n",
       "[0, 0],\n",
       "[0, 0]])"
      ]
     },
     "execution_count": 31,
     "metadata": {},
     "output_type": "execute_result"
    }
   ],
   "source": [
    "jacobian_matrix_new - jacobian_matrix.inv()"
   ]
  },
  {
   "cell_type": "code",
   "execution_count": 32,
   "metadata": {},
   "outputs": [
    {
     "data": {
      "text/latex": [
       "$\\displaystyle \\left[\\begin{matrix}\\frac{- y_{1} + y_{3}}{x_{1} y_{2} - x_{1} y_{3} - x_{2} y_{1} + x_{2} y_{3} + x_{3} y_{1} - x_{3} y_{2}} & \\frac{x_{1} - x_{3}}{x_{1} y_{2} - x_{1} y_{3} - x_{2} y_{1} + x_{2} y_{3} + x_{3} y_{1} - x_{3} y_{2}}\\\\\\frac{y_{1} - y_{2}}{x_{1} y_{2} - x_{1} y_{3} - x_{2} y_{1} + x_{2} y_{3} + x_{3} y_{1} - x_{3} y_{2}} & \\frac{- x_{1} + x_{2}}{x_{1} y_{2} - x_{1} y_{3} - x_{2} y_{1} + x_{2} y_{3} + x_{3} y_{1} - x_{3} y_{2}}\\end{matrix}\\right]$"
      ],
      "text/plain": [
       "Matrix([\n",
       "[(-y_1 + y_3)/(x_1*y_2 - x_1*y_3 - x_2*y_1 + x_2*y_3 + x_3*y_1 - x_3*y_2),  (x_1 - x_3)/(x_1*y_2 - x_1*y_3 - x_2*y_1 + x_2*y_3 + x_3*y_1 - x_3*y_2)],\n",
       "[ (y_1 - y_2)/(x_1*y_2 - x_1*y_3 - x_2*y_1 + x_2*y_3 + x_3*y_1 - x_3*y_2), (-x_1 + x_2)/(x_1*y_2 - x_1*y_3 - x_2*y_1 + x_2*y_3 + x_3*y_1 - x_3*y_2)]])"
      ]
     },
     "execution_count": 32,
     "metadata": {},
     "output_type": "execute_result"
    }
   ],
   "source": [
    "jacobian_matrix_inv = jacobian_matrix.inv()\n",
    "jacobian_matrix_inv = sp.simplify(jacobian_matrix_inv)\n",
    "jacobian_matrix_inv"
   ]
  },
  {
   "cell_type": "markdown",
   "metadata": {},
   "source": [
    "jacobian matrix:\n",
    "\n",
    "$$\n",
    "\\frac{\\partial (x,y)}{\\partial (\\xi,\\eta)}=\n",
    "\\begin{bmatrix}\n",
    "\\frac{\\partial x}{\\partial \\xi} & \\frac{\\partial x}{\\partial \\eta}\\\\\n",
    "\\frac{\\partial y}{\\partial \\xi} & \\frac{\\partial y}{\\partial \\eta}\n",
    "\\end{bmatrix}=J\n",
    "$$\n",
    "\n",
    "here jacobian matrix's inverse is:\n",
    "\n",
    "$$\n",
    "\\frac{\\partial (\\xi,\\eta)}{\\partial (x,y)}=\n",
    "\\begin{bmatrix}\n",
    "\\frac{\\partial \\xi}{\\partial x} & \\frac{\\partial \\xi}{\\partial y}\\\\\n",
    "\\frac{\\partial \\eta}{\\partial x} & \\frac{\\partial \\eta}{\\partial y}\n",
    "\\end{bmatrix}=J^{-1}\n",
    "$$"
   ]
  },
  {
   "cell_type": "markdown",
   "metadata": {},
   "source": [
    "thus we get $\\nabla \\phi_i$:"
   ]
  },
  {
   "cell_type": "code",
   "execution_count": 33,
   "metadata": {},
   "outputs": [
    {
     "data": {
      "text/latex": [
       "$\\displaystyle \\left[\\begin{matrix}\\frac{\\left(- y_{2} + y_{3}\\right) \\left(4 \\eta + 4 \\xi - 3\\right)}{x_{1} y_{2} - x_{1} y_{3} - x_{2} y_{1} + x_{2} y_{3} + x_{3} y_{1} - x_{3} y_{2}} & \\frac{\\left(x_{2} - x_{3}\\right) \\left(4 \\eta + 4 \\xi - 3\\right)}{x_{1} y_{2} - x_{1} y_{3} - x_{2} y_{1} + x_{2} y_{3} + x_{3} y_{1} - x_{3} y_{2}}\\\\- \\frac{\\left(4 \\xi - 1\\right) \\left(y_{1} - y_{3}\\right)}{x_{1} y_{2} - x_{1} y_{3} - x_{2} y_{1} + x_{2} y_{3} + x_{3} y_{1} - x_{3} y_{2}} & \\frac{\\left(x_{1} - x_{3}\\right) \\left(4 \\xi - 1\\right)}{x_{1} y_{2} - x_{1} y_{3} - x_{2} y_{1} + x_{2} y_{3} + x_{3} y_{1} - x_{3} y_{2}}\\\\\\frac{\\left(4 \\eta - 1\\right) \\left(y_{1} - y_{2}\\right)}{x_{1} y_{2} - x_{1} y_{3} - x_{2} y_{1} + x_{2} y_{3} + x_{3} y_{1} - x_{3} y_{2}} & - \\frac{\\left(4 \\eta - 1\\right) \\left(x_{1} - x_{2}\\right)}{x_{1} y_{2} - x_{1} y_{3} - x_{2} y_{1} + x_{2} y_{3} + x_{3} y_{1} - x_{3} y_{2}}\\\\\\frac{4 \\left(- \\xi \\left(y_{1} - y_{2}\\right) + \\left(y_{1} - y_{3}\\right) \\left(\\eta + 2 \\xi - 1\\right)\\right)}{x_{1} y_{2} - x_{1} y_{3} - x_{2} y_{1} + x_{2} y_{3} + x_{3} y_{1} - x_{3} y_{2}} & \\frac{4 \\left(\\xi \\left(x_{1} - x_{2}\\right) - \\left(x_{1} - x_{3}\\right) \\left(\\eta + 2 \\xi - 1\\right)\\right)}{x_{1} y_{2} - x_{1} y_{3} - x_{2} y_{1} + x_{2} y_{3} + x_{3} y_{1} - x_{3} y_{2}}\\\\\\frac{4 \\left(- \\eta \\left(y_{1} - y_{3}\\right) + \\xi \\left(y_{1} - y_{2}\\right)\\right)}{x_{1} y_{2} - x_{1} y_{3} - x_{2} y_{1} + x_{2} y_{3} + x_{3} y_{1} - x_{3} y_{2}} & \\frac{4 \\left(\\eta \\left(x_{1} - x_{3}\\right) - \\xi \\left(x_{1} - x_{2}\\right)\\right)}{x_{1} y_{2} - x_{1} y_{3} - x_{2} y_{1} + x_{2} y_{3} + x_{3} y_{1} - x_{3} y_{2}}\\\\\\frac{4 \\left(\\eta \\left(y_{1} - y_{3}\\right) - \\left(y_{1} - y_{2}\\right) \\left(2 \\eta + \\xi - 1\\right)\\right)}{x_{1} y_{2} - x_{1} y_{3} - x_{2} y_{1} + x_{2} y_{3} + x_{3} y_{1} - x_{3} y_{2}} & \\frac{4 \\left(- \\eta \\left(x_{1} - x_{3}\\right) + \\left(x_{1} - x_{2}\\right) \\left(2 \\eta + \\xi - 1\\right)\\right)}{x_{1} y_{2} - x_{1} y_{3} - x_{2} y_{1} + x_{2} y_{3} + x_{3} y_{1} - x_{3} y_{2}}\\end{matrix}\\right]$"
      ],
      "text/plain": [
       "Matrix([\n",
       "[                   (-y_2 + y_3)*(4*eta + 4*xi - 3)/(x_1*y_2 - x_1*y_3 - x_2*y_1 + x_2*y_3 + x_3*y_1 - x_3*y_2),                      (x_2 - x_3)*(4*eta + 4*xi - 3)/(x_1*y_2 - x_1*y_3 - x_2*y_1 + x_2*y_3 + x_3*y_1 - x_3*y_2)],\n",
       "[                           -(4*xi - 1)*(y_1 - y_3)/(x_1*y_2 - x_1*y_3 - x_2*y_1 + x_2*y_3 + x_3*y_1 - x_3*y_2),                              (x_1 - x_3)*(4*xi - 1)/(x_1*y_2 - x_1*y_3 - x_2*y_1 + x_2*y_3 + x_3*y_1 - x_3*y_2)],\n",
       "[                           (4*eta - 1)*(y_1 - y_2)/(x_1*y_2 - x_1*y_3 - x_2*y_1 + x_2*y_3 + x_3*y_1 - x_3*y_2),                            -(4*eta - 1)*(x_1 - x_2)/(x_1*y_2 - x_1*y_3 - x_2*y_1 + x_2*y_3 + x_3*y_1 - x_3*y_2)],\n",
       "[4*(-xi*(y_1 - y_2) + (y_1 - y_3)*(eta + 2*xi - 1))/(x_1*y_2 - x_1*y_3 - x_2*y_1 + x_2*y_3 + x_3*y_1 - x_3*y_2),   4*(xi*(x_1 - x_2) - (x_1 - x_3)*(eta + 2*xi - 1))/(x_1*y_2 - x_1*y_3 - x_2*y_1 + x_2*y_3 + x_3*y_1 - x_3*y_2)],\n",
       "[             4*(-eta*(y_1 - y_3) + xi*(y_1 - y_2))/(x_1*y_2 - x_1*y_3 - x_2*y_1 + x_2*y_3 + x_3*y_1 - x_3*y_2),                4*(eta*(x_1 - x_3) - xi*(x_1 - x_2))/(x_1*y_2 - x_1*y_3 - x_2*y_1 + x_2*y_3 + x_3*y_1 - x_3*y_2)],\n",
       "[4*(eta*(y_1 - y_3) - (y_1 - y_2)*(2*eta + xi - 1))/(x_1*y_2 - x_1*y_3 - x_2*y_1 + x_2*y_3 + x_3*y_1 - x_3*y_2), 4*(-eta*(x_1 - x_3) + (x_1 - x_2)*(2*eta + xi - 1))/(x_1*y_2 - x_1*y_3 - x_2*y_1 + x_2*y_3 + x_3*y_1 - x_3*y_2)]])"
      ]
     },
     "execution_count": 33,
     "metadata": {},
     "output_type": "execute_result"
    }
   ],
   "source": [
    "order_2_shape_functions_global_nabla = order_2_shape_functions_local_nabla @ jacobian_matrix_inv\n",
    "order_2_shape_functions_global_nabla = sp.Matrix(order_2_shape_functions_global_nabla)\n",
    "for i_node in range(order_2_n_nodes):\n",
    "    for j_dir in range(2):\n",
    "        order_2_shape_functions_global_nabla[i_node, j_dir] = sp.simplify(order_2_shape_functions_global_nabla[i_node, j_dir])\n",
    "        pass\n",
    "    pass\n",
    "order_2_shape_functions_global_nabla"
   ]
  },
  {
   "cell_type": "code",
   "execution_count": 34,
   "metadata": {},
   "outputs": [],
   "source": [
    "order_2_shape_functions_global_nabla_times_jacobian_det = order_2_shape_functions_global_nabla * jacobian_det"
   ]
  },
  {
   "cell_type": "markdown",
   "metadata": {},
   "source": [
    "it's worth noting that $|J|\\nabla \\phi_i$ is shown below:\n",
    "\n",
    "$$\n",
    "\\begin{bmatrix}\\left(- y_{2} + y_{3}\\right) \\left(4 \\eta + 4 \\xi - 3\\right) & \\left(x_{2} - x_{3}\\right) \\left(4 \\eta + 4 \\xi - 3\\right)\\\\- \\left(4 \\xi - 1\\right) \\left(y_{1} - y_{3}\\right) & \\left(x_{1} - x_{3}\\right) \\left(4 \\xi - 1\\right)\\\\\\left(4 \\eta - 1\\right) \\left(y_{1} - y_{2}\\right) & - \\left(4 \\eta - 1\\right) \\left(x_{1} - x_{2}\\right)\\\\- 4 \\xi \\left(y_{1} - y_{2}\\right) + 4 \\left(y_{1} - y_{3}\\right) \\left(\\eta + 2 \\xi - 1\\right) & 4 \\xi \\left(x_{1} - x_{2}\\right) - 4 \\left(x_{1} - x_{3}\\right) \\left(\\eta + 2 \\xi - 1\\right)\\\\- 4 \\eta \\left(y_{1} - y_{3}\\right) + 4 \\xi \\left(y_{1} - y_{2}\\right) & 4 \\eta \\left(x_{1} - x_{3}\\right) - 4 \\xi \\left(x_{1} - x_{2}\\right)\\\\4 \\eta \\left(y_{1} - y_{3}\\right) - 4 \\left(y_{1} - y_{2}\\right) \\left(2 \\eta + \\xi - 1\\right) & - 4 \\eta \\left(x_{1} - x_{3}\\right) + 4 \\left(x_{1} - x_{2}\\right) \\left(2 \\eta + \\xi - 1\\right)\\end{bmatrix}\n",
    "$$"
   ]
  },
  {
   "cell_type": "code",
   "execution_count": 35,
   "metadata": {},
   "outputs": [],
   "source": [
    "# print(sp.latex(order_2_shape_functions_global_nabla * jacobian_det))"
   ]
  },
  {
   "cell_type": "markdown",
   "metadata": {},
   "source": [
    "## Gauss Points and Weights"
   ]
  },
  {
   "cell_type": "markdown",
   "metadata": {},
   "source": [
    "Gauss integral is often implied in numerical integration. For a reference triangle, the Gauss points and weights are shown in below figure:\n",
    "\n",
    "![Gauss Points and Weights](.//images/tri_gauss_points_and_weights.png)"
   ]
  },
  {
   "cell_type": "code",
   "execution_count": 83,
   "metadata": {},
   "outputs": [],
   "source": [
    "order_2_gauss_nodes = sp.Matrix([\n",
    "    [sp.Rational(1, 6), sp.Rational(1, 6)],\n",
    "    [sp.Rational(2, 3), sp.Rational(1, 6)],\n",
    "    [sp.Rational(1, 6), sp.Rational(2, 3)]\n",
    "])\n",
    "order_2_gauss_weights = sp.Array([\n",
    "    sp.Rational(1, 6),\n",
    "    sp.Rational(1, 6),\n",
    "    sp.Rational(1, 6)\n",
    "])"
   ]
  },
  {
   "cell_type": "code",
   "execution_count": 84,
   "metadata": {},
   "outputs": [
    {
     "data": {
      "text/latex": [
       "$\\displaystyle \\left[\\begin{matrix}\\frac{1}{6} & \\frac{1}{6}\\\\\\frac{2}{3} & \\frac{1}{6}\\\\\\frac{1}{6} & \\frac{2}{3}\\end{matrix}\\right]$"
      ],
      "text/plain": [
       "Matrix([\n",
       "[1/6, 1/6],\n",
       "[2/3, 1/6],\n",
       "[1/6, 2/3]])"
      ]
     },
     "execution_count": 84,
     "metadata": {},
     "output_type": "execute_result"
    }
   ],
   "source": [
    "order_2_gauss_nodes"
   ]
  },
  {
   "cell_type": "code",
   "execution_count": 85,
   "metadata": {},
   "outputs": [
    {
     "data": {
      "text/latex": [
       "$\\displaystyle \\left[\\begin{matrix}\\frac{1}{6} & \\frac{1}{6} & \\frac{1}{6}\\end{matrix}\\right]$"
      ],
      "text/plain": [
       "[1/6, 1/6, 1/6]"
      ]
     },
     "execution_count": 85,
     "metadata": {},
     "output_type": "execute_result"
    }
   ],
   "source": [
    "order_2_gauss_weights"
   ]
  },
  {
   "cell_type": "markdown",
   "metadata": {},
   "source": [
    "## $\\phi$'s Value at Gauss Points"
   ]
  },
  {
   "cell_type": "code",
   "execution_count": 86,
   "metadata": {},
   "outputs": [
    {
     "data": {
      "text/latex": [
       "$\\displaystyle \\left[\\begin{matrix}\\frac{2}{9} & - \\frac{1}{9} & - \\frac{1}{9} & \\frac{4}{9} & \\frac{1}{9} & \\frac{4}{9}\\\\- \\frac{1}{9} & \\frac{2}{9} & - \\frac{1}{9} & \\frac{4}{9} & \\frac{4}{9} & \\frac{1}{9}\\\\- \\frac{1}{9} & - \\frac{1}{9} & \\frac{2}{9} & \\frac{1}{9} & \\frac{4}{9} & \\frac{4}{9}\\end{matrix}\\right]$"
      ],
      "text/plain": [
       "Matrix([\n",
       "[ 2/9, -1/9, -1/9, 4/9, 1/9, 4/9],\n",
       "[-1/9,  2/9, -1/9, 4/9, 4/9, 1/9],\n",
       "[-1/9, -1/9,  2/9, 1/9, 4/9, 4/9]])"
      ]
     },
     "execution_count": 86,
     "metadata": {},
     "output_type": "execute_result"
    }
   ],
   "source": [
    "order_2_shape_functions_number = order_2_shape_functions.shape[0]\n",
    "order_2_gauss_nodes_number = order_2_gauss_nodes.shape[0]\n",
    "order_2_shape_functions_values_on_gauss_points = sp.zeros(order_2_shape_functions_number, order_2_gauss_nodes_number)\n",
    "for j_shape_function in range(order_2_shape_functions_number):\n",
    "    for i_gauss_node in range(order_2_gauss_nodes_number):\n",
    "        order_2_shape_functions_values_on_gauss_points[j_shape_function, i_gauss_node] = \\\n",
    "            order_2_shape_functions[j_shape_function].subs({xi: order_2_gauss_nodes[i_gauss_node, 0], eta: order_2_gauss_nodes[i_gauss_node, 1]})\n",
    "        pass\n",
    "    pass\n",
    "order_2_shape_functions_values_on_gauss_points = order_2_shape_functions_values_on_gauss_points.T\n",
    "order_2_shape_functions_values_on_gauss_points"
   ]
  },
  {
   "cell_type": "markdown",
   "metadata": {},
   "source": [
    "## $\\nabla \\phi$'s Value at Gauss Points"
   ]
  },
  {
   "cell_type": "code",
   "execution_count": 87,
   "metadata": {},
   "outputs": [
    {
     "data": {
      "text/latex": [
       "$\\displaystyle \\left[\\begin{matrix}\\left(- y_{2} + y_{3}\\right) \\left(4 \\eta + 4 \\xi - 3\\right) & \\left(x_{2} - x_{3}\\right) \\left(4 \\eta + 4 \\xi - 3\\right)\\\\- \\left(4 \\xi - 1\\right) \\left(y_{1} - y_{3}\\right) & \\left(x_{1} - x_{3}\\right) \\left(4 \\xi - 1\\right)\\\\\\left(4 \\eta - 1\\right) \\left(y_{1} - y_{2}\\right) & - \\left(4 \\eta - 1\\right) \\left(x_{1} - x_{2}\\right)\\\\- 4 \\xi \\left(y_{1} - y_{2}\\right) + 4 \\left(y_{1} - y_{3}\\right) \\left(\\eta + 2 \\xi - 1\\right) & 4 \\xi \\left(x_{1} - x_{2}\\right) - 4 \\left(x_{1} - x_{3}\\right) \\left(\\eta + 2 \\xi - 1\\right)\\\\- 4 \\eta \\left(y_{1} - y_{3}\\right) + 4 \\xi \\left(y_{1} - y_{2}\\right) & 4 \\eta \\left(x_{1} - x_{3}\\right) - 4 \\xi \\left(x_{1} - x_{2}\\right)\\\\4 \\eta \\left(y_{1} - y_{3}\\right) - 4 \\left(y_{1} - y_{2}\\right) \\left(2 \\eta + \\xi - 1\\right) & - 4 \\eta \\left(x_{1} - x_{3}\\right) + 4 \\left(x_{1} - x_{2}\\right) \\left(2 \\eta + \\xi - 1\\right)\\end{matrix}\\right]$"
      ],
      "text/plain": [
       "[[(-y_2 + y_3)*(4*eta + 4*xi - 3), (x_2 - x_3)*(4*eta + 4*xi - 3)], [-(4*xi - 1)*(y_1 - y_3), (x_1 - x_3)*(4*xi - 1)], [(4*eta - 1)*(y_1 - y_2), -(4*eta - 1)*(x_1 - x_2)], [-4*xi*(y_1 - y_2) + 4*(y_1 - y_3)*(eta + 2*xi - 1), 4*xi*(x_1 - x_2) - 4*(x_1 - x_3)*(eta + 2*xi - 1)], [-4*eta*(y_1 - y_3) + 4*xi*(y_1 - y_2), 4*eta*(x_1 - x_3) - 4*xi*(x_1 - x_2)], [4*eta*(y_1 - y_3) - 4*(y_1 - y_2)*(2*eta + xi - 1), -4*eta*(x_1 - x_3) + 4*(x_1 - x_2)*(2*eta + xi - 1)]]"
      ]
     },
     "execution_count": 87,
     "metadata": {},
     "output_type": "execute_result"
    }
   ],
   "source": [
    "order_2_shape_functions_global_nabla_times_jacobian_det = sp.Array(order_2_shape_functions_global_nabla_times_jacobian_det)\n",
    "order_2_shape_functions_global_nabla_times_jacobian_det"
   ]
  },
  {
   "cell_type": "code",
   "execution_count": 88,
   "metadata": {},
   "outputs": [
    {
     "data": {
      "text/latex": [
       "$\\displaystyle \\left( 3, \\  6, \\  2\\right)$"
      ],
      "text/plain": [
       "(3, 6, 2)"
      ]
     },
     "execution_count": 88,
     "metadata": {},
     "output_type": "execute_result"
    }
   ],
   "source": [
    "order_2_shape_functions_global_nabla_times_jacobian_det_values_on_gauss_nodes = []\n",
    "for i_gauss_node in range(order_2_gauss_nodes_number):\n",
    "    order_2_shape_functions_global_nabla_times_jacobian_det_values_on_gauss_nodes.append(\n",
    "        order_2_shape_functions_global_nabla_times_jacobian_det.subs({xi: order_2_gauss_nodes[i_gauss_node, 0], eta: order_2_gauss_nodes[i_gauss_node, 1]})\n",
    "    )\n",
    "    pass\n",
    "order_2_shape_functions_global_nabla_times_jacobian_det_values_on_gauss_nodes = sp.Array(order_2_shape_functions_global_nabla_times_jacobian_det_values_on_gauss_nodes)\n",
    "order_2_shape_functions_global_nabla_times_jacobian_det_values_on_gauss_nodes.shape"
   ]
  },
  {
   "cell_type": "code",
   "execution_count": 89,
   "metadata": {},
   "outputs": [
    {
     "data": {
      "text/latex": [
       "$\\displaystyle \\left[\\begin{matrix}\\left[\\begin{matrix}\\frac{5 y_{2}}{3} - \\frac{5 y_{3}}{3} & - \\frac{5 x_{2}}{3} + \\frac{5 x_{3}}{3}\\\\\\frac{y_{1}}{3} - \\frac{y_{3}}{3} & - \\frac{x_{1}}{3} + \\frac{x_{3}}{3}\\\\- \\frac{y_{1}}{3} + \\frac{y_{2}}{3} & \\frac{x_{1}}{3} - \\frac{x_{2}}{3}\\\\- \\frac{8 y_{1}}{3} + \\frac{2 y_{2}}{3} + 2 y_{3} & \\frac{8 x_{1}}{3} - \\frac{2 x_{2}}{3} - 2 x_{3}\\\\- \\frac{2 y_{2}}{3} + \\frac{2 y_{3}}{3} & \\frac{2 x_{2}}{3} - \\frac{2 x_{3}}{3}\\\\\\frac{8 y_{1}}{3} - 2 y_{2} - \\frac{2 y_{3}}{3} & - \\frac{8 x_{1}}{3} + 2 x_{2} + \\frac{2 x_{3}}{3}\\end{matrix}\\right] & \\left[\\begin{matrix}- \\frac{y_{2}}{3} + \\frac{y_{3}}{3} & \\frac{x_{2}}{3} - \\frac{x_{3}}{3}\\\\- \\frac{5 y_{1}}{3} + \\frac{5 y_{3}}{3} & \\frac{5 x_{1}}{3} - \\frac{5 x_{3}}{3}\\\\- \\frac{y_{1}}{3} + \\frac{y_{2}}{3} & \\frac{x_{1}}{3} - \\frac{x_{2}}{3}\\\\- \\frac{2 y_{1}}{3} + \\frac{8 y_{2}}{3} - 2 y_{3} & \\frac{2 x_{1}}{3} - \\frac{8 x_{2}}{3} + 2 x_{3}\\\\2 y_{1} - \\frac{8 y_{2}}{3} + \\frac{2 y_{3}}{3} & - 2 x_{1} + \\frac{8 x_{2}}{3} - \\frac{2 x_{3}}{3}\\\\\\frac{2 y_{1}}{3} - \\frac{2 y_{3}}{3} & - \\frac{2 x_{1}}{3} + \\frac{2 x_{3}}{3}\\end{matrix}\\right] & \\left[\\begin{matrix}- \\frac{y_{2}}{3} + \\frac{y_{3}}{3} & \\frac{x_{2}}{3} - \\frac{x_{3}}{3}\\\\\\frac{y_{1}}{3} - \\frac{y_{3}}{3} & - \\frac{x_{1}}{3} + \\frac{x_{3}}{3}\\\\\\frac{5 y_{1}}{3} - \\frac{5 y_{2}}{3} & - \\frac{5 x_{1}}{3} + \\frac{5 x_{2}}{3}\\\\- \\frac{2 y_{1}}{3} + \\frac{2 y_{2}}{3} & \\frac{2 x_{1}}{3} - \\frac{2 x_{2}}{3}\\\\- 2 y_{1} - \\frac{2 y_{2}}{3} + \\frac{8 y_{3}}{3} & 2 x_{1} + \\frac{2 x_{2}}{3} - \\frac{8 x_{3}}{3}\\\\\\frac{2 y_{1}}{3} + 2 y_{2} - \\frac{8 y_{3}}{3} & - \\frac{2 x_{1}}{3} - 2 x_{2} + \\frac{8 x_{3}}{3}\\end{matrix}\\right]\\end{matrix}\\right]$"
      ],
      "text/plain": [
       "[[[5*y_2/3 - 5*y_3/3, -5*x_2/3 + 5*x_3/3], [y_1/3 - y_3/3, -x_1/3 + x_3/3], [-y_1/3 + y_2/3, x_1/3 - x_2/3], [-8*y_1/3 + 2*y_2/3 + 2*y_3, 8*x_1/3 - 2*x_2/3 - 2*x_3], [-2*y_2/3 + 2*y_3/3, 2*x_2/3 - 2*x_3/3], [8*y_1/3 - 2*y_2 - 2*y_3/3, -8*x_1/3 + 2*x_2 + 2*x_3/3]], [[-y_2/3 + y_3/3, x_2/3 - x_3/3], [-5*y_1/3 + 5*y_3/3, 5*x_1/3 - 5*x_3/3], [-y_1/3 + y_2/3, x_1/3 - x_2/3], [-2*y_1/3 + 8*y_2/3 - 2*y_3, 2*x_1/3 - 8*x_2/3 + 2*x_3], [2*y_1 - 8*y_2/3 + 2*y_3/3, -2*x_1 + 8*x_2/3 - 2*x_3/3], [2*y_1/3 - 2*y_3/3, -2*x_1/3 + 2*x_3/3]], [[-y_2/3 + y_3/3, x_2/3 - x_3/3], [y_1/3 - y_3/3, -x_1/3 + x_3/3], [5*y_1/3 - 5*y_2/3, -5*x_1/3 + 5*x_2/3], [-2*y_1/3 + 2*y_2/3, 2*x_1/3 - 2*x_2/3], [-2*y_1 - 2*y_2/3 + 8*y_3/3, 2*x_1 + 2*x_2/3 - 8*x_3/3], [2*y_1/3 + 2*y_2 - 8*y_3/3, -2*x_1/3 - 2*x_2 + 8*x_3/3]]]"
      ]
     },
     "execution_count": 89,
     "metadata": {},
     "output_type": "execute_result"
    }
   ],
   "source": [
    "order_2_shape_functions_global_nabla_times_jacobian_det_values_on_gauss_nodes"
   ]
  },
  {
   "cell_type": "code",
   "execution_count": 95,
   "metadata": {},
   "outputs": [
    {
     "data": {
      "text/latex": [
       "$\\displaystyle \\left[\\begin{matrix}\\frac{5 y_{2}}{18} - \\frac{5 y_{3}}{18} & - \\frac{5 x_{2}}{18} + \\frac{5 x_{3}}{18}\\\\\\frac{y_{1}}{18} - \\frac{y_{3}}{18} & - \\frac{x_{1}}{18} + \\frac{x_{3}}{18}\\\\- \\frac{y_{1}}{18} + \\frac{y_{2}}{18} & \\frac{x_{1}}{18} - \\frac{x_{2}}{18}\\\\- \\frac{4 y_{1}}{9} + \\frac{y_{2}}{9} + \\frac{y_{3}}{3} & \\frac{4 x_{1}}{9} - \\frac{x_{2}}{9} - \\frac{x_{3}}{3}\\\\- \\frac{y_{2}}{9} + \\frac{y_{3}}{9} & \\frac{x_{2}}{9} - \\frac{x_{3}}{9}\\\\\\frac{4 y_{1}}{9} - \\frac{y_{2}}{3} - \\frac{y_{3}}{9} & - \\frac{4 x_{1}}{9} + \\frac{x_{2}}{3} + \\frac{x_{3}}{9}\\end{matrix}\\right]$"
      ],
      "text/plain": [
       "[[5*y_2/18 - 5*y_3/18, -5*x_2/18 + 5*x_3/18], [y_1/18 - y_3/18, -x_1/18 + x_3/18], [-y_1/18 + y_2/18, x_1/18 - x_2/18], [-4*y_1/9 + y_2/9 + y_3/3, 4*x_1/9 - x_2/9 - x_3/3], [-y_2/9 + y_3/9, x_2/9 - x_3/9], [4*y_1/9 - y_2/3 - y_3/9, -4*x_1/9 + x_2/3 + x_3/9]]"
      ]
     },
     "execution_count": 95,
     "metadata": {},
     "output_type": "execute_result"
    }
   ],
   "source": [
    "order_2_gauss_weights[0] * order_2_shape_functions_global_nabla_times_jacobian_det_values_on_gauss_nodes[0]"
   ]
  },
  {
   "cell_type": "code",
   "execution_count": 92,
   "metadata": {},
   "outputs": [
    {
     "data": {
      "text/latex": [
       "$\\displaystyle \\left( 3, \\  3, \\  6, \\  2\\right)$"
      ],
      "text/plain": [
       "(3, 3, 6, 2)"
      ]
     },
     "execution_count": 92,
     "metadata": {},
     "output_type": "execute_result"
    }
   ],
   "source": [
    "a = sp.tensorproduct(order_2_gauss_weights, order_2_shape_functions_global_nabla_times_jacobian_det_values_on_gauss_nodes)\n",
    "a.shape"
   ]
  },
  {
   "cell_type": "code",
   "execution_count": 93,
   "metadata": {},
   "outputs": [
    {
     "data": {
      "text/latex": [
       "$\\displaystyle \\left[\\begin{matrix}\\frac{y_{2}}{6} - \\frac{y_{3}}{6} & - \\frac{x_{2}}{6} + \\frac{x_{3}}{6}\\\\- \\frac{y_{1}}{6} + \\frac{y_{3}}{6} & \\frac{x_{1}}{6} - \\frac{x_{3}}{6}\\\\\\frac{y_{1}}{6} - \\frac{y_{2}}{6} & - \\frac{x_{1}}{6} + \\frac{x_{2}}{6}\\\\- \\frac{2 y_{1}}{3} + \\frac{2 y_{2}}{3} & \\frac{2 x_{1}}{3} - \\frac{2 x_{2}}{3}\\\\- \\frac{2 y_{2}}{3} + \\frac{2 y_{3}}{3} & \\frac{2 x_{2}}{3} - \\frac{2 x_{3}}{3}\\\\\\frac{2 y_{1}}{3} - \\frac{2 y_{3}}{3} & - \\frac{2 x_{1}}{3} + \\frac{2 x_{3}}{3}\\end{matrix}\\right]$"
      ],
      "text/plain": [
       "[[y_2/6 - y_3/6, -x_2/6 + x_3/6], [-y_1/6 + y_3/6, x_1/6 - x_3/6], [y_1/6 - y_2/6, -x_1/6 + x_2/6], [-2*y_1/3 + 2*y_2/3, 2*x_1/3 - 2*x_2/3], [-2*y_2/3 + 2*y_3/3, 2*x_2/3 - 2*x_3/3], [2*y_1/3 - 2*y_3/3, -2*x_1/3 + 2*x_3/3]]"
      ]
     },
     "execution_count": 93,
     "metadata": {},
     "output_type": "execute_result"
    }
   ],
   "source": [
    "sp.tensorcontraction(a, (0, 1))"
   ]
  },
  {
   "cell_type": "code",
   "execution_count": null,
   "metadata": {},
   "outputs": [],
   "source": []
  }
 ],
 "metadata": {
  "kernelspec": {
   "display_name": "Python 3",
   "language": "python",
   "name": "python3"
  },
  "language_info": {
   "codemirror_mode": {
    "name": "ipython",
    "version": 3
   },
   "file_extension": ".py",
   "mimetype": "text/x-python",
   "name": "python",
   "nbconvert_exporter": "python",
   "pygments_lexer": "ipython3",
   "version": "3.11.5"
  }
 },
 "nbformat": 4,
 "nbformat_minor": 2
}
