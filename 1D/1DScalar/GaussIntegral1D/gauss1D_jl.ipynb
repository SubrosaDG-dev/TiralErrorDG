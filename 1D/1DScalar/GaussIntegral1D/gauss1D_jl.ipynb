{
 "cells": [
  {
   "cell_type": "code",
   "execution_count": 1,
   "metadata": {},
   "outputs": [],
   "source": [
    "import PyCall as pycall;\n",
    "sp = pycall.pyimport(\"sympy\");\n",
    "np = pycall.pyimport(\"numpy\");"
   ]
  },
  {
   "cell_type": "code",
   "execution_count": 2,
   "metadata": {},
   "outputs": [],
   "source": [
    "node_num::Int64 = 4;\n",
    "x_start::Float64 = -1.0;\n",
    "x_end::Float64 = 1.0;\n",
    "x = sp.symbols(\"x\");\n",
    "x_int = sp.symbols(\"x_1:$(node_num+1)\");\n",
    "omega_int = sp.symbols(\"omega_1:$(node_num+1)\");"
   ]
  },
  {
   "cell_type": "code",
   "execution_count": 3,
   "metadata": {},
   "outputs": [],
   "source": [
    "equation::Any = [];\n",
    "@time begin\n",
    "for i = 1: 2*node_num\n",
    "    lhs = sum(omega_int .* x_int.^(i-1));\n",
    "    rhs = sp.integrate(x^(i-1), (x, x_start, x_end));\n",
    "    push!(equation, sp.Eq(lhs, rhs));\n",
    "end\n",
    "res = sp.solve(equation, sp.Matrix([x_int, omega_int]).flat());\n",
    "end"
   ]
  },
  {
   "cell_type": "code",
   "execution_count": null,
   "metadata": {},
   "outputs": [],
   "source": [
    "np.array(res[1], dtype=np.float64)"
   ]
  }
 ],
 "metadata": {
  "kernelspec": {
   "display_name": "Julia 1.8.0",
   "language": "julia",
   "name": "julia-1.8"
  },
  "language_info": {
   "file_extension": ".jl",
   "mimetype": "application/julia",
   "name": "julia",
   "version": "1.8.0"
  },
  "orig_nbformat": 4
 },
 "nbformat": 4,
 "nbformat_minor": 2
}
