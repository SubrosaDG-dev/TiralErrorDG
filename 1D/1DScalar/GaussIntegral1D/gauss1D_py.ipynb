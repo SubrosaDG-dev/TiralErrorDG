{
 "cells": [
  {
   "cell_type": "code",
   "execution_count": 1,
   "metadata": {},
   "outputs": [],
   "source": [
    "import sympy as sp\n",
    "from IPython.display import display, Math"
   ]
  },
  {
   "cell_type": "code",
   "execution_count": 2,
   "metadata": {},
   "outputs": [],
   "source": [
    "node_num: int = 3\n",
    "x_start = -1\n",
    "x_end = 1\n",
    "x_int = sp.symbols(\"x_1:\" + str(node_num + 1))\n",
    "omega_int = sp.symbols(\"omega_1:\" + str(node_num + 1))\n",
    "x = sp.symbols(\"x\")"
   ]
  },
  {
   "cell_type": "code",
   "execution_count": 3,
   "metadata": {},
   "outputs": [],
   "source": [
    "polynomialBasicFunction = lambda x, n: x**n"
   ]
  },
  {
   "cell_type": "code",
   "execution_count": 4,
   "metadata": {},
   "outputs": [],
   "source": [
    "eq = list()\n",
    "for i in range(2*node_num):\n",
    "    lhs = 0\n",
    "    for j in range(node_num):\n",
    "        lhs += polynomialBasicFunction(x_int[j], i) * omega_int[j]\n",
    "        pass\n",
    "    rhs = sp.integrate(polynomialBasicFunction(x, i), (x, x_start, x_end))\n",
    "    eq.append(\n",
    "        sp.Eq(lhs, rhs)\n",
    "    )\n",
    "    pass"
   ]
  },
  {
   "cell_type": "code",
   "execution_count": 5,
   "metadata": {},
   "outputs": [
    {
     "data": {
      "text/latex": [
       "$\\displaystyle \\omega_{1} + \\omega_{2} + \\omega_{3} = 2$"
      ],
      "text/plain": [
       "<IPython.core.display.Math object>"
      ]
     },
     "metadata": {},
     "output_type": "display_data"
    },
    {
     "data": {
      "text/latex": [
       "$\\displaystyle \\omega_{1} x_{1} + \\omega_{2} x_{2} + \\omega_{3} x_{3} = 0$"
      ],
      "text/plain": [
       "<IPython.core.display.Math object>"
      ]
     },
     "metadata": {},
     "output_type": "display_data"
    },
    {
     "data": {
      "text/latex": [
       "$\\displaystyle \\omega_{1} x_{1}^{2} + \\omega_{2} x_{2}^{2} + \\omega_{3} x_{3}^{2} = \\frac{2}{3}$"
      ],
      "text/plain": [
       "<IPython.core.display.Math object>"
      ]
     },
     "metadata": {},
     "output_type": "display_data"
    },
    {
     "data": {
      "text/latex": [
       "$\\displaystyle \\omega_{1} x_{1}^{3} + \\omega_{2} x_{2}^{3} + \\omega_{3} x_{3}^{3} = 0$"
      ],
      "text/plain": [
       "<IPython.core.display.Math object>"
      ]
     },
     "metadata": {},
     "output_type": "display_data"
    },
    {
     "data": {
      "text/latex": [
       "$\\displaystyle \\omega_{1} x_{1}^{4} + \\omega_{2} x_{2}^{4} + \\omega_{3} x_{3}^{4} = \\frac{2}{5}$"
      ],
      "text/plain": [
       "<IPython.core.display.Math object>"
      ]
     },
     "metadata": {},
     "output_type": "display_data"
    },
    {
     "data": {
      "text/latex": [
       "$\\displaystyle \\omega_{1} x_{1}^{5} + \\omega_{2} x_{2}^{5} + \\omega_{3} x_{3}^{5} = 0$"
      ],
      "text/plain": [
       "<IPython.core.display.Math object>"
      ]
     },
     "metadata": {},
     "output_type": "display_data"
    }
   ],
   "source": [
    "for i in range(2*node_num):\n",
    "    display(Math(sp.latex(eq[i])))\n",
    "    pass"
   ]
  },
  {
   "cell_type": "code",
   "execution_count": 6,
   "metadata": {},
   "outputs": [
    {
     "data": {
      "text/plain": [
       "[(5/9, 5/9, 8/9, -sqrt(15)/5, sqrt(15)/5, 0),\n",
       " (5/9, 5/9, 8/9, sqrt(15)/5, -sqrt(15)/5, 0),\n",
       " (5/9, 8/9, 5/9, -sqrt(15)/5, 0, sqrt(15)/5),\n",
       " (5/9, 8/9, 5/9, sqrt(15)/5, 0, -sqrt(15)/5),\n",
       " (8/9, 5/9, 5/9, 0, -sqrt(15)/5, sqrt(15)/5),\n",
       " (8/9, 5/9, 5/9, 0, sqrt(15)/5, -sqrt(15)/5)]"
      ]
     },
     "execution_count": 6,
     "metadata": {},
     "output_type": "execute_result"
    }
   ],
   "source": [
    "res = sp.solve(eq, list(omega_int) + list(x_int))\n",
    "res"
   ]
  },
  {
   "cell_type": "code",
   "execution_count": 7,
   "metadata": {},
   "outputs": [
    {
     "data": {
      "text/latex": [
       "$\\displaystyle \\left[\\begin{matrix}\\frac{5}{9} & \\frac{5}{9} & \\frac{8}{9} & - \\frac{\\sqrt{15}}{5} & \\frac{\\sqrt{15}}{5} & 0\\end{matrix}\\right]$"
      ],
      "text/plain": [
       "Matrix([[5/9, 5/9, 8/9, -sqrt(15)/5, sqrt(15)/5, 0]])"
      ]
     },
     "execution_count": 7,
     "metadata": {},
     "output_type": "execute_result"
    }
   ],
   "source": [
    "sp.Matrix(res[0]).T"
   ]
  },
  {
   "cell_type": "code",
   "execution_count": null,
   "metadata": {},
   "outputs": [],
   "source": []
  }
 ],
 "metadata": {
  "kernelspec": {
   "display_name": "Python 3",
   "language": "python",
   "name": "python3"
  },
  "language_info": {
   "codemirror_mode": {
    "name": "ipython",
    "version": 3
   },
   "file_extension": ".py",
   "mimetype": "text/x-python",
   "name": "python",
   "nbconvert_exporter": "python",
   "pygments_lexer": "ipython3",
   "version": "3.11.3"
  },
  "orig_nbformat": 4
 },
 "nbformat": 4,
 "nbformat_minor": 2
}
