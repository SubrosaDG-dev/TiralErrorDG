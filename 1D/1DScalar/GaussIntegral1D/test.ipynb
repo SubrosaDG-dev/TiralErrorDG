{
 "cells": [
  {
   "cell_type": "code",
   "execution_count": 1,
   "metadata": {},
   "outputs": [],
   "source": [
    "import GaussQuadrature as gq;\n",
    "order::Int64 = 3;\n",
    "xi_int::Vector{Float64}, w_int::Vector{Float64} = gq.legendre(order);"
   ]
  },
  {
   "cell_type": "code",
   "execution_count": 2,
   "metadata": {},
   "outputs": [],
   "source": [
    "n_mesh::Int64 = 20;\n",
    "n_node::Int64 = n_mesh + 1;\n",
    "x_begin::Float64 = -10.;\n",
    "x_end::Float64 = 10.;\n",
    "mesh1D::Vector{Float64} = LinRange(x_begin, x_end, n_node);"
   ]
  },
  {
   "cell_type": "code",
   "execution_count": 3,
   "metadata": {},
   "outputs": [],
   "source": [
    "n_step::Int64 = 1000;\n",
    "dt::Float64 = 0.01;\n",
    "initial_function::Function = x->sin(x);"
   ]
  },
  {
   "cell_type": "code",
   "execution_count": 4,
   "metadata": {},
   "outputs": [
    {
     "data": {
      "text/plain": [
       "mesh1DGaussIntegrate (generic function with 1 method)"
      ]
     },
     "metadata": {},
     "output_type": "display_data"
    }
   ],
   "source": [
    "function mesh1DGaussIntegrate(mesh1D::Vector{Float64}, order::Int64)::Vector{Float64}\n",
    "    xi_int::Vector{Float64}, w_int::Vector{Float64} = gq.legendre(order);\n",
    "    N::Int64 = length(mesh1D);\n",
    "    mesh1D_gauss::Vector{Float64} = zeros(Float64, order*(N-1));\n",
    "    for i::Int64 = 1: N-1\n",
    "        mesh1D_gauss[order*(i-1)+1: order*i] = (mesh1D[i+1] - mesh1D[i])/2 .* xi_int .+ (mesh1D[i+1] + mesh1D[i])/2;\n",
    "    end\n",
    "    return mesh1D_gauss;\n",
    "end"
   ]
  },
  {
   "cell_type": "code",
   "execution_count": 5,
   "metadata": {},
   "outputs": [],
   "source": [
    "mesh1D_gauss::Vector{Float64} = mesh1DGaussIntegrate(mesh1D, order);"
   ]
  },
  {
   "cell_type": "code",
   "execution_count": 6,
   "metadata": {},
   "outputs": [
    {
     "data": {
      "text/plain": [
       "60-element Vector{Float64}:\n",
       " -9.887298334620741\n",
       " -9.5\n",
       " -9.112701665379259\n",
       " -8.887298334620741\n",
       " -8.5\n",
       " -8.112701665379259\n",
       " -7.887298334620742\n",
       " -7.5\n",
       " -7.112701665379259\n",
       " -6.887298334620742\n",
       "  ⋮\n",
       "  7.112701665379258\n",
       "  7.5\n",
       "  7.887298334620741\n",
       "  8.112701665379259\n",
       "  8.5\n",
       "  8.887298334620741\n",
       "  9.112701665379259\n",
       "  9.5\n",
       "  9.887298334620741"
      ]
     },
     "metadata": {},
     "output_type": "display_data"
    }
   ],
   "source": [
    "mesh1D_gauss"
   ]
  },
  {
   "cell_type": "code",
   "execution_count": 12,
   "metadata": {},
   "outputs": [
    {
     "data": {
      "text/plain": [
       "([-0.5773502691896257, 0.5773502691896257], [1.0, 1.0])"
      ]
     },
     "metadata": {},
     "output_type": "display_data"
    }
   ],
   "source": [
    "gq.legendre(2)"
   ]
  },
  {
   "cell_type": "code",
   "execution_count": 13,
   "metadata": {},
   "outputs": [
    {
     "data": {
      "text/plain": [
       "([-0.7745966692414835, 4.2500725161431774e-17, 0.7745966692414834], [0.5555555555555557, 0.8888888888888888, 0.5555555555555559])"
      ]
     },
     "metadata": {},
     "output_type": "display_data"
    }
   ],
   "source": [
    "gq.legendre(3)"
   ]
  },
  {
   "cell_type": "code",
   "execution_count": 38,
   "metadata": {},
   "outputs": [
    {
     "data": {
      "text/plain": [
       "([-0.7745966692414835, 4.2500725161431774e-17, 0.7745966692414834], [0.5555555555555557, 0.8888888888888888, 0.5555555555555559])"
      ]
     },
     "metadata": {},
     "output_type": "display_data"
    }
   ],
   "source": [
    "gq.legendre(3)"
   ]
  },
  {
   "cell_type": "code",
   "execution_count": 15,
   "metadata": {},
   "outputs": [],
   "source": [
    "import Gmsh"
   ]
  },
  {
   "cell_type": "code",
   "execution_count": 65,
   "metadata": {},
   "outputs": [
    {
     "name": "stderr",
     "output_type": "stream",
     "text": [
      "Warning : Gmsh has aleady been initialized\n"
     ]
    },
    {
     "data": {
      "text/plain": [
       "4-element Vector{Float64}:\n",
       " 1.0\n",
       " 1.0\n",
       " 1.0\n",
       " 1.0"
      ]
     },
     "metadata": {},
     "output_type": "display_data"
    }
   ],
   "source": [
    "Gmsh.gmsh.initialize()\n",
    "Gmsh.gmsh.model.mesh.getIntegrationPoints(3, \"Gauss3\")[2]"
   ]
  },
  {
   "cell_type": "code",
   "execution_count": 49,
   "metadata": {},
   "outputs": [
    {
     "data": {
      "text/plain": [
       "5"
      ]
     },
     "metadata": {},
     "output_type": "display_data"
    }
   ],
   "source": [
    "Gmsh.gmsh.model.mesh.getElementType(\"Hexahedron\", 1)"
   ]
  },
  {
   "cell_type": "code",
   "execution_count": 72,
   "metadata": {},
   "outputs": [
    {
     "data": {
      "text/plain": [
       "18-element Vector{Float64}:\n",
       " 1.0\n",
       " 0.0\n",
       " 0.0\n",
       " 1.0\n",
       " 0.0\n",
       " 0.0\n",
       " 1.0\n",
       " 0.0\n",
       " 0.0\n",
       " 1.0\n",
       " 0.0\n",
       " 0.0\n",
       " 1.0\n",
       " 0.0\n",
       " 0.0\n",
       " 1.0\n",
       " 0.0\n",
       " 0.0"
      ]
     },
     "metadata": {},
     "output_type": "display_data"
    }
   ],
   "source": [
    "Gmsh.gmsh.model.mesh.getBasisFunctions(2, [0, 0, 0], \"H1Legendre1\")[2]"
   ]
  },
  {
   "cell_type": "code",
   "execution_count": null,
   "metadata": {},
   "outputs": [],
   "source": []
  }
 ],
 "metadata": {
  "kernelspec": {
   "display_name": "Julia 1.8.0",
   "language": "julia",
   "name": "julia-1.8"
  },
  "language_info": {
   "file_extension": ".jl",
   "mimetype": "application/julia",
   "name": "julia",
   "version": "1.8.0"
  },
  "orig_nbformat": 4
 },
 "nbformat": 4,
 "nbformat_minor": 2
}
