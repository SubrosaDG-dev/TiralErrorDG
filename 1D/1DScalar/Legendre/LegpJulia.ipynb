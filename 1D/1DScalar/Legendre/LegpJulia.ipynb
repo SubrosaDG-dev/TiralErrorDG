{
 "cells": [
  {
   "cell_type": "code",
   "execution_count": 1,
   "metadata": {},
   "outputs": [],
   "source": [
    "using Plots;\n",
    "import LegendrePolynomials as legp;"
   ]
  },
  {
   "cell_type": "code",
   "execution_count": 2,
   "metadata": {},
   "outputs": [],
   "source": [
    "x_points = LinRange(-1., 1., 101);\n",
    "order = Vector(0: 6);\n",
    "leg_func = legp.Pl.(x_points, order');"
   ]
  },
  {
   "cell_type": "code",
   "execution_count": 3,
   "metadata": {},
   "outputs": [
    {
     "data": {
      "text/plain": [
       "\"/home/bcynuaa/Project/Thoughts/DGThought/DG1D/Legendre/LegendrePolynomials.png\""
      ]
     },
     "metadata": {},
     "output_type": "display_data"
    }
   ],
   "source": [
    "p = Plots.plot()\n",
    "labels = [\"\\$P_$(i)\\$\" for i in order]\n",
    "for i = 1: length(order)\n",
    "    Plots.plot!(\n",
    "        x_points, leg_func[:, i],\n",
    "        label = labels[i]\n",
    "    )\n",
    "end\n",
    "Plots.plot!(p, legend=:outerright)\n",
    "Plots.savefig(p, \"LegendrePolynomials.png\")"
   ]
  },
  {
   "cell_type": "code",
   "execution_count": 7,
   "metadata": {},
   "outputs": [],
   "source": [
    "import GaussQuadrature as gq"
   ]
  },
  {
   "cell_type": "code",
   "execution_count": null,
   "metadata": {},
   "outputs": [],
   "source": []
  }
 ],
 "metadata": {
  "kernelspec": {
   "display_name": "Julia 1.8.0",
   "language": "julia",
   "name": "julia-1.8"
  },
  "language_info": {
   "file_extension": ".jl",
   "mimetype": "application/julia",
   "name": "julia",
   "version": "1.8.0"
  },
  "orig_nbformat": 4
 },
 "nbformat": 4,
 "nbformat_minor": 2
}
