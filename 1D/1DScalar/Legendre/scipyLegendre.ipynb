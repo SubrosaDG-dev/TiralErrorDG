{
 "cells": [
  {
   "cell_type": "code",
   "execution_count": 1,
   "metadata": {},
   "outputs": [],
   "source": [
    "import sympy as sp"
   ]
  },
  {
   "cell_type": "code",
   "execution_count": 2,
   "metadata": {},
   "outputs": [],
   "source": [
    "xi = sp.symbols(\"xi\")"
   ]
  },
  {
   "cell_type": "code",
   "execution_count": 3,
   "metadata": {},
   "outputs": [],
   "source": [
    "xi_begin = -1\n",
    "xi_end = 1"
   ]
  },
  {
   "cell_type": "code",
   "execution_count": 4,
   "metadata": {},
   "outputs": [],
   "source": [
    "def factor2Legendre(i, j):\n",
    "    phii = sp.polys.orthopolys.legendre_poly(i, xi)\n",
    "    phij = sp.polys.orthopolys.legendre_poly(j, xi)\n",
    "    return sp.integrate(phii*phij, (xi, xi_begin, xi_end))\n",
    "    pass"
   ]
  },
  {
   "cell_type": "code",
   "execution_count": 7,
   "metadata": {},
   "outputs": [
    {
     "data": {
      "text/latex": [
       "$\\displaystyle \\left[\\begin{matrix}2 & 0 & 0\\\\0 & \\frac{2}{3} & 0\\\\0 & 0 & \\frac{2}{5}\\end{matrix}\\right]$"
      ],
      "text/plain": [
       "Matrix([\n",
       "[2,   0,   0],\n",
       "[0, 2/3,   0],\n",
       "[0,   0, 2/5]])"
      ]
     },
     "execution_count": 7,
     "metadata": {},
     "output_type": "execute_result"
    }
   ],
   "source": [
    "N = 3\n",
    "mat = sp.zeros(N, N)\n",
    "for i in range(N):\n",
    "    for j in range(N):\n",
    "        mat[i, j] = factor2Legendre(i, j)\n",
    "        pass\n",
    "    pass\n",
    "mat"
   ]
  },
  {
   "cell_type": "code",
   "execution_count": 6,
   "metadata": {},
   "outputs": [
    {
     "data": {
      "text/latex": [
       "$\\displaystyle \\left[\\begin{matrix}1 & \\xi & \\frac{3 \\xi^{2}}{2} - \\frac{1}{2} & \\frac{5 \\xi^{3}}{2} - \\frac{3 \\xi}{2} & \\frac{35 \\xi^{4}}{8} - \\frac{15 \\xi^{2}}{4} + \\frac{3}{8} & 0 & 0\\end{matrix}\\right]$"
      ],
      "text/plain": [
       "Matrix([[1, xi, 3*xi**2/2 - 1/2, 5*xi**3/2 - 3*xi/2, 35*xi**4/8 - 15*xi**2/4 + 3/8, 0, 0]])"
      ]
     },
     "execution_count": 6,
     "metadata": {},
     "output_type": "execute_result"
    }
   ],
   "source": [
    "expr = sp.zeros(N, 1)\n",
    "for i in range(5):\n",
    "    expr[i] = sp.polys.orthopolys.legendre_poly(i, xi)\n",
    "    pass\n",
    "expr.T"
   ]
  }
 ],
 "metadata": {
  "kernelspec": {
   "display_name": "Python 3",
   "language": "python",
   "name": "python3"
  },
  "language_info": {
   "codemirror_mode": {
    "name": "ipython",
    "version": 3
   },
   "file_extension": ".py",
   "mimetype": "text/x-python",
   "name": "python",
   "nbconvert_exporter": "python",
   "pygments_lexer": "ipython3",
   "version": "3.11.3"
  },
  "orig_nbformat": 4
 },
 "nbformat": 4,
 "nbformat_minor": 2
}
