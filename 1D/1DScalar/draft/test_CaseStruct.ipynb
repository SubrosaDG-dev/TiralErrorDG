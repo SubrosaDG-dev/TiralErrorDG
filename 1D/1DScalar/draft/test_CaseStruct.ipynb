{
 "cells": [
  {
   "cell_type": "code",
   "execution_count": 1,
   "metadata": {},
   "outputs": [],
   "source": [
    "include(\"..//src//CaseDG1D.jl\");\n",
    "import .CaseDG1D as cs;"
   ]
  },
  {
   "cell_type": "code",
   "execution_count": 2,
   "metadata": {},
   "outputs": [],
   "source": [
    "x_begin::Float64 = -10.;\n",
    "x_end::Float64 = 10.;\n",
    "n_node::Int64 = 7\n",
    "mesh1D::Vector{Float64} = cs.generateMesh(x_begin, x_end, n_node);\n",
    "n_gauss::Int64 = 4;\n",
    "n_step::Int64 = 1000;\n",
    "dt::Float64 = 0.004;\n",
    "fuFunction(x::Float64)::Float64 = x^2/2.;\n",
    "function initialFunction(x::Float64)::Float64\n",
    "    if x > 0\n",
    "        return 0.;\n",
    "    else\n",
    "        return 1.;\n",
    "    end # jump function\n",
    "    # return sin(x); # sin(x)\n",
    "end\n",
    "lhsBcFunction(t::Float64)::Float64 = 1.;\n",
    "rhsBcFunction(t::Float64)::Float64 = 0.;\n",
    "interpolation_devide::Int64 = 10;"
   ]
  },
  {
   "cell_type": "code",
   "execution_count": 3,
   "metadata": {},
   "outputs": [],
   "source": [
    "case::cs.Case = cs.generateCase(\n",
    "    mesh1D,\n",
    "    n_gauss,\n",
    "    n_step,\n",
    "    dt,\n",
    "    fuFunction,\n",
    "    initialFunction,\n",
    "    lhsBcFunction,\n",
    "    rhsBcFunction,\n",
    "    interpolation_devide\n",
    ");"
   ]
  },
  {
   "cell_type": "code",
   "execution_count": 4,
   "metadata": {},
   "outputs": [],
   "source": [
    "coeff0::Vector{Float64} = cs.initialCoeff(case);"
   ]
  },
  {
   "cell_type": "code",
   "execution_count": 5,
   "metadata": {},
   "outputs": [
    {
     "data": {
      "text/plain": [
       "2×4 Matrix{Float64}:\n",
       " 1.0  -1.0  1.0  -1.0\n",
       " 1.0   1.0  1.0   1.0"
      ]
     },
     "metadata": {},
     "output_type": "display_data"
    }
   ],
   "source": [
    "case.phi_lrhs"
   ]
  },
  {
   "cell_type": "code",
   "execution_count": 6,
   "metadata": {},
   "outputs": [
    {
     "data": {
      "text/plain": [
       "1×4 adjoint(::Vector{Float64}) with eltype Float64:\n",
       " 1.0  1.0  1.0  1.0"
      ]
     },
     "metadata": {},
     "output_type": "display_data"
    }
   ],
   "source": [
    "case.phi_lrhs[2, :]'"
   ]
  },
  {
   "cell_type": "code",
   "execution_count": 7,
   "metadata": {},
   "outputs": [
    {
     "data": {
      "text/plain": [
       "4×4 Matrix{Float64}:\n",
       " 0.0  1.0  -2.58341   4.06167\n",
       " 0.0  1.0  -1.01994  -0.633097\n",
       " 0.0  1.0   1.01994  -0.633097\n",
       " 0.0  1.0   2.58341   4.06167"
      ]
     },
     "metadata": {},
     "output_type": "display_data"
    }
   ],
   "source": [
    "case.theta_1D"
   ]
  },
  {
   "cell_type": "code",
   "execution_count": 8,
   "metadata": {},
   "outputs": [
    {
     "data": {
      "text/plain": [
       "4-element Vector{Float64}:\n",
       " -0.10425970085279035\n",
       "  0.9870919065086027\n",
       " -0.9468079165351697\n",
       "  5.778261425165074"
      ]
     },
     "metadata": {},
     "output_type": "display_data"
    }
   ],
   "source": [
    "case.theta * [1,2,3,4]"
   ]
  },
  {
   "cell_type": "code",
   "execution_count": 9,
   "metadata": {},
   "outputs": [
    {
     "data": {
      "text/plain": [
       "4×4 Matrix{Float64}:\n",
       " 0.0  1.0  -2.58341   4.06167\n",
       " 0.0  2.0  -2.03989  -1.26619\n",
       " 0.0  3.0   3.05983  -1.89929\n",
       " 0.0  4.0  10.3336   16.2467"
      ]
     },
     "metadata": {},
     "output_type": "display_data"
    }
   ],
   "source": [
    "[1,2,3,4] .* case.theta_1D"
   ]
  },
  {
   "cell_type": "code",
   "execution_count": 10,
   "metadata": {},
   "outputs": [],
   "source": []
  }
 ],
 "metadata": {
  "kernelspec": {
   "display_name": "Julia 1.8.0",
   "language": "julia",
   "name": "julia-1.8"
  },
  "language_info": {
   "file_extension": ".jl",
   "mimetype": "application/julia",
   "name": "julia",
   "version": "1.8.0"
  },
  "orig_nbformat": 4
 },
 "nbformat": 4,
 "nbformat_minor": 2
}
