{
 "cells": [
  {
   "cell_type": "code",
   "execution_count": 1,
   "metadata": {},
   "outputs": [
    {
     "name": "stdout",
     "output_type": "stream",
     "text": [
      "Info    : Reading 'cylinder_2d.msh'...\n",
      "Info    : 18 entities\n",
      "Info    : 23577 nodes\n",
      "Info    : 4482 elements\n",
      "Info    : Done reading 'cylinder_2d.msh'\n"
     ]
    }
   ],
   "source": [
    "import Gmsh: gmsh;\n",
    "\n",
    "gmsh.initialize();\n",
    "\n",
    "gmsh.open(\"cylinder_2d.msh\");"
   ]
  },
  {
   "cell_type": "code",
   "execution_count": 2,
   "metadata": {},
   "outputs": [
    {
     "data": {
      "text/plain": [
       "18-element Vector{Tuple{Int32, Int32}}:\n",
       " (0, 1)\n",
       " (0, 2)\n",
       " (0, 3)\n",
       " (0, 4)\n",
       " (0, 5)\n",
       " (0, 6)\n",
       " (0, 7)\n",
       " (0, 8)\n",
       " (0, 9)\n",
       " (1, 1)\n",
       " (1, 2)\n",
       " (1, 3)\n",
       " (1, 4)\n",
       " (1, 5)\n",
       " (1, 6)\n",
       " (1, 7)\n",
       " (1, 8)\n",
       " (2, 1)"
      ]
     },
     "metadata": {},
     "output_type": "display_data"
    }
   ],
   "source": [
    "entities = gmsh.model.getEntities()"
   ]
  },
  {
   "cell_type": "code",
   "execution_count": 5,
   "metadata": {},
   "outputs": [],
   "source": [
    "global dim, tag\n",
    "for e in entities\n",
    "    dim = e[1];\n",
    "    tag = e[2]\n",
    "end"
   ]
  },
  {
   "cell_type": "code",
   "execution_count": 8,
   "metadata": {},
   "outputs": [
    {
     "name": "stdout",
     "output_type": "stream",
     "text": [
      "dim =2, tag = 1\n"
     ]
    }
   ],
   "source": [
    "println(\"dim =$dim, tag = $tag\")"
   ]
  },
  {
   "cell_type": "code",
   "execution_count": 9,
   "metadata": {},
   "outputs": [
    {
     "data": {
      "text/plain": [
       "(UInt64[0x0000000000000271, 0x0000000000000272, 0x0000000000000273, 0x0000000000000274, 0x0000000000000275, 0x0000000000000276, 0x0000000000000277, 0x0000000000000278, 0x0000000000000279, 0x000000000000027a  …  0x0000000000005c10, 0x0000000000005c11, 0x0000000000005c12, 0x0000000000005c13, 0x0000000000005c14, 0x0000000000005c15, 0x0000000000005c16, 0x0000000000005c17, 0x0000000000005c18, 0x0000000000005c19], [1.018548911892444, 0.2551269235653607, 0.0, 1.071918336460134, 0.2684883415936673, 0.0, 1.130624703484594, 0.2831859014248045, 0.0, 1.195201707211499  …  0.0, -1.251014506844682, 0.7223387337743065, 0.0, -1.262667805856165, 0.7017695880421789, 0.0, -1.236860266819379, 0.6874233354536556, 0.0], Float64[])"
      ]
     },
     "metadata": {},
     "output_type": "display_data"
    }
   ],
   "source": [
    "nodeTags, nodeCoords, nodeParams = gmsh.model.mesh.getNodes(dim, tag)"
   ]
  },
  {
   "cell_type": "code",
   "execution_count": 11,
   "metadata": {},
   "outputs": [
    {
     "data": {
      "text/plain": [
       "22953-element Vector{Int64}:\n",
       "   625\n",
       "   626\n",
       "   627\n",
       "   628\n",
       "   629\n",
       "   630\n",
       "   631\n",
       "   632\n",
       "   633\n",
       "   634\n",
       "     ⋮\n",
       " 23569\n",
       " 23570\n",
       " 23571\n",
       " 23572\n",
       " 23573\n",
       " 23574\n",
       " 23575\n",
       " 23576\n",
       " 23577"
      ]
     },
     "metadata": {},
     "output_type": "display_data"
    }
   ],
   "source": [
    "Int64.(nodeTags)"
   ]
  },
  {
   "cell_type": "code",
   "execution_count": 12,
   "metadata": {},
   "outputs": [
    {
     "data": {
      "text/plain": [
       "68859-element Vector{Float64}:\n",
       "  1.018548911892444\n",
       "  0.2551269235653607\n",
       "  0.0\n",
       "  1.071918336460134\n",
       "  0.2684883415936673\n",
       "  0.0\n",
       "  1.130624703484594\n",
       "  0.2831859014248045\n",
       "  0.0\n",
       "  1.195201707211499\n",
       "  ⋮\n",
       " -1.251014506844682\n",
       "  0.7223387337743065\n",
       "  0.0\n",
       " -1.262667805856165\n",
       "  0.7017695880421789\n",
       "  0.0\n",
       " -1.236860266819379\n",
       "  0.6874233354536556\n",
       "  0.0"
      ]
     },
     "metadata": {},
     "output_type": "display_data"
    }
   ],
   "source": [
    "nodeCoords"
   ]
  },
  {
   "cell_type": "code",
   "execution_count": 13,
   "metadata": {},
   "outputs": [
    {
     "data": {
      "text/plain": [
       "Float64[]"
      ]
     },
     "metadata": {},
     "output_type": "display_data"
    }
   ],
   "source": [
    "nodeParams"
   ]
  },
  {
   "cell_type": "code",
   "execution_count": null,
   "metadata": {},
   "outputs": [],
   "source": []
  }
 ],
 "metadata": {
  "kernelspec": {
   "display_name": "Julia 1.8.0",
   "language": "julia",
   "name": "julia-1.8"
  },
  "language_info": {
   "file_extension": ".jl",
   "mimetype": "application/julia",
   "name": "julia",
   "version": "1.8.0"
  },
  "orig_nbformat": 4
 },
 "nbformat": 4,
 "nbformat_minor": 2
}
