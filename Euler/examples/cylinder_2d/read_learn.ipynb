{
 "cells": [
  {
   "cell_type": "code",
   "execution_count": 1,
   "metadata": {},
   "outputs": [
    {
     "name": "stdout",
     "output_type": "stream",
     "text": [
      "Info    : Reading 'cylinder_2d.msh'...\n",
      "Info    : 18 entities\n",
      "Info    : 23577 nodes\n",
      "Info    : 4482 elements\n",
      "Info    : Done reading 'cylinder_2d.msh'\n"
     ]
    }
   ],
   "source": [
    "import Gmsh: gmsh;\n",
    "\n",
    "gmsh.initialize();\n",
    "\n",
    "gmsh.open(\"cylinder_2d.msh\");"
   ]
  },
  {
   "cell_type": "code",
   "execution_count": 2,
   "metadata": {},
   "outputs": [],
   "source": [
    "node_tags, node_coords, node_params = gmsh.model.mesh.getNodes();"
   ]
  },
  {
   "cell_type": "code",
   "execution_count": 3,
   "metadata": {},
   "outputs": [
    {
     "data": {
      "text/plain": [
       "23577-element Vector{Int64}:\n",
       "     1\n",
       "     2\n",
       "     3\n",
       "     4\n",
       "     5\n",
       "     6\n",
       "     7\n",
       "     8\n",
       "     9\n",
       "    10\n",
       "     ⋮\n",
       " 23569\n",
       " 23570\n",
       " 23571\n",
       " 23572\n",
       " 23573\n",
       " 23574\n",
       " 23575\n",
       " 23576\n",
       " 23577"
      ]
     },
     "metadata": {},
     "output_type": "display_data"
    }
   ],
   "source": [
    "node_tags_ = Int64.(node_tags)"
   ]
  },
  {
   "cell_type": "code",
   "execution_count": 4,
   "metadata": {},
   "outputs": [
    {
     "data": {
      "text/plain": [
       "23577×3 Matrix{Float64}:\n",
       " -5.0      -5.0       0.0\n",
       "  5.0      -5.0       0.0\n",
       "  5.0       5.0       0.0\n",
       " -5.0       5.0       0.0\n",
       " -1.0       0.0       0.0\n",
       "  0.0      -1.0       0.0\n",
       "  1.0       0.0       0.0\n",
       "  0.0       1.0       0.0\n",
       " -4.5      -5.0       0.0\n",
       " -4.0      -5.0       0.0\n",
       "  ⋮                   \n",
       " -1.21105   0.673077  0.0\n",
       " -1.15339   0.665957  0.0\n",
       " -1.17663   0.679381  0.0\n",
       " -1.18759   0.660035  0.0\n",
       " -1.16413   0.646993  0.0\n",
       " -1.22545   0.707572  0.0\n",
       " -1.25101   0.722339  0.0\n",
       " -1.26267   0.70177   0.0\n",
       " -1.23686   0.687423  0.0"
      ]
     },
     "metadata": {},
     "output_type": "display_data"
    }
   ],
   "source": [
    "node_coords_ = Matrix(reshape(node_coords, (3, Int(length(node_coords) / 3)))')"
   ]
  },
  {
   "cell_type": "code",
   "execution_count": 5,
   "metadata": {},
   "outputs": [
    {
     "data": {
      "text/plain": [
       "70731-element Vector{Float64}:\n",
       " -5.0\n",
       " -5.0\n",
       "  0.0\n",
       "  5.0\n",
       " -5.0\n",
       "  0.0\n",
       "  5.0\n",
       "  5.0\n",
       "  0.0\n",
       " -5.0\n",
       "  ⋮\n",
       " -1.251014506844682\n",
       "  0.7223387337743065\n",
       "  0.0\n",
       " -1.262667805856165\n",
       "  0.7017695880421789\n",
       "  0.0\n",
       " -1.236860266819379\n",
       "  0.6874233354536556\n",
       "  0.0"
      ]
     },
     "metadata": {},
     "output_type": "display_data"
    }
   ],
   "source": [
    "node_coords"
   ]
  },
  {
   "cell_type": "code",
   "execution_count": 6,
   "metadata": {},
   "outputs": [
    {
     "data": {
      "text/plain": [
       "(UInt64[0x0000000000000e03, 0x0000000000000e04, 0x0000000000000e05, 0x0000000000000e06, 0x0000000000000e07, 0x0000000000000e08, 0x0000000000000e09, 0x0000000000000e0a, 0x0000000000000e0b, 0x0000000000000e0c  …  0x0000000000001179, 0x000000000000117a, 0x000000000000117b, 0x000000000000117c, 0x000000000000117d, 0x000000000000117e, 0x000000000000117f, 0x0000000000001180, 0x0000000000001181, 0x0000000000001182], UInt64[0x0000000000000007, 0x0000000000000320, 0x0000000000000407, 0x00000000000001b3, 0x000000000000411a, 0x000000000000411b, 0x000000000000411c, 0x000000000000411d, 0x000000000000411e, 0x000000000000411f  …  0x00000000000030d8, 0x00000000000030d7, 0x00000000000049ab, 0x00000000000049aa, 0x0000000000005c11, 0x0000000000005c10, 0x0000000000005c16, 0x0000000000005c17, 0x0000000000005c18, 0x0000000000005c19])"
      ]
     },
     "metadata": {},
     "output_type": "display_data"
    }
   ],
   "source": [
    "gmsh.model.mesh.getElementsByType(36, 1)"
   ]
  },
  {
   "cell_type": "code",
   "execution_count": 7,
   "metadata": {},
   "outputs": [
    {
     "data": {
      "text/plain": [
       "(Int32[21, 36], Vector{UInt64}[[0x00000000000000d1, 0x00000000000000d2, 0x00000000000000d3, 0x00000000000000d4, 0x00000000000000d5, 0x00000000000000d6, 0x00000000000000d7, 0x00000000000000d8, 0x00000000000000d9, 0x00000000000000da  …  0x0000000000000df9, 0x0000000000000dfa, 0x0000000000000dfb, 0x0000000000000dfc, 0x0000000000000dfd, 0x0000000000000dfe, 0x0000000000000dff, 0x0000000000000e00, 0x0000000000000e01, 0x0000000000000e02], [0x0000000000000e03, 0x0000000000000e04, 0x0000000000000e05, 0x0000000000000e06, 0x0000000000000e07, 0x0000000000000e08, 0x0000000000000e09, 0x0000000000000e0a, 0x0000000000000e0b, 0x0000000000000e0c  …  0x0000000000001179, 0x000000000000117a, 0x000000000000117b, 0x000000000000117c, 0x000000000000117d, 0x000000000000117e, 0x000000000000117f, 0x0000000000001180, 0x0000000000001181, 0x0000000000001182]], Vector{UInt64}[[0x0000000000000915, 0x0000000000000b92, 0x000000000000060e, 0x0000000000000c22, 0x0000000000000c23, 0x0000000000000c24, 0x0000000000000c25, 0x0000000000000c26, 0x0000000000000c27, 0x0000000000000c28  …  0x0000000000000bcc, 0x0000000000000c1c, 0x00000000000009c6, 0x0000000000004112, 0x0000000000004111, 0x0000000000002e5f, 0x0000000000002e5e, 0x0000000000001288, 0x0000000000001287, 0x0000000000004119], [0x0000000000000007, 0x0000000000000320, 0x0000000000000407, 0x00000000000001b3, 0x000000000000411a, 0x000000000000411b, 0x000000000000411c, 0x000000000000411d, 0x000000000000411e, 0x000000000000411f  …  0x00000000000030d8, 0x00000000000030d7, 0x00000000000049ab, 0x00000000000049aa, 0x0000000000005c11, 0x0000000000005c10, 0x0000000000005c16, 0x0000000000005c17, 0x0000000000005c18, 0x0000000000005c19]])"
      ]
     },
     "metadata": {},
     "output_type": "display_data"
    }
   ],
   "source": [
    "elemTypes, elemTags, elemNodeTags = gmsh.model.mesh.getElements(2, 1)"
   ]
  },
  {
   "cell_type": "code",
   "execution_count": 8,
   "metadata": {},
   "outputs": [
    {
     "data": {
      "text/plain": [
       "2-element Vector{Int32}:\n",
       " 21\n",
       " 36"
      ]
     },
     "metadata": {},
     "output_type": "display_data"
    }
   ],
   "source": [
    "elemTypes"
   ]
  },
  {
   "cell_type": "code",
   "execution_count": 9,
   "metadata": {},
   "outputs": [
    {
     "data": {
      "text/plain": [
       "3378-element Vector{Int64}:\n",
       "  209\n",
       "  210\n",
       "  211\n",
       "  212\n",
       "  213\n",
       "  214\n",
       "  215\n",
       "  216\n",
       "  217\n",
       "  218\n",
       "    ⋮\n",
       " 3578\n",
       " 3579\n",
       " 3580\n",
       " 3581\n",
       " 3582\n",
       " 3583\n",
       " 3584\n",
       " 3585\n",
       " 3586"
      ]
     },
     "metadata": {},
     "output_type": "display_data"
    }
   ],
   "source": [
    "Int64.(elemTags[1])"
   ]
  },
  {
   "cell_type": "code",
   "execution_count": 10,
   "metadata": {},
   "outputs": [
    {
     "data": {
      "text/plain": [
       "896-element Vector{Int64}:\n",
       " 3587\n",
       " 3588\n",
       " 3589\n",
       " 3590\n",
       " 3591\n",
       " 3592\n",
       " 3593\n",
       " 3594\n",
       " 3595\n",
       " 3596\n",
       "    ⋮\n",
       " 4474\n",
       " 4475\n",
       " 4476\n",
       " 4477\n",
       " 4478\n",
       " 4479\n",
       " 4480\n",
       " 4481\n",
       " 4482"
      ]
     },
     "metadata": {},
     "output_type": "display_data"
    }
   ],
   "source": [
    "Int64.(elemTags[2])"
   ]
  },
  {
   "cell_type": "code",
   "execution_count": 11,
   "metadata": {},
   "outputs": [
    {
     "data": {
      "text/plain": [
       "14336-element Vector{Int64}:\n",
       "     7\n",
       "   800\n",
       "  1031\n",
       "   435\n",
       " 16666\n",
       " 16667\n",
       " 16668\n",
       " 16669\n",
       " 16670\n",
       " 16671\n",
       "     ⋮\n",
       " 12503\n",
       " 18859\n",
       " 18858\n",
       " 23569\n",
       " 23568\n",
       " 23574\n",
       " 23575\n",
       " 23576\n",
       " 23577"
      ]
     },
     "metadata": {},
     "output_type": "display_data"
    }
   ],
   "source": [
    "Int64.(elemNodeTags[2])"
   ]
  },
  {
   "cell_type": "code",
   "execution_count": 12,
   "metadata": {},
   "outputs": [
    {
     "data": {
      "text/plain": [
       "33780-element Vector{Int64}:\n",
       "  2325\n",
       "  2962\n",
       "  1550\n",
       "  3106\n",
       "  3107\n",
       "  3108\n",
       "  3109\n",
       "  3110\n",
       "  3111\n",
       "  3112\n",
       "     ⋮\n",
       "  3100\n",
       "  2502\n",
       " 16658\n",
       " 16657\n",
       " 11871\n",
       " 11870\n",
       "  4744\n",
       "  4743\n",
       " 16665"
      ]
     },
     "metadata": {},
     "output_type": "display_data"
    }
   ],
   "source": [
    "Int.(elemNodeTags[1])"
   ]
  },
  {
   "cell_type": "code",
   "execution_count": 13,
   "metadata": {},
   "outputs": [
    {
     "data": {
      "text/plain": [
       "18-element Vector{Tuple{Int32, Int32}}:\n",
       " (0, 1)\n",
       " (0, 2)\n",
       " (0, 3)\n",
       " (0, 4)\n",
       " (0, 5)\n",
       " (0, 6)\n",
       " (0, 7)\n",
       " (0, 8)\n",
       " (0, 9)\n",
       " (1, 1)\n",
       " (1, 2)\n",
       " (1, 3)\n",
       " (1, 4)\n",
       " (1, 5)\n",
       " (1, 6)\n",
       " (1, 7)\n",
       " (1, 8)\n",
       " (2, 1)"
      ]
     },
     "metadata": {},
     "output_type": "display_data"
    }
   ],
   "source": [
    "entities = gmsh.model.getEntities();\n",
    "entities"
   ]
  },
  {
   "cell_type": "code",
   "execution_count": 14,
   "metadata": {},
   "outputs": [
    {
     "data": {
      "text/plain": [
       "1"
      ]
     },
     "metadata": {},
     "output_type": "display_data"
    }
   ],
   "source": [
    "dim = entities[end][1]\n",
    "tag = entities[end][2]"
   ]
  },
  {
   "cell_type": "code",
   "execution_count": 15,
   "metadata": {},
   "outputs": [
    {
     "data": {
      "text/plain": [
       "2"
      ]
     },
     "metadata": {},
     "output_type": "display_data"
    }
   ],
   "source": [
    "dim"
   ]
  },
  {
   "cell_type": "code",
   "execution_count": 16,
   "metadata": {},
   "outputs": [
    {
     "data": {
      "text/plain": [
       "1"
      ]
     },
     "metadata": {},
     "output_type": "display_data"
    }
   ],
   "source": [
    "tag"
   ]
  },
  {
   "cell_type": "code",
   "execution_count": 17,
   "metadata": {},
   "outputs": [
    {
     "data": {
      "text/plain": [
       "2"
      ]
     },
     "metadata": {},
     "output_type": "display_data"
    }
   ],
   "source": [
    "gmsh.model.getDimension()"
   ]
  },
  {
   "cell_type": "code",
   "execution_count": 18,
   "metadata": {},
   "outputs": [],
   "source": []
  }
 ],
 "metadata": {
  "kernelspec": {
   "display_name": "Julia 1.8.0",
   "language": "julia",
   "name": "julia-1.8"
  },
  "language_info": {
   "file_extension": ".jl",
   "mimetype": "application/julia",
   "name": "julia",
   "version": "1.8.0"
  },
  "orig_nbformat": 4
 },
 "nbformat": 4,
 "nbformat_minor": 2
}
